{
 "cells": [
  {
   "cell_type": "markdown",
   "metadata": {},
   "source": [
    "## Theoretical Question (WORK IN PROGRESSSSSS)"
   ]
  },
  {
   "cell_type": "markdown",
   "metadata": {},
   "source": [
    "You are given the recursive function splitSwap, which accepts an array a, an index i, and a length n.\n",
    "<br>\n",
    "<br>\n",
    "function splitSwap(a, l, n):\n",
    "<br>\n",
    "  if n <= 1:\n",
    "<br>\n",
    "    return\n",
    "<br>\n",
    " splitSwap(a, l, n/2)\n",
    "<br>\n",
    " splitSwap(a, l+ n /2, n/2)\n",
    "<br>\n",
    "  swapList(a, l, n)\n",
    "<br>\n",
    "The subroutine swapList is described here:\n",
    "<br>\n",
    "\n",
    "function swapList(a, l, n):\n",
    "<br>\n",
    "  for i = 1 to n/2:\n",
    "<br>\n",
    "    tmp = a[l + i]\n",
    "<br>\n",
    "    a[l + i] = a[l + n/2 + i]\n",
    "<br>\n",
    "    a[l + n/2 + i] = tmp\n",
    "<br>"
   ]
  },
  {
   "cell_type": "markdown",
   "metadata": {},
   "source": [
    "## Ex.1"
   ]
  },
  {
   "cell_type": "markdown",
   "metadata": {},
   "source": [
    "I'll start analyzing *swapList* computational cost.<br>\n",
    "function swapList(a, l, n):\n",
    "<br><br>\n",
    "  for i = 1 to n/2: **n/2-1 iterations**\n",
    "<br>\n",
    "    tmp = a[l + i] **1 oper.**\n",
    "<br>\n",
    "    a[l + i] = a[l + n/2 + i] **2 oper.**\n",
    "<br>\n",
    "    a[l + n/2 + i] = tmp **1 oper.**\n",
    "<br><br>\n",
    "So we can write, calling the function **g(n)**, $g(n)=O(3(\\frac{n}{2}-1))=O(n)$\n",
    "<br>Now we must write the expression for splitSwap, that we will call **f(n)**.<br><br>\n",
    "function splitSwap(a, l, n):\n",
    "<br>\n",
    "  if n <= 1: **best case scenario 1 operation**\n",
    "<br>\n",
    "    return\n",
    "<br>\n",
    " splitSwap(a, l, n/2)   **it's being called f(n/2)**\n",
    "<br>\n",
    " splitSwap(a, l+ n /2, n/2)  **it's being called f(n/2)**\n",
    "<br>\n",
    "  swapList(a, l, n)  **Here it's called g(n)**\n",
    "<br>\n",
    "<br>\n",
    "So we can write:\n",
    "$\\begin{cases} f(n)=1+2f(\\frac{n}{2})+g(n) \\\\ f(1)=1 \\end{cases}$\n",
    "<br>\n",
    "We can Iterate the first equation to find how many times we must execute until the result, to get then the computation upper estimate. The result will be $O(nlog(n))$ and now I'll show the steps to get this by iteration:<br><br>\n",
    "$f(n)=1+2f(\\frac{n}{2})+g(n)=2[1+2f(\\frac{n}{4})+g(\\frac{n}{4})]+1+g(n)=...=2^if(\\frac{n}{2^i})+\\sum_{i=0}^{i-1}(2^i+g(n))$\n",
    "<br> Let's note I used g(n) because being an O(n), if I divide n inside the g, the estimation won't change.<br>\n",
    "Now we understand that to get f(1) wee need $i=\\log_2n$ so the expression becomes:<br>\n",
    "$=nO(1)+\\sum_{i=0}^{\\log_2n-1}(2^i+g(n))=O(n)+(n-1)+O(n \\log n)$<br>\n",
    "So the function is a $O(n\\log n)$<br><br>\n",
    "If we are allowed to use it, the master theorem can be used here to get a $\\Theta(n \\log n)$ for this fucntion, because g(n) is a $O(n)=\\Theta(n^{\\log_2 2})$ so for the theorem $f(n)=\\Theta(n^{\\log_2 2}\\log n)=O(n\\log n)$"
   ]
  },
  {
   "cell_type": "markdown",
   "metadata": {},
   "source": [
    "## Ex.2"
   ]
  },
  {
   "cell_type": "markdown",
   "metadata": {},
   "source": [
    "*What does this algorithm do?*"
   ]
  },
  {
   "cell_type": "code",
   "execution_count": 37,
   "metadata": {},
   "outputs": [],
   "source": [
    "def swapList(a, l, n):\n",
    "  for i in range(1,int(n/2)+1):\n",
    "    tmp = a[l + i]\n",
    "    a[l + i] = a[l + int(n/2) + i]\n",
    "    a[l + int(n/2) + i] = tmp\n",
    "    print(a)\n",
    "def splitSwap(a, l, n):\n",
    "  if n <= 1:\n",
    "    return\n",
    "  splitSwap(a, l, int(n/2))\n",
    "  splitSwap(a, l+ int(n /2), (n/2))\n",
    "  print(a)\n",
    "  swapList(a, l, n)"
   ]
  },
  {
   "cell_type": "code",
   "execution_count": 38,
   "metadata": {},
   "outputs": [],
   "source": [
    "li = [1,2,3,4,5,6,7,8,9]"
   ]
  },
  {
   "cell_type": "code",
   "execution_count": 41,
   "metadata": {},
   "outputs": [
    {
     "name": "stdout",
     "output_type": "stream",
     "text": [
      "[1, 6, 2, 4, 5, 3, 7, 8, 9]\n",
      "[1, 6, 7, 4, 5, 3, 2, 8, 9]\n",
      "[1, 6, 7, 8, 5, 3, 2, 4, 9]\n",
      "[1, 6, 7, 8, 9, 3, 2, 4, 5]\n"
     ]
    }
   ],
   "source": [
    "swapList(li,0,9)"
   ]
  },
  {
   "cell_type": "code",
   "execution_count": 40,
   "metadata": {},
   "outputs": [
    {
     "data": {
      "text/plain": [
       "[1, 3, 2, 4, 5, 6, 7, 8, 9]"
      ]
     },
     "execution_count": 40,
     "metadata": {},
     "output_type": "execute_result"
    }
   ],
   "source": [
    "li"
   ]
  },
  {
   "cell_type": "code",
   "execution_count": null,
   "metadata": {},
   "outputs": [],
   "source": []
  }
 ],
 "metadata": {
  "kernelspec": {
   "display_name": "Python 3",
   "language": "python",
   "name": "python3"
  },
  "language_info": {
   "codemirror_mode": {
    "name": "ipython",
    "version": 3
   },
   "file_extension": ".py",
   "mimetype": "text/x-python",
   "name": "python",
   "nbconvert_exporter": "python",
   "pygments_lexer": "ipython3",
   "version": "3.7.3"
  }
 },
 "nbformat": 4,
 "nbformat_minor": 2
}
