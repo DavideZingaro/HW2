{
 "cells": [
  {
   "cell_type": "markdown",
   "metadata": {},
   "source": [
    "## Theoretical Question "
   ]
  },
  {
   "cell_type": "markdown",
   "metadata": {},
   "source": [
    "You are given the recursive function splitSwap, which accepts an array a, an index i, and a length n.\n",
    "<br>\n",
    "<br>\n",
    "function splitSwap(a, l, n):\n",
    "<br>\n",
    "  if n <= 1:\n",
    "<br>\n",
    "    return\n",
    "<br>\n",
    " splitSwap(a, l, n/2)\n",
    "<br>\n",
    " splitSwap(a, l+ n /2, n/2)\n",
    "<br>\n",
    "  swapList(a, l, n)\n",
    "<br>\n",
    "The subroutine swapList is described here:\n",
    "<br>\n",
    "\n",
    "function swapList(a, l, n):\n",
    "<br>\n",
    "  for i = 1 to n/2:\n",
    "<br>\n",
    "    tmp = a[l + i]\n",
    "<br>\n",
    "    a[l + i] = a[l + n/2 + i]\n",
    "<br>\n",
    "    a[l + n/2 + i] = tmp\n",
    "<br>"
   ]
  },
  {
   "cell_type": "markdown",
   "metadata": {},
   "source": [
    "## Ex.1"
   ]
  },
  {
   "cell_type": "markdown",
   "metadata": {},
   "source": [
    "I'll start analyzing *swapList* computational cost.<br><br>\n",
    "function swapList(a, l, n):\n",
    "<br>\n",
    "  for i = 1 to n/2: **n/2-1 iterations**\n",
    "<br>\n",
    "    tmp = a[l + i] **1 oper.**\n",
    "<br>\n",
    "    a[l + i] = a[l + n/2 + i] **1 oper.**\n",
    "<br>\n",
    "    a[l + n/2 + i] = tmp **1 oper.**\n",
    "<br><br>\n",
    "So we can write, calling the function **g(n)**, $g(n)=O(3(\\frac{n}{2}-1))=O(n)$\n",
    "<br>Now we must write the expression for splitSwap, that we will call **f(n)**.<br><br>\n",
    "function splitSwap(a, l, n):\n",
    "<br>\n",
    "  if n <= 1: **best case scenario 1 operation**\n",
    "<br>\n",
    "    return\n",
    "<br>\n",
    " splitSwap(a, l, n/2)   **it's being called f(n/2)**\n",
    "<br>\n",
    " splitSwap(a, l+ n /2, n/2)  **it's being called f(n/2)**\n",
    "<br>\n",
    "  swapList(a, l, n)  **Here it's called g(n)**\n",
    "<br>\n",
    "<br>\n",
    "So we can write:\n",
    "$\\begin{cases} f(n)=1+2f(\\frac{n}{2})+g(n) \\\\ f(1)=1 \\end{cases}$\n",
    "<br>\n",
    "We can Iterate the first equation to find how many times we must execute until the result, to get then the computation upper estimate. The result will be $O(nlog(n))$ and now I'll show the steps to get this by iteration:<br><br>\n",
    "$f(n)=1+2f(\\frac{n}{2})+g(n)=2[1+2f(\\frac{n}{4})+g(\\frac{n}{4})]+1+g(n)=...=2^if(\\frac{n}{2^i})+\\sum_{i=0}^{i-1}(2^i+g(n))$\n",
    "<br> Let's note I used g(n) because being an O(n), if I divide n inside the g, the estimation won't change except for the last value that will not create any changes in the sums of O(n).<br>\n",
    "Now we understand that to get f(1) we need $i=\\log_2n$ so the expression becomes:<br>\n",
    "$=nO(1)+\\sum_{i=0}^{\\log_2n-1}(2^i+g(n))=O(n)+(n-1)+O(n \\log n)$<br>\n",
    "So the function is a $O(n\\log n)$<br><br>\n",
    "If we are allowed to use it, the master theorem can be used here to get a $\\Theta(n \\log n)$ for this function, because g(n) is a $O(n)=\\Theta(n^{\\log_2 2})$ so for the theorem $f(n)=\\Theta(n^{\\log_2 2}\\log n)=O(n\\log n)$"
   ]
  },
  {
   "cell_type": "markdown",
   "metadata": {},
   "source": [
    "## Ex.2"
   ]
  },
  {
   "cell_type": "markdown",
   "metadata": {},
   "source": [
    "*What does this algorithm do?*"
   ]
  },
  {
   "cell_type": "code",
   "execution_count": 49,
   "metadata": {},
   "outputs": [],
   "source": [
    "def swapList(a, l, n):\n",
    "  print(l,n)  \n",
    "  for i in range(0,int(n/2)):\n",
    "    tmp = a[l + i]\n",
    "    print('tmp', tmp)\n",
    "    print(l+i,l+i+int(n/2))\n",
    "    a[l + i] = a[l + int(n/2) + i]\n",
    "    print('a[l+i]', a[l+i])\n",
    "    a[l + int(n/2) + i] = tmp\n",
    "    print('a[l + int(n/2) + i]',a[l + int(n/2) + i])\n",
    "    print(a)\n",
    "def splitSwap(a, l, n):\n",
    "  if n <= 1:\n",
    "    return\n",
    "  splitSwap(a, l, int(n/2))\n",
    "  splitSwap(a, l+ int(n /2), (n/2))\n",
    "  print(a)\n",
    "  swapList(a, l, n)"
   ]
  },
  {
   "cell_type": "code",
   "execution_count": 61,
   "metadata": {},
   "outputs": [],
   "source": [
    "li = [1,2,3,4,5,6,7,8]"
   ]
  },
  {
   "cell_type": "code",
   "execution_count": 38,
   "metadata": {
    "scrolled": true
   },
   "outputs": [
    {
     "name": "stdout",
     "output_type": "stream",
     "text": [
      "0 4\n",
      "tmp 2\n",
      "1 3\n",
      "a[l+i] 4\n",
      "a[l + int(n/2) + i] 2\n",
      "[1, 4, 3, 2, 5, 6, 7, 8]\n"
     ]
    }
   ],
   "source": [
    "swapList(li,0,4)"
   ]
  },
  {
   "cell_type": "markdown",
   "metadata": {},
   "source": [
    "As we see above the **swapList** function takes values l and n and a vector a, then proceedes to enter in a for loop from 1 to n//2 and in every one of them she will exchange two values of the vector, in particular the $a[l+i]$ and $a[l+i+n/2]$. To do this she must save in tmp $a[l+i]$, then put in $a[l+i]$ the value of $a[l+i+n/2]$ and then put in $a[l+i+n/2]$ the value of tmp.<br>\n",
    "The function **splitSwap** is a recursive function that calls herself until n is 3 or 2, dividing our vector in 2 subvectors in which she will continue to split until a basic exchange of near values is possible, then she reconstruct all basically reversing the order of values in a subvector noting that the biggest scetion is delimited by the indexes l and n given at the start. Every step she enters the swapList function and exchanges values in the inside. The aim of this funcion is to change the order of subsections of the initial vector, or if n==len(vector) (usually with power of 2 is better bacues with the n/2 we could otherwise loss some exchanges) it will give the reverse of the vector, like I described below with also the prints of every step in the implemented function. The values l and n are the initial boundaries in which we let the reverse happen(from $a[l]$ to $a[n]$ (the last excluded)."
   ]
  },
  {
   "cell_type": "code",
   "execution_count": 62,
   "metadata": {
    "scrolled": true
   },
   "outputs": [
    {
     "name": "stdout",
     "output_type": "stream",
     "text": [
      "[1, 2, 3, 4, 5, 6, 7, 8]\n",
      "0 2\n",
      "tmp 1\n",
      "0 1\n",
      "a[l+i] 2\n",
      "a[l + int(n/2) + i] 1\n",
      "[2, 1, 3, 4, 5, 6, 7, 8]\n",
      "[2, 1, 3, 4, 5, 6, 7, 8]\n",
      "2 2.0\n",
      "tmp 3\n",
      "2 3\n",
      "a[l+i] 4\n",
      "a[l + int(n/2) + i] 3\n",
      "[2, 1, 4, 3, 5, 6, 7, 8]\n",
      "[2, 1, 4, 3, 5, 6, 7, 8]\n",
      "0 4\n",
      "tmp 2\n",
      "0 2\n",
      "a[l+i] 4\n",
      "a[l + int(n/2) + i] 2\n",
      "[4, 1, 2, 3, 5, 6, 7, 8]\n",
      "tmp 1\n",
      "1 3\n",
      "a[l+i] 3\n",
      "a[l + int(n/2) + i] 1\n",
      "[4, 3, 2, 1, 5, 6, 7, 8]\n",
      "[4, 3, 2, 1, 5, 6, 7, 8]\n",
      "4 2\n",
      "tmp 5\n",
      "4 5\n",
      "a[l+i] 6\n",
      "a[l + int(n/2) + i] 5\n",
      "[4, 3, 2, 1, 6, 5, 7, 8]\n",
      "[4, 3, 2, 1, 6, 5, 7, 8]\n",
      "6 2.0\n",
      "tmp 7\n",
      "6 7\n",
      "a[l+i] 8\n",
      "a[l + int(n/2) + i] 7\n",
      "[4, 3, 2, 1, 6, 5, 8, 7]\n",
      "[4, 3, 2, 1, 6, 5, 8, 7]\n",
      "4 4.0\n",
      "tmp 6\n",
      "4 6\n",
      "a[l+i] 8\n",
      "a[l + int(n/2) + i] 6\n",
      "[4, 3, 2, 1, 8, 5, 6, 7]\n",
      "tmp 5\n",
      "5 7\n",
      "a[l+i] 7\n",
      "a[l + int(n/2) + i] 5\n",
      "[4, 3, 2, 1, 8, 7, 6, 5]\n",
      "[4, 3, 2, 1, 8, 7, 6, 5]\n",
      "0 8\n",
      "tmp 4\n",
      "0 4\n",
      "a[l+i] 8\n",
      "a[l + int(n/2) + i] 4\n",
      "[8, 3, 2, 1, 4, 7, 6, 5]\n",
      "tmp 3\n",
      "1 5\n",
      "a[l+i] 7\n",
      "a[l + int(n/2) + i] 3\n",
      "[8, 7, 2, 1, 4, 3, 6, 5]\n",
      "tmp 2\n",
      "2 6\n",
      "a[l+i] 6\n",
      "a[l + int(n/2) + i] 2\n",
      "[8, 7, 6, 1, 4, 3, 2, 5]\n",
      "tmp 1\n",
      "3 7\n",
      "a[l+i] 5\n",
      "a[l + int(n/2) + i] 1\n",
      "[8, 7, 6, 5, 4, 3, 2, 1]\n"
     ]
    }
   ],
   "source": [
    "splitSwap(li,0,8)"
   ]
  },
  {
   "cell_type": "markdown",
   "metadata": {},
   "source": [
    "The algorithm is optimal because for typical serial sorting algorithms good behavior is O(n log n), with parallel sort in O(log2 n), and bad behavior is O(n2), and in this case we have O(n log n) and even if it's not properly a sorting algorithm it has many similar features if we consider 'ordered' the list in the first step that we want to order in the other way. The code gives a lot of possibilities because you can change the order or only subsection very easily, or of all the vector. I can say that the .reverse() function has a complexity that is a O(n) so if you want only to reverse the vector you should use .reverse()."
   ]
  }
 ],
 "metadata": {
  "kernelspec": {
   "display_name": "Python 3",
   "language": "python",
   "name": "python3"
  },
  "language_info": {
   "codemirror_mode": {
    "name": "ipython",
    "version": 3
   },
   "file_extension": ".py",
   "mimetype": "text/x-python",
   "name": "python",
   "nbconvert_exporter": "python",
   "pygments_lexer": "ipython3",
   "version": "3.7.3"
  }
 },
 "nbformat": 4,
 "nbformat_minor": 2
}
