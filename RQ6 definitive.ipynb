{
 "cells": [
  {
   "cell_type": "code",
   "execution_count": null,
   "metadata": {},
   "outputs": [],
   "source": []
  },
  {
   "cell_type": "markdown",
   "metadata": {},
   "source": [
    "# [RQ6] Free your mind!\n",
    "For this task, we need to find another interesting result about the dataset we've been working on. "
   ]
  },
  {
   "cell_type": "markdown",
   "metadata": {},
   "source": [
    "#### Lefty percentage\n",
    "We thought about finding some unexpected differences between the percentage of left-footed vs right-footed players, and in particular which role showed the most interesting results.\n",
    "\n",
    "It's a known fact that 10% of the population is left-handed, while the rest is in majority right-handed and, for a tiny part, ambidextrous. We wonder if being left-footed can be an advantage into the field and where, during a competitive match.\n",
    "\n"
   ]
  },
  {
   "cell_type": "markdown",
   "metadata": {},
   "source": [
    "---"
   ]
  },
  {
   "cell_type": "markdown",
   "metadata": {},
   "source": [
    "Let's start importing the necessary libraries and creating the 'players' dataframe"
   ]
  },
  {
   "cell_type": "code",
   "execution_count": 5,
   "metadata": {},
   "outputs": [
    {
     "data": {
      "text/html": [
       "<div>\n",
       "<style scoped>\n",
       "    .dataframe tbody tr th:only-of-type {\n",
       "        vertical-align: middle;\n",
       "    }\n",
       "\n",
       "    .dataframe tbody tr th {\n",
       "        vertical-align: top;\n",
       "    }\n",
       "\n",
       "    .dataframe thead th {\n",
       "        text-align: right;\n",
       "    }\n",
       "</style>\n",
       "<table border=\"1\" class=\"dataframe\">\n",
       "  <thead>\n",
       "    <tr style=\"text-align: right;\">\n",
       "      <th></th>\n",
       "      <th>birthArea</th>\n",
       "      <th>birthDate</th>\n",
       "      <th>currentNationalTeamId</th>\n",
       "      <th>currentTeamId</th>\n",
       "      <th>firstName</th>\n",
       "      <th>foot</th>\n",
       "      <th>height</th>\n",
       "      <th>lastName</th>\n",
       "      <th>middleName</th>\n",
       "      <th>passportArea</th>\n",
       "      <th>role</th>\n",
       "      <th>shortName</th>\n",
       "      <th>weight</th>\n",
       "      <th>wyId</th>\n",
       "    </tr>\n",
       "  </thead>\n",
       "  <tbody>\n",
       "    <tr>\n",
       "      <th>0</th>\n",
       "      <td>{'name': 'Turkey', 'id': '792', 'alpha3code': ...</td>\n",
       "      <td>1989-06-17</td>\n",
       "      <td>4687</td>\n",
       "      <td>4502</td>\n",
       "      <td>Harun</td>\n",
       "      <td>right</td>\n",
       "      <td>187</td>\n",
       "      <td>Tekin</td>\n",
       "      <td></td>\n",
       "      <td>{'name': 'Turkey', 'id': '792', 'alpha3code': ...</td>\n",
       "      <td>{'code2': 'GK', 'code3': 'GKP', 'name': 'Goalk...</td>\n",
       "      <td>H. Tekin</td>\n",
       "      <td>78</td>\n",
       "      <td>32777</td>\n",
       "    </tr>\n",
       "    <tr>\n",
       "      <th>1</th>\n",
       "      <td>{'name': 'France', 'id': '250', 'alpha3code': ...</td>\n",
       "      <td>1999-01-23</td>\n",
       "      <td>4423</td>\n",
       "      <td>3775</td>\n",
       "      <td>Malang</td>\n",
       "      <td>left</td>\n",
       "      <td>182</td>\n",
       "      <td>Sarr</td>\n",
       "      <td></td>\n",
       "      <td>{'name': 'Senegal', 'id': '686', 'alpha3code':...</td>\n",
       "      <td>{'code2': 'DF', 'code3': 'DEF', 'name': 'Defen...</td>\n",
       "      <td>M. Sarr</td>\n",
       "      <td>73</td>\n",
       "      <td>393228</td>\n",
       "    </tr>\n",
       "    <tr>\n",
       "      <th>2</th>\n",
       "      <td>{'name': 'France', 'id': '250', 'alpha3code': ...</td>\n",
       "      <td>1998-10-26</td>\n",
       "      <td>null</td>\n",
       "      <td>3772</td>\n",
       "      <td>Over</td>\n",
       "      <td></td>\n",
       "      <td>176</td>\n",
       "      <td>Mandanda</td>\n",
       "      <td></td>\n",
       "      <td>{'name': 'France', 'id': '250', 'alpha3code': ...</td>\n",
       "      <td>{'code2': 'GK', 'code3': 'GKP', 'name': 'Goalk...</td>\n",
       "      <td>O. Mandanda</td>\n",
       "      <td>72</td>\n",
       "      <td>393230</td>\n",
       "    </tr>\n",
       "    <tr>\n",
       "      <th>3</th>\n",
       "      <td>{'name': 'France', 'id': '250', 'alpha3code': ...</td>\n",
       "      <td>1990-03-06</td>\n",
       "      <td>19314</td>\n",
       "      <td>683</td>\n",
       "      <td>Alfred John Momar</td>\n",
       "      <td>right</td>\n",
       "      <td>187</td>\n",
       "      <td>N'Diaye</td>\n",
       "      <td></td>\n",
       "      <td>{'name': 'Senegal', 'id': '686', 'alpha3code':...</td>\n",
       "      <td>{'code2': 'MD', 'code3': 'MID', 'name': 'Midfi...</td>\n",
       "      <td>A. N'Diaye</td>\n",
       "      <td>82</td>\n",
       "      <td>32793</td>\n",
       "    </tr>\n",
       "    <tr>\n",
       "      <th>4</th>\n",
       "      <td>{'name': 'France', 'id': '250', 'alpha3code': ...</td>\n",
       "      <td>1999-05-25</td>\n",
       "      <td>null</td>\n",
       "      <td>2975</td>\n",
       "      <td>Ibrahima</td>\n",
       "      <td>right</td>\n",
       "      <td>192</td>\n",
       "      <td>Konat\\u00e9</td>\n",
       "      <td></td>\n",
       "      <td>{'name': 'France', 'id': '250', 'alpha3code': ...</td>\n",
       "      <td>{'code2': 'DF', 'code3': 'DEF', 'name': 'Defen...</td>\n",
       "      <td>I. Konat\\u00e9</td>\n",
       "      <td>84</td>\n",
       "      <td>393247</td>\n",
       "    </tr>\n",
       "  </tbody>\n",
       "</table>\n",
       "</div>"
      ],
      "text/plain": [
       "                                           birthArea   birthDate  \\\n",
       "0  {'name': 'Turkey', 'id': '792', 'alpha3code': ...  1989-06-17   \n",
       "1  {'name': 'France', 'id': '250', 'alpha3code': ...  1999-01-23   \n",
       "2  {'name': 'France', 'id': '250', 'alpha3code': ...  1998-10-26   \n",
       "3  {'name': 'France', 'id': '250', 'alpha3code': ...  1990-03-06   \n",
       "4  {'name': 'France', 'id': '250', 'alpha3code': ...  1999-05-25   \n",
       "\n",
       "  currentNationalTeamId currentTeamId          firstName   foot  height  \\\n",
       "0                  4687          4502              Harun  right     187   \n",
       "1                  4423          3775             Malang   left     182   \n",
       "2                  null          3772               Over            176   \n",
       "3                 19314           683  Alfred John Momar  right     187   \n",
       "4                  null          2975           Ibrahima  right     192   \n",
       "\n",
       "      lastName middleName                                       passportArea  \\\n",
       "0        Tekin             {'name': 'Turkey', 'id': '792', 'alpha3code': ...   \n",
       "1         Sarr             {'name': 'Senegal', 'id': '686', 'alpha3code':...   \n",
       "2     Mandanda             {'name': 'France', 'id': '250', 'alpha3code': ...   \n",
       "3      N'Diaye             {'name': 'Senegal', 'id': '686', 'alpha3code':...   \n",
       "4  Konat\\u00e9             {'name': 'France', 'id': '250', 'alpha3code': ...   \n",
       "\n",
       "                                                role       shortName  weight  \\\n",
       "0  {'code2': 'GK', 'code3': 'GKP', 'name': 'Goalk...        H. Tekin      78   \n",
       "1  {'code2': 'DF', 'code3': 'DEF', 'name': 'Defen...         M. Sarr      73   \n",
       "2  {'code2': 'GK', 'code3': 'GKP', 'name': 'Goalk...     O. Mandanda      72   \n",
       "3  {'code2': 'MD', 'code3': 'MID', 'name': 'Midfi...      A. N'Diaye      82   \n",
       "4  {'code2': 'DF', 'code3': 'DEF', 'name': 'Defen...  I. Konat\\u00e9      84   \n",
       "\n",
       "     wyId  \n",
       "0   32777  \n",
       "1  393228  \n",
       "2  393230  \n",
       "3   32793  \n",
       "4  393247  "
      ]
     },
     "execution_count": 5,
     "metadata": {},
     "output_type": "execute_result"
    }
   ],
   "source": [
    "import pandas as pd\n",
    "import matplotlib.pyplot as plt\n",
    "import json\n",
    "import math\n",
    "import numpy as np\n",
    "%matplotlib inline\n",
    "\n",
    "with open(r'C:\\Users\\Notebook HP\\Desktop\\Homeworks\\HW2\\players.json', 'r') as myfile:\n",
    "    data = myfile.read()\n",
    "play = json.loads(data)\n",
    "players = pd.DataFrame(play)\n",
    "players.head()"
   ]
  },
  {
   "cell_type": "markdown",
   "metadata": {},
   "source": [
    "We divide this dataframes into 'left' and 'right' dataframes, which got the 'foot' values left and right."
   ]
  },
  {
   "cell_type": "code",
   "execution_count": 13,
   "metadata": {},
   "outputs": [
    {
     "data": {
      "text/html": [
       "<div>\n",
       "<style scoped>\n",
       "    .dataframe tbody tr th:only-of-type {\n",
       "        vertical-align: middle;\n",
       "    }\n",
       "\n",
       "    .dataframe tbody tr th {\n",
       "        vertical-align: top;\n",
       "    }\n",
       "\n",
       "    .dataframe thead th {\n",
       "        text-align: right;\n",
       "    }\n",
       "</style>\n",
       "<table border=\"1\" class=\"dataframe\">\n",
       "  <thead>\n",
       "    <tr style=\"text-align: right;\">\n",
       "      <th></th>\n",
       "      <th>birthArea</th>\n",
       "      <th>birthDate</th>\n",
       "      <th>currentNationalTeamId</th>\n",
       "      <th>currentTeamId</th>\n",
       "      <th>firstName</th>\n",
       "      <th>foot</th>\n",
       "      <th>height</th>\n",
       "      <th>lastName</th>\n",
       "      <th>middleName</th>\n",
       "      <th>passportArea</th>\n",
       "      <th>role</th>\n",
       "      <th>shortName</th>\n",
       "      <th>weight</th>\n",
       "      <th>wyId</th>\n",
       "    </tr>\n",
       "  </thead>\n",
       "  <tbody>\n",
       "    <tr>\n",
       "      <th>1</th>\n",
       "      <td>{'name': 'France', 'id': '250', 'alpha3code': ...</td>\n",
       "      <td>1999-01-23</td>\n",
       "      <td>4423</td>\n",
       "      <td>3775</td>\n",
       "      <td>Malang</td>\n",
       "      <td>left</td>\n",
       "      <td>182</td>\n",
       "      <td>Sarr</td>\n",
       "      <td></td>\n",
       "      <td>{'name': 'Senegal', 'id': '686', 'alpha3code':...</td>\n",
       "      <td>{'code2': 'DF', 'code3': 'DEF', 'name': 'Defen...</td>\n",
       "      <td>M. Sarr</td>\n",
       "      <td>73</td>\n",
       "      <td>393228</td>\n",
       "    </tr>\n",
       "    <tr>\n",
       "      <th>7</th>\n",
       "      <td>{'name': 'Belgium', 'id': '56', 'alpha3code': ...</td>\n",
       "      <td>1987-04-24</td>\n",
       "      <td>5629</td>\n",
       "      <td>1624</td>\n",
       "      <td>Jan</td>\n",
       "      <td>left</td>\n",
       "      <td>189</td>\n",
       "      <td>Vertonghen</td>\n",
       "      <td></td>\n",
       "      <td>{'name': 'Belgium', 'id': '56', 'alpha3code': ...</td>\n",
       "      <td>{'code2': 'DF', 'code3': 'DEF', 'name': 'Defen...</td>\n",
       "      <td>J. Vertonghen</td>\n",
       "      <td>88</td>\n",
       "      <td>48</td>\n",
       "    </tr>\n",
       "    <tr>\n",
       "      <th>12</th>\n",
       "      <td>{'name': 'Mali', 'id': '466', 'alpha3code': 'M...</td>\n",
       "      <td>1992-01-01</td>\n",
       "      <td>null</td>\n",
       "      <td>3795</td>\n",
       "      <td>Charles</td>\n",
       "      <td>left</td>\n",
       "      <td>180</td>\n",
       "      <td>Traor\\u00e9</td>\n",
       "      <td></td>\n",
       "      <td>{'name': 'France', 'id': '250', 'alpha3code': ...</td>\n",
       "      <td>{'code2': 'DF', 'code3': 'DEF', 'name': 'Defen...</td>\n",
       "      <td>C. Traor\\u00e9</td>\n",
       "      <td>74</td>\n",
       "      <td>393284</td>\n",
       "    </tr>\n",
       "  </tbody>\n",
       "</table>\n",
       "</div>"
      ],
      "text/plain": [
       "                                            birthArea   birthDate  \\\n",
       "1   {'name': 'France', 'id': '250', 'alpha3code': ...  1999-01-23   \n",
       "7   {'name': 'Belgium', 'id': '56', 'alpha3code': ...  1987-04-24   \n",
       "12  {'name': 'Mali', 'id': '466', 'alpha3code': 'M...  1992-01-01   \n",
       "\n",
       "   currentNationalTeamId currentTeamId firstName  foot  height     lastName  \\\n",
       "1                   4423          3775    Malang  left     182         Sarr   \n",
       "7                   5629          1624       Jan  left     189   Vertonghen   \n",
       "12                  null          3795   Charles  left     180  Traor\\u00e9   \n",
       "\n",
       "   middleName                                       passportArea  \\\n",
       "1              {'name': 'Senegal', 'id': '686', 'alpha3code':...   \n",
       "7              {'name': 'Belgium', 'id': '56', 'alpha3code': ...   \n",
       "12             {'name': 'France', 'id': '250', 'alpha3code': ...   \n",
       "\n",
       "                                                 role       shortName  weight  \\\n",
       "1   {'code2': 'DF', 'code3': 'DEF', 'name': 'Defen...         M. Sarr      73   \n",
       "7   {'code2': 'DF', 'code3': 'DEF', 'name': 'Defen...   J. Vertonghen      88   \n",
       "12  {'code2': 'DF', 'code3': 'DEF', 'name': 'Defen...  C. Traor\\u00e9      74   \n",
       "\n",
       "      wyId  \n",
       "1   393228  \n",
       "7       48  \n",
       "12  393284  "
      ]
     },
     "execution_count": 13,
     "metadata": {},
     "output_type": "execute_result"
    }
   ],
   "source": [
    "left = pd.DataFrame(players.loc[players['foot'] == 'left'])\n",
    "left[:3]"
   ]
  },
  {
   "cell_type": "code",
   "execution_count": 12,
   "metadata": {},
   "outputs": [
    {
     "data": {
      "text/html": [
       "<div>\n",
       "<style scoped>\n",
       "    .dataframe tbody tr th:only-of-type {\n",
       "        vertical-align: middle;\n",
       "    }\n",
       "\n",
       "    .dataframe tbody tr th {\n",
       "        vertical-align: top;\n",
       "    }\n",
       "\n",
       "    .dataframe thead th {\n",
       "        text-align: right;\n",
       "    }\n",
       "</style>\n",
       "<table border=\"1\" class=\"dataframe\">\n",
       "  <thead>\n",
       "    <tr style=\"text-align: right;\">\n",
       "      <th></th>\n",
       "      <th>birthArea</th>\n",
       "      <th>birthDate</th>\n",
       "      <th>currentNationalTeamId</th>\n",
       "      <th>currentTeamId</th>\n",
       "      <th>firstName</th>\n",
       "      <th>foot</th>\n",
       "      <th>height</th>\n",
       "      <th>lastName</th>\n",
       "      <th>middleName</th>\n",
       "      <th>passportArea</th>\n",
       "      <th>role</th>\n",
       "      <th>shortName</th>\n",
       "      <th>weight</th>\n",
       "      <th>wyId</th>\n",
       "    </tr>\n",
       "  </thead>\n",
       "  <tbody>\n",
       "    <tr>\n",
       "      <th>0</th>\n",
       "      <td>{'name': 'Turkey', 'id': '792', 'alpha3code': ...</td>\n",
       "      <td>1989-06-17</td>\n",
       "      <td>4687</td>\n",
       "      <td>4502</td>\n",
       "      <td>Harun</td>\n",
       "      <td>right</td>\n",
       "      <td>187</td>\n",
       "      <td>Tekin</td>\n",
       "      <td></td>\n",
       "      <td>{'name': 'Turkey', 'id': '792', 'alpha3code': ...</td>\n",
       "      <td>{'code2': 'GK', 'code3': 'GKP', 'name': 'Goalk...</td>\n",
       "      <td>H. Tekin</td>\n",
       "      <td>78</td>\n",
       "      <td>32777</td>\n",
       "    </tr>\n",
       "    <tr>\n",
       "      <th>3</th>\n",
       "      <td>{'name': 'France', 'id': '250', 'alpha3code': ...</td>\n",
       "      <td>1990-03-06</td>\n",
       "      <td>19314</td>\n",
       "      <td>683</td>\n",
       "      <td>Alfred John Momar</td>\n",
       "      <td>right</td>\n",
       "      <td>187</td>\n",
       "      <td>N'Diaye</td>\n",
       "      <td></td>\n",
       "      <td>{'name': 'Senegal', 'id': '686', 'alpha3code':...</td>\n",
       "      <td>{'code2': 'MD', 'code3': 'MID', 'name': 'Midfi...</td>\n",
       "      <td>A. N'Diaye</td>\n",
       "      <td>82</td>\n",
       "      <td>32793</td>\n",
       "    </tr>\n",
       "    <tr>\n",
       "      <th>4</th>\n",
       "      <td>{'name': 'France', 'id': '250', 'alpha3code': ...</td>\n",
       "      <td>1999-05-25</td>\n",
       "      <td>null</td>\n",
       "      <td>2975</td>\n",
       "      <td>Ibrahima</td>\n",
       "      <td>right</td>\n",
       "      <td>192</td>\n",
       "      <td>Konat\\u00e9</td>\n",
       "      <td></td>\n",
       "      <td>{'name': 'France', 'id': '250', 'alpha3code': ...</td>\n",
       "      <td>{'code2': 'DF', 'code3': 'DEF', 'name': 'Defen...</td>\n",
       "      <td>I. Konat\\u00e9</td>\n",
       "      <td>84</td>\n",
       "      <td>393247</td>\n",
       "    </tr>\n",
       "  </tbody>\n",
       "</table>\n",
       "</div>"
      ],
      "text/plain": [
       "                                           birthArea   birthDate  \\\n",
       "0  {'name': 'Turkey', 'id': '792', 'alpha3code': ...  1989-06-17   \n",
       "3  {'name': 'France', 'id': '250', 'alpha3code': ...  1990-03-06   \n",
       "4  {'name': 'France', 'id': '250', 'alpha3code': ...  1999-05-25   \n",
       "\n",
       "  currentNationalTeamId currentTeamId          firstName   foot  height  \\\n",
       "0                  4687          4502              Harun  right     187   \n",
       "3                 19314           683  Alfred John Momar  right     187   \n",
       "4                  null          2975           Ibrahima  right     192   \n",
       "\n",
       "      lastName middleName                                       passportArea  \\\n",
       "0        Tekin             {'name': 'Turkey', 'id': '792', 'alpha3code': ...   \n",
       "3      N'Diaye             {'name': 'Senegal', 'id': '686', 'alpha3code':...   \n",
       "4  Konat\\u00e9             {'name': 'France', 'id': '250', 'alpha3code': ...   \n",
       "\n",
       "                                                role       shortName  weight  \\\n",
       "0  {'code2': 'GK', 'code3': 'GKP', 'name': 'Goalk...        H. Tekin      78   \n",
       "3  {'code2': 'MD', 'code3': 'MID', 'name': 'Midfi...      A. N'Diaye      82   \n",
       "4  {'code2': 'DF', 'code3': 'DEF', 'name': 'Defen...  I. Konat\\u00e9      84   \n",
       "\n",
       "     wyId  \n",
       "0   32777  \n",
       "3   32793  \n",
       "4  393247  "
      ]
     },
     "execution_count": 12,
     "metadata": {},
     "output_type": "execute_result"
    }
   ],
   "source": [
    "right = pd.DataFrame(players.loc[players['foot'] == 'right'])\n",
    "right[:3]"
   ]
  },
  {
   "cell_type": "markdown",
   "metadata": {},
   "source": [
    "Now we try to have a general idea about the pergentage of left-footed in respect to the players population."
   ]
  },
  {
   "cell_type": "code",
   "execution_count": 9,
   "metadata": {},
   "outputs": [],
   "source": [
    "a = len(left.index)\n",
    "b = len(right.index)"
   ]
  },
  {
   "cell_type": "code",
   "execution_count": 10,
   "metadata": {},
   "outputs": [
    {
     "data": {
      "text/plain": [
       "'24.0%'"
      ]
     },
     "execution_count": 10,
     "metadata": {},
     "output_type": "execute_result"
    }
   ],
   "source": [
    "percentage_lefty = str(round(a/(a+b) * 100, 0)) + '%'\n",
    "percentage_lefty"
   ]
  },
  {
   "cell_type": "markdown",
   "metadata": {},
   "source": [
    "We can already notice that this percentage is much more higher than the common value, so there must be some hidden advantage here.\n"
   ]
  },
  {
   "cell_type": "markdown",
   "metadata": {},
   "source": [
    "So, we plot the different quantities for every player role."
   ]
  },
  {
   "cell_type": "markdown",
   "metadata": {},
   "source": [
    "####  We create the four dataframes for all the possibile roles"
   ]
  },
  {
   "cell_type": "code",
   "execution_count": 31,
   "metadata": {},
   "outputs": [],
   "source": [
    "def histo(f,g):#plot the histogram for every couple of dataframes\n",
    "    x = np.arange(2)\n",
    "    plt.bar(x, height= [f,g] , color = ['red', 'green'])\n",
    "    plt.xticks(x, ['Left','Right']);\n",
    "def p(n):#compute the percentage\n",
    "    return n[0]/(n[0]+n[1]) * 100"
   ]
  },
  {
   "cell_type": "code",
   "execution_count": 32,
   "metadata": {},
   "outputs": [
    {
     "data": {
      "text/plain": [
       "32.151898734177216"
      ]
     },
     "execution_count": 32,
     "metadata": {},
     "output_type": "execute_result"
    }
   ],
   "source": [
    "defleft = pd.DataFrame(left.loc[left['role'] == {\"code2\": \"DF\", \"code3\": \"DEF\", \"name\": \"Defender\"}])#choosing the right 'role' from the left dataframe\n",
    "defl = len(defleft.index)#counting the rows\n",
    "defright = pd.DataFrame(right.loc[right['role'] == {\"code2\": \"DF\", \"code3\": \"DEF\", \"name\": \"Defender\"}])\n",
    "defr = len(defright.index)\n",
    "n = [defl, defr]\n",
    "p(n)"
   ]
  },
  {
   "cell_type": "code",
   "execution_count": 22,
   "metadata": {},
   "outputs": [
    {
     "data": {
      "image/png": "[encoded data removed]",
      "text/plain": [
       "<Figure size 432x288 with 1 Axes>"
      ]
     },
     "metadata": {
      "needs_background": "light"
     },
     "output_type": "display_data"
    }
   ],
   "source": [
    "histo(defl, defr)"
   ]
  },
  {
   "cell_type": "code",
   "execution_count": 35,
   "metadata": {},
   "outputs": [
    {
     "data": {
      "text/plain": [
       "13.526570048309178"
      ]
     },
     "execution_count": 35,
     "metadata": {},
     "output_type": "execute_result"
    }
   ],
   "source": [
    "gkleft = pd.DataFrame(left.loc[left['role'] == {\"code2\": \"GK\", \"code3\": \"GKP\", \"name\": \"Goalkeeper\"}])\n",
    "gkl = len(gkleft.index)\n",
    "gkright = pd.DataFrame(right.loc[right['role'] == {\"code2\": \"GK\", \"code3\": \"GKP\", \"name\": \"Goalkeeper\"}])\n",
    "gkr = len(gkright.index)\n",
    "p([gkl,gkr])\n"
   ]
  },
  {
   "cell_type": "code",
   "execution_count": 36,
   "metadata": {},
   "outputs": [
    {
     "data": {
      "image/png": "[encoded data removed]",
      "text/plain": [
       "<Figure size 432x288 with 1 Axes>"
      ]
     },
     "metadata": {
      "needs_background": "light"
     },
     "output_type": "display_data"
    }
   ],
   "source": [
    "histo(gkl, gkr)"
   ]
  },
  {
   "cell_type": "code",
   "execution_count": 37,
   "metadata": {},
   "outputs": [
    {
     "data": {
      "text/plain": [
       "22.1953188054883"
      ]
     },
     "execution_count": 37,
     "metadata": {},
     "output_type": "execute_result"
    }
   ],
   "source": [
    "mdleft = pd.DataFrame(left.loc[left['role'] == {\"code2\": \"MD\", \"code3\": \"MID\", \"name\": \"Midfielder\"}])\n",
    "mdright = pd.DataFrame(right.loc[right['role'] == {\"code2\": \"MD\", \"code3\": \"MID\", \"name\": \"Midfielder\"}])\n",
    "mdl = len(mdleft.index)\n",
    "mdr = len(mdright.index)\n",
    "p([mdl,mdr])\n"
   ]
  },
  {
   "cell_type": "code",
   "execution_count": 38,
   "metadata": {},
   "outputs": [
    {
     "data": {
      "image/png": "[encoded data removed]",
      "text/plain": [
       "<Figure size 432x288 with 1 Axes>"
      ]
     },
     "metadata": {
      "needs_background": "light"
     },
     "output_type": "display_data"
    }
   ],
   "source": [
    "histo(mdl, mdr)"
   ]
  },
  {
   "cell_type": "code",
   "execution_count": 41,
   "metadata": {},
   "outputs": [
    {
     "data": {
      "text/plain": [
       "17.796610169491526"
      ]
     },
     "execution_count": 41,
     "metadata": {},
     "output_type": "execute_result"
    }
   ],
   "source": [
    "fwleft = pd.DataFrame(left.loc[left['role'] == {\"code2\": \"FW\", \"code3\": \"FWD\", \"name\": \"Forward\"}])\n",
    "fwright = pd.DataFrame(right.loc[right['role'] == {\"code2\": \"FW\", \"code3\": \"FWD\", \"name\": \"Forward\"}])\n",
    "fwl = len(fwleft.index)\n",
    "fwr = len(fwright.index)\n",
    "p([fwl,fwr])\n"
   ]
  },
  {
   "cell_type": "code",
   "execution_count": 42,
   "metadata": {},
   "outputs": [
    {
     "data": {
      "image/png": "[encoded data removed]",
      "text/plain": [
       "<Figure size 432x288 with 1 Axes>"
      ]
     },
     "metadata": {
      "needs_background": "light"
     },
     "output_type": "display_data"
    }
   ],
   "source": [
    "histo(fwl, fwr)"
   ]
  },
  {
   "cell_type": "markdown",
   "metadata": {},
   "source": [
    "So, we notice that even if the percentages are all over 10%, the only roles where we can see some intersting insights are DF with 32% and MD with 22%."
   ]
  },
  {
   "cell_type": "markdown",
   "metadata": {},
   "source": [
    "The main reason might be that defenders and midfielders need to react to the actions of attackers, that are generally right-footed, and so tend to play the ball on the right side during a duel, which is the left side for an observer who is in front of the player, so on his own left.\n",
    "Therefore, a player that can instictively go left is at advantage against the average stricker."
   ]
  },
  {
   "cell_type": "markdown",
   "metadata": {},
   "source": [
    "In fact, the ultimate defender, the GK, doesn't need to be left-footed to win duels, so the percentage returns to more low and common levels. "
   ]
  },
  {
   "cell_type": "code",
   "execution_count": null,
   "metadata": {},
   "outputs": [],
   "source": []
  }
 ],
 "metadata": {
  "kernelspec": {
   "display_name": "Python 3",
   "language": "python",
   "name": "python3"
  },
  "language_info": {
   "codemirror_mode": {
    "name": "ipython",
    "version": 3
   },
   "file_extension": ".py",
   "mimetype": "text/x-python",
   "name": "python",
   "nbconvert_exporter": "python",
   "pygments_lexer": "ipython3",
   "version": "3.7.1"
  }
 },
 "nbformat": 4,
 "nbformat_minor": 2
}
