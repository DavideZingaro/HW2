{
 "cells": [
  {
   "cell_type": "markdown",
   "metadata": {},
   "source": [
    "# Homework 2 - Soccer analytics\n"
   ]
  },
  {
   "cell_type": "code",
   "execution_count": null,
   "metadata": {},
   "outputs": [],
   "source": []
  },
  {
   "cell_type": "code",
   "execution_count": 2,
   "metadata": {},
   "outputs": [],
   "source": [
    "#We import the necessary libraries to organize data and plot the Premier League ranking 2017/2018.\n",
    "import pandas as pd\n",
    "import json\n",
    "import matplotlib.pyplot as plt\n",
    "import numpy as np\n",
    "%matplotlib inline"
   ]
  },
  {
   "cell_type": "code",
   "execution_count": 3,
   "metadata": {},
   "outputs": [
    {
     "ename": "FileNotFoundError",
     "evalue": "[Errno 2] No such file or directory: 'C:\\\\Users\\\\Notebook HP\\\\Desktop\\\\Homeworks\\\\HW2\\\\Matches\\\\matches_England.json'",
     "output_type": "error",
     "traceback": [
      "\u001b[1;31m---------------------------------------------------------------------------\u001b[0m",
      "\u001b[1;31mFileNotFoundError\u001b[0m                         Traceback (most recent call last)",
      "\u001b[1;32m<ipython-input-3-179b878909b1>\u001b[0m in \u001b[0;36m<module>\u001b[1;34m\u001b[0m\n\u001b[1;32m----> 1\u001b[1;33m \u001b[1;32mwith\u001b[0m \u001b[0mopen\u001b[0m\u001b[1;33m(\u001b[0m\u001b[1;34mr'C:\\Users\\Notebook HP\\Desktop\\Homeworks\\HW2\\Matches\\matches_England.json'\u001b[0m\u001b[1;33m,\u001b[0m \u001b[1;34m'r'\u001b[0m\u001b[1;33m)\u001b[0m \u001b[1;32mas\u001b[0m \u001b[0mfile\u001b[0m\u001b[1;33m:\u001b[0m\u001b[1;33m\u001b[0m\u001b[1;33m\u001b[0m\u001b[0m\n\u001b[0m\u001b[0;32m      2\u001b[0m     \u001b[0mdata\u001b[0m \u001b[1;33m=\u001b[0m \u001b[0mfile\u001b[0m\u001b[1;33m.\u001b[0m\u001b[0mread\u001b[0m\u001b[1;33m(\u001b[0m\u001b[1;33m)\u001b[0m\u001b[1;33m\u001b[0m\u001b[1;33m\u001b[0m\u001b[0m\n\u001b[0;32m      3\u001b[0m \u001b[0mmatches\u001b[0m \u001b[1;33m=\u001b[0m \u001b[0mjson\u001b[0m\u001b[1;33m.\u001b[0m\u001b[0mloads\u001b[0m\u001b[1;33m(\u001b[0m\u001b[0mdata\u001b[0m\u001b[1;33m)\u001b[0m\u001b[1;33m\u001b[0m\u001b[1;33m\u001b[0m\u001b[0m\n\u001b[0;32m      4\u001b[0m \u001b[0mmatches\u001b[0m \u001b[1;33m=\u001b[0m \u001b[0mpd\u001b[0m\u001b[1;33m.\u001b[0m\u001b[0mDataFrame\u001b[0m\u001b[1;33m(\u001b[0m\u001b[0mmatches\u001b[0m\u001b[1;33m)\u001b[0m\u001b[1;33m\u001b[0m\u001b[1;33m\u001b[0m\u001b[0m\n",
      "\u001b[1;31mFileNotFoundError\u001b[0m: [Errno 2] No such file or directory: 'C:\\\\Users\\\\Notebook HP\\\\Desktop\\\\Homeworks\\\\HW2\\\\Matches\\\\matches_England.json'"
     ]
    }
   ],
   "source": [
    "with open(r'C:\\Users\\Notebook HP\\Desktop\\Homeworks\\HW2\\Matches\\matches_England.json', 'r') as file:\n",
    "    data = file.read()\n",
    "matches = json.loads(data)\n",
    "matches = pd.DataFrame(matches)\n"
   ]
  },
  {
   "cell_type": "code",
   "execution_count": null,
   "metadata": {},
   "outputs": [],
   "source": [
    "with open(r'C:\\Users\\Notebook HP\\Desktop\\Homeworks\\HW2\\teams.json', 'r') as teams:\n",
    "    data = teams.read()\n",
    "teams = json.loads(data)\n",
    "teams = pd.DataFrame(teams)\n"
   ]
  },
  {
   "cell_type": "code",
   "execution_count": null,
   "metadata": {},
   "outputs": [],
   "source": [
    "with open(r'C:\\Users\\Notebook HP\\Desktop\\Homeworks\\HW2\\players.json', 'r') as myfile:\n",
    "    data = myfile.read()\n",
    "play = json.loads(data)\n",
    "players = pd.DataFrame(play)\n"
   ]
  },
  {
   "cell_type": "code",
   "execution_count": 4,
   "metadata": {},
   "outputs": [
    {
     "ename": "FileNotFoundError",
     "evalue": "[Errno 2] No such file or directory: 'C:\\\\Users\\\\Notebook HP\\\\Desktop\\\\Homeworks\\\\HW2\\\\Events\\\\events_Spain.json'",
     "output_type": "error",
     "traceback": [
      "\u001b[1;31m---------------------------------------------------------------------------\u001b[0m",
      "\u001b[1;31mFileNotFoundError\u001b[0m                         Traceback (most recent call last)",
      "\u001b[1;32m<ipython-input-4-fa77561a5707>\u001b[0m in \u001b[0;36m<module>\u001b[1;34m\u001b[0m\n\u001b[1;32m----> 1\u001b[1;33m \u001b[1;32mwith\u001b[0m \u001b[0mopen\u001b[0m\u001b[1;33m(\u001b[0m\u001b[1;34mr'C:\\Users\\Notebook HP\\Desktop\\Homeworks\\HW2\\Events\\events_Spain.json'\u001b[0m\u001b[1;33m,\u001b[0m \u001b[1;34m'r'\u001b[0m\u001b[1;33m)\u001b[0m \u001b[1;32mas\u001b[0m \u001b[0mmyfile\u001b[0m\u001b[1;33m:\u001b[0m\u001b[1;33m\u001b[0m\u001b[1;33m\u001b[0m\u001b[0m\n\u001b[0m\u001b[0;32m      2\u001b[0m     \u001b[0mdata\u001b[0m \u001b[1;33m=\u001b[0m \u001b[0mmyfile\u001b[0m\u001b[1;33m.\u001b[0m\u001b[0mread\u001b[0m\u001b[1;33m(\u001b[0m\u001b[1;33m)\u001b[0m\u001b[1;33m\u001b[0m\u001b[1;33m\u001b[0m\u001b[0m\n\u001b[0;32m      3\u001b[0m \u001b[0me\u001b[0m \u001b[1;33m=\u001b[0m \u001b[0mjson\u001b[0m\u001b[1;33m.\u001b[0m\u001b[0mloads\u001b[0m\u001b[1;33m(\u001b[0m\u001b[0mdata\u001b[0m\u001b[1;33m)\u001b[0m\u001b[1;33m\u001b[0m\u001b[1;33m\u001b[0m\u001b[0m\n\u001b[0;32m      4\u001b[0m \u001b[0mevents\u001b[0m \u001b[1;33m=\u001b[0m \u001b[0mpd\u001b[0m\u001b[1;33m.\u001b[0m\u001b[0mDataFrame\u001b[0m\u001b[1;33m(\u001b[0m\u001b[0me\u001b[0m\u001b[1;33m)\u001b[0m\u001b[1;33m\u001b[0m\u001b[1;33m\u001b[0m\u001b[0m\n",
      "\u001b[1;31mFileNotFoundError\u001b[0m: [Errno 2] No such file or directory: 'C:\\\\Users\\\\Notebook HP\\\\Desktop\\\\Homeworks\\\\HW2\\\\Events\\\\events_Spain.json'"
     ]
    }
   ],
   "source": [
    "with open(r'C:\\Users\\Notebook HP\\Desktop\\Homeworks\\HW2\\Events\\events_Spain.json', 'r') as myfile:\n",
    "    data = myfile.read()\n",
    "e = json.loads(data)\n",
    "events = pd.DataFrame(e)\n"
   ]
  },
  {
   "cell_type": "markdown",
   "metadata": {},
   "source": [
    "# Exploratory Data Analysis\n",
    "All the analysis from RQ1 to RQ5, are performed only over the Premier League dataset."
   ]
  },
  {
   "cell_type": "markdown",
   "metadata": {},
   "source": [
    "# [RQ1] Who wants to be a Champion?\n"
   ]
  },
  {
   "cell_type": "markdown",
   "metadata": {},
   "source": [
    "### Create a plot where each point (x,y) represents the number of points obtained by team x at game week y.\n",
    "For this task, we need the dataframes matches and teams.\n",
    "In this exploratory data analysis (RQ1 - RQ5), we will use only the datasets relative to the Premier League season 2017/2018."
   ]
  },
  {
   "cell_type": "markdown",
   "metadata": {},
   "source": [
    "We load the 'matches_England' and 'teams' json files, and produce the pandas dataframe"
   ]
  },
  {
   "cell_type": "code",
   "execution_count": 119,
   "metadata": {
    "collapsed": true
   },
   "outputs": [
    {
     "data": {
      "text/html": [
       "<div>\n",
       "<style scoped>\n",
       "    .dataframe tbody tr th:only-of-type {\n",
       "        vertical-align: middle;\n",
       "    }\n",
       "\n",
       "    .dataframe tbody tr th {\n",
       "        vertical-align: top;\n",
       "    }\n",
       "\n",
       "    .dataframe thead th {\n",
       "        text-align: right;\n",
       "    }\n",
       "</style>\n",
       "<table border=\"1\" class=\"dataframe\">\n",
       "  <thead>\n",
       "    <tr style=\"text-align: right;\">\n",
       "      <th></th>\n",
       "      <th>competitionId</th>\n",
       "      <th>date</th>\n",
       "      <th>dateutc</th>\n",
       "      <th>duration</th>\n",
       "      <th>gameweek</th>\n",
       "      <th>label</th>\n",
       "      <th>referees</th>\n",
       "      <th>roundId</th>\n",
       "      <th>seasonId</th>\n",
       "      <th>status</th>\n",
       "      <th>teamsData</th>\n",
       "      <th>venue</th>\n",
       "      <th>winner</th>\n",
       "      <th>wyId</th>\n",
       "    </tr>\n",
       "  </thead>\n",
       "  <tbody>\n",
       "    <tr>\n",
       "      <th>0</th>\n",
       "      <td>364</td>\n",
       "      <td>May 13, 2018 at 4:00:00 PM GMT+2</td>\n",
       "      <td>2018-05-13 14:00:00</td>\n",
       "      <td>Regular</td>\n",
       "      <td>38</td>\n",
       "      <td>Burnley - AFC Bournemouth, 1 - 2</td>\n",
       "      <td>[{'refereeId': 385705, 'role': 'referee'}, {'r...</td>\n",
       "      <td>4405654</td>\n",
       "      <td>181150</td>\n",
       "      <td>Played</td>\n",
       "      <td>{'1646': {'scoreET': 0, 'coachId': 8880, 'side...</td>\n",
       "      <td>Turf Moor</td>\n",
       "      <td>1659</td>\n",
       "      <td>2500089</td>\n",
       "    </tr>\n",
       "    <tr>\n",
       "      <th>1</th>\n",
       "      <td>364</td>\n",
       "      <td>May 13, 2018 at 4:00:00 PM GMT+2</td>\n",
       "      <td>2018-05-13 14:00:00</td>\n",
       "      <td>Regular</td>\n",
       "      <td>38</td>\n",
       "      <td>Crystal Palace - West Bromwich Albion, 2 - 0</td>\n",
       "      <td>[{'refereeId': 381851, 'role': 'referee'}, {'r...</td>\n",
       "      <td>4405654</td>\n",
       "      <td>181150</td>\n",
       "      <td>Played</td>\n",
       "      <td>{'1628': {'scoreET': 0, 'coachId': 8357, 'side...</td>\n",
       "      <td>Selhurst Park</td>\n",
       "      <td>1628</td>\n",
       "      <td>2500090</td>\n",
       "    </tr>\n",
       "    <tr>\n",
       "      <th>2</th>\n",
       "      <td>364</td>\n",
       "      <td>May 13, 2018 at 4:00:00 PM GMT+2</td>\n",
       "      <td>2018-05-13 14:00:00</td>\n",
       "      <td>Regular</td>\n",
       "      <td>38</td>\n",
       "      <td>Huddersfield Town - Arsenal, 0 - 1</td>\n",
       "      <td>[{'refereeId': 384965, 'role': 'referee'}, {'r...</td>\n",
       "      <td>4405654</td>\n",
       "      <td>181150</td>\n",
       "      <td>Played</td>\n",
       "      <td>{'1609': {'scoreET': 0, 'coachId': 7845, 'side...</td>\n",
       "      <td>The John Smith's Stadium</td>\n",
       "      <td>1609</td>\n",
       "      <td>2500091</td>\n",
       "    </tr>\n",
       "    <tr>\n",
       "      <th>3</th>\n",
       "      <td>364</td>\n",
       "      <td>May 13, 2018 at 4:00:00 PM GMT+2</td>\n",
       "      <td>2018-05-13 14:00:00</td>\n",
       "      <td>Regular</td>\n",
       "      <td>38</td>\n",
       "      <td>Liverpool - Brighton &amp; Hove Albion, 4 - 0</td>\n",
       "      <td>[{'refereeId': 385704, 'role': 'referee'}, {'r...</td>\n",
       "      <td>4405654</td>\n",
       "      <td>181150</td>\n",
       "      <td>Played</td>\n",
       "      <td>{'1651': {'scoreET': 0, 'coachId': 8093, 'side...</td>\n",
       "      <td>Anfield</td>\n",
       "      <td>1612</td>\n",
       "      <td>2500092</td>\n",
       "    </tr>\n",
       "    <tr>\n",
       "      <th>4</th>\n",
       "      <td>364</td>\n",
       "      <td>May 13, 2018 at 4:00:00 PM GMT+2</td>\n",
       "      <td>2018-05-13 14:00:00</td>\n",
       "      <td>Regular</td>\n",
       "      <td>38</td>\n",
       "      <td>Manchester United - Watford, 1 - 0</td>\n",
       "      <td>[{'refereeId': 381853, 'role': 'referee'}, {'r...</td>\n",
       "      <td>4405654</td>\n",
       "      <td>181150</td>\n",
       "      <td>Played</td>\n",
       "      <td>{'1644': {'scoreET': 0, 'coachId': 93112, 'sid...</td>\n",
       "      <td>Old Trafford</td>\n",
       "      <td>1611</td>\n",
       "      <td>2500093</td>\n",
       "    </tr>\n",
       "  </tbody>\n",
       "</table>\n",
       "</div>"
      ],
      "text/plain": [
       "   competitionId                              date              dateutc  \\\n",
       "0            364  May 13, 2018 at 4:00:00 PM GMT+2  2018-05-13 14:00:00   \n",
       "1            364  May 13, 2018 at 4:00:00 PM GMT+2  2018-05-13 14:00:00   \n",
       "2            364  May 13, 2018 at 4:00:00 PM GMT+2  2018-05-13 14:00:00   \n",
       "3            364  May 13, 2018 at 4:00:00 PM GMT+2  2018-05-13 14:00:00   \n",
       "4            364  May 13, 2018 at 4:00:00 PM GMT+2  2018-05-13 14:00:00   \n",
       "\n",
       "  duration  gameweek                                         label  \\\n",
       "0  Regular        38              Burnley - AFC Bournemouth, 1 - 2   \n",
       "1  Regular        38  Crystal Palace - West Bromwich Albion, 2 - 0   \n",
       "2  Regular        38            Huddersfield Town - Arsenal, 0 - 1   \n",
       "3  Regular        38     Liverpool - Brighton & Hove Albion, 4 - 0   \n",
       "4  Regular        38            Manchester United - Watford, 1 - 0   \n",
       "\n",
       "                                            referees  roundId  seasonId  \\\n",
       "0  [{'refereeId': 385705, 'role': 'referee'}, {'r...  4405654    181150   \n",
       "1  [{'refereeId': 381851, 'role': 'referee'}, {'r...  4405654    181150   \n",
       "2  [{'refereeId': 384965, 'role': 'referee'}, {'r...  4405654    181150   \n",
       "3  [{'refereeId': 385704, 'role': 'referee'}, {'r...  4405654    181150   \n",
       "4  [{'refereeId': 381853, 'role': 'referee'}, {'r...  4405654    181150   \n",
       "\n",
       "   status                                          teamsData  \\\n",
       "0  Played  {'1646': {'scoreET': 0, 'coachId': 8880, 'side...   \n",
       "1  Played  {'1628': {'scoreET': 0, 'coachId': 8357, 'side...   \n",
       "2  Played  {'1609': {'scoreET': 0, 'coachId': 7845, 'side...   \n",
       "3  Played  {'1651': {'scoreET': 0, 'coachId': 8093, 'side...   \n",
       "4  Played  {'1644': {'scoreET': 0, 'coachId': 93112, 'sid...   \n",
       "\n",
       "                      venue  winner     wyId  \n",
       "0                 Turf Moor    1659  2500089  \n",
       "1             Selhurst Park    1628  2500090  \n",
       "2  The John Smith's Stadium    1609  2500091  \n",
       "3                   Anfield    1612  2500092  \n",
       "4              Old Trafford    1611  2500093  "
      ]
     },
     "execution_count": 119,
     "metadata": {},
     "output_type": "execute_result"
    }
   ],
   "source": [
    "matches.head()"
   ]
  },
  {
   "cell_type": "code",
   "execution_count": 120,
   "metadata": {},
   "outputs": [
    {
     "data": {
      "text/html": [
       "<div>\n",
       "<style scoped>\n",
       "    .dataframe tbody tr th:only-of-type {\n",
       "        vertical-align: middle;\n",
       "    }\n",
       "\n",
       "    .dataframe tbody tr th {\n",
       "        vertical-align: top;\n",
       "    }\n",
       "\n",
       "    .dataframe thead th {\n",
       "        text-align: right;\n",
       "    }\n",
       "</style>\n",
       "<table border=\"1\" class=\"dataframe\">\n",
       "  <thead>\n",
       "    <tr style=\"text-align: right;\">\n",
       "      <th></th>\n",
       "      <th>area</th>\n",
       "      <th>city</th>\n",
       "      <th>name</th>\n",
       "      <th>officialName</th>\n",
       "      <th>type</th>\n",
       "      <th>wyId</th>\n",
       "    </tr>\n",
       "  </thead>\n",
       "  <tbody>\n",
       "    <tr>\n",
       "      <th>0</th>\n",
       "      <td>{'name': 'England', 'id': '0', 'alpha3code': '...</td>\n",
       "      <td>Newcastle upon Tyne</td>\n",
       "      <td>Newcastle United</td>\n",
       "      <td>Newcastle United FC</td>\n",
       "      <td>club</td>\n",
       "      <td>1613</td>\n",
       "    </tr>\n",
       "    <tr>\n",
       "      <th>1</th>\n",
       "      <td>{'name': 'Spain', 'id': '724', 'alpha3code': '...</td>\n",
       "      <td>Vigo</td>\n",
       "      <td>Celta de Vigo</td>\n",
       "      <td>Real Club Celta de Vigo</td>\n",
       "      <td>club</td>\n",
       "      <td>692</td>\n",
       "    </tr>\n",
       "    <tr>\n",
       "      <th>2</th>\n",
       "      <td>{'name': 'Spain', 'id': '724', 'alpha3code': '...</td>\n",
       "      <td>Barcelona</td>\n",
       "      <td>Espanyol</td>\n",
       "      <td>Reial Club Deportiu Espanyol</td>\n",
       "      <td>club</td>\n",
       "      <td>691</td>\n",
       "    </tr>\n",
       "    <tr>\n",
       "      <th>3</th>\n",
       "      <td>{'name': 'Spain', 'id': '724', 'alpha3code': '...</td>\n",
       "      <td>Vitoria-Gasteiz</td>\n",
       "      <td>Deportivo Alav\\u00e9s</td>\n",
       "      <td>Deportivo Alav\\u00e9s</td>\n",
       "      <td>club</td>\n",
       "      <td>696</td>\n",
       "    </tr>\n",
       "    <tr>\n",
       "      <th>4</th>\n",
       "      <td>{'name': 'Spain', 'id': '724', 'alpha3code': '...</td>\n",
       "      <td>Valencia</td>\n",
       "      <td>Levante</td>\n",
       "      <td>Levante UD</td>\n",
       "      <td>club</td>\n",
       "      <td>695</td>\n",
       "    </tr>\n",
       "  </tbody>\n",
       "</table>\n",
       "</div>"
      ],
      "text/plain": [
       "                                                area                 city  \\\n",
       "0  {'name': 'England', 'id': '0', 'alpha3code': '...  Newcastle upon Tyne   \n",
       "1  {'name': 'Spain', 'id': '724', 'alpha3code': '...                 Vigo   \n",
       "2  {'name': 'Spain', 'id': '724', 'alpha3code': '...            Barcelona   \n",
       "3  {'name': 'Spain', 'id': '724', 'alpha3code': '...      Vitoria-Gasteiz   \n",
       "4  {'name': 'Spain', 'id': '724', 'alpha3code': '...             Valencia   \n",
       "\n",
       "                    name                  officialName  type  wyId  \n",
       "0       Newcastle United           Newcastle United FC  club  1613  \n",
       "1          Celta de Vigo       Real Club Celta de Vigo  club   692  \n",
       "2               Espanyol  Reial Club Deportiu Espanyol  club   691  \n",
       "3  Deportivo Alav\\u00e9s         Deportivo Alav\\u00e9s  club   696  \n",
       "4                Levante                    Levante UD  club   695  "
      ]
     },
     "execution_count": 120,
     "metadata": {},
     "output_type": "execute_result"
    }
   ],
   "source": [
    "teams.head()"
   ]
  },
  {
   "cell_type": "markdown",
   "metadata": {},
   "source": [
    "#### Create a dataframe of all the Premier League teams\n",
    "We will produce a new dataframe 'english' from 'teams' to get rid of all the useless information, keeping only the rows with area tag {'name': 'England'}"
   ]
  },
  {
   "cell_type": "code",
   "execution_count": 121,
   "metadata": {},
   "outputs": [
    {
     "data": {
      "text/html": [
       "<div>\n",
       "<style scoped>\n",
       "    .dataframe tbody tr th:only-of-type {\n",
       "        vertical-align: middle;\n",
       "    }\n",
       "\n",
       "    .dataframe tbody tr th {\n",
       "        vertical-align: top;\n",
       "    }\n",
       "\n",
       "    .dataframe thead th {\n",
       "        text-align: right;\n",
       "    }\n",
       "</style>\n",
       "<table border=\"1\" class=\"dataframe\">\n",
       "  <thead>\n",
       "    <tr style=\"text-align: right;\">\n",
       "      <th></th>\n",
       "      <th>area</th>\n",
       "      <th>city</th>\n",
       "      <th>name</th>\n",
       "      <th>officialName</th>\n",
       "      <th>type</th>\n",
       "      <th>wyId</th>\n",
       "    </tr>\n",
       "  </thead>\n",
       "  <tbody>\n",
       "    <tr>\n",
       "      <th>0</th>\n",
       "      <td>{'name': 'England', 'id': '0', 'alpha3code': '...</td>\n",
       "      <td>Newcastle upon Tyne</td>\n",
       "      <td>Newcastle United</td>\n",
       "      <td>Newcastle United FC</td>\n",
       "      <td>club</td>\n",
       "      <td>1613</td>\n",
       "    </tr>\n",
       "    <tr>\n",
       "      <th>8</th>\n",
       "      <td>{'name': 'England', 'id': '0', 'alpha3code': '...</td>\n",
       "      <td>Huddersfield, West Yorkshire</td>\n",
       "      <td>Huddersfield Town</td>\n",
       "      <td>Huddersfield Town FC</td>\n",
       "      <td>club</td>\n",
       "      <td>1673</td>\n",
       "    </tr>\n",
       "    <tr>\n",
       "      <th>26</th>\n",
       "      <td>{'name': 'England', 'id': '0', 'alpha3code': '...</td>\n",
       "      <td>Bournemouth, Dorset</td>\n",
       "      <td>AFC Bournemouth</td>\n",
       "      <td>AFC Bournemouth</td>\n",
       "      <td>club</td>\n",
       "      <td>1659</td>\n",
       "    </tr>\n",
       "    <tr>\n",
       "      <th>27</th>\n",
       "      <td>{'name': 'England', 'id': '0', 'alpha3code': '...</td>\n",
       "      <td>Brighton, East Sussex</td>\n",
       "      <td>Brighton &amp; Hove Albion</td>\n",
       "      <td>Brighton &amp; Hove Albion FC</td>\n",
       "      <td>club</td>\n",
       "      <td>1651</td>\n",
       "    </tr>\n",
       "    <tr>\n",
       "      <th>39</th>\n",
       "      <td>{'name': 'England', 'id': '0', 'alpha3code': '...</td>\n",
       "      <td>Burnley, Lancashire</td>\n",
       "      <td>Burnley</td>\n",
       "      <td>Burnley FC</td>\n",
       "      <td>club</td>\n",
       "      <td>1646</td>\n",
       "    </tr>\n",
       "  </tbody>\n",
       "</table>\n",
       "</div>"
      ],
      "text/plain": [
       "                                                 area  \\\n",
       "0   {'name': 'England', 'id': '0', 'alpha3code': '...   \n",
       "8   {'name': 'England', 'id': '0', 'alpha3code': '...   \n",
       "26  {'name': 'England', 'id': '0', 'alpha3code': '...   \n",
       "27  {'name': 'England', 'id': '0', 'alpha3code': '...   \n",
       "39  {'name': 'England', 'id': '0', 'alpha3code': '...   \n",
       "\n",
       "                            city                    name  \\\n",
       "0            Newcastle upon Tyne        Newcastle United   \n",
       "8   Huddersfield, West Yorkshire       Huddersfield Town   \n",
       "26           Bournemouth, Dorset         AFC Bournemouth   \n",
       "27         Brighton, East Sussex  Brighton & Hove Albion   \n",
       "39           Burnley, Lancashire                 Burnley   \n",
       "\n",
       "                 officialName  type  wyId  \n",
       "0         Newcastle United FC  club  1613  \n",
       "8        Huddersfield Town FC  club  1673  \n",
       "26            AFC Bournemouth  club  1659  \n",
       "27  Brighton & Hove Albion FC  club  1651  \n",
       "39                 Burnley FC  club  1646  "
      ]
     },
     "execution_count": 121,
     "metadata": {},
     "output_type": "execute_result"
    }
   ],
   "source": [
    "english = teams[teams['area'] == {\"name\": \"England\", \"id\": \"0\", \"alpha3code\": \"XEN\", \"alpha2code\": \"\"}]\n",
    "english.head()"
   ]
  },
  {
   "cell_type": "code",
   "execution_count": 122,
   "metadata": {},
   "outputs": [
    {
     "data": {
      "text/plain": [
       "19"
      ]
     },
     "execution_count": 122,
     "metadata": {},
     "output_type": "execute_result"
    }
   ],
   "source": [
    "len(english.index) #Counting the rows"
   ]
  },
  {
   "cell_type": "markdown",
   "metadata": {},
   "source": [
    "Here we notice that the teams are only 19, instead of 20, which means that there must be another Premier League team with a different area tag."
   ]
  },
  {
   "cell_type": "markdown",
   "metadata": {},
   "source": [
    "In fact, looking at the official list of English teams, we notice that Swansea City is missing."
   ]
  },
  {
   "cell_type": "code",
   "execution_count": 123,
   "metadata": {},
   "outputs": [
    {
     "data": {
      "text/html": [
       "<div>\n",
       "<style scoped>\n",
       "    .dataframe tbody tr th:only-of-type {\n",
       "        vertical-align: middle;\n",
       "    }\n",
       "\n",
       "    .dataframe tbody tr th {\n",
       "        vertical-align: top;\n",
       "    }\n",
       "\n",
       "    .dataframe thead th {\n",
       "        text-align: right;\n",
       "    }\n",
       "</style>\n",
       "<table border=\"1\" class=\"dataframe\">\n",
       "  <thead>\n",
       "    <tr style=\"text-align: right;\">\n",
       "      <th></th>\n",
       "      <th>area</th>\n",
       "      <th>city</th>\n",
       "      <th>name</th>\n",
       "      <th>officialName</th>\n",
       "      <th>type</th>\n",
       "      <th>wyId</th>\n",
       "    </tr>\n",
       "  </thead>\n",
       "  <tbody>\n",
       "    <tr>\n",
       "      <th>19</th>\n",
       "      <td>{'name': 'Wales', 'id': '0', 'alpha3code': 'XW...</td>\n",
       "      <td>Swansea</td>\n",
       "      <td>Swansea City</td>\n",
       "      <td>Swansea City AFC</td>\n",
       "      <td>club</td>\n",
       "      <td>10531</td>\n",
       "    </tr>\n",
       "  </tbody>\n",
       "</table>\n",
       "</div>"
      ],
      "text/plain": [
       "                                                 area     city          name  \\\n",
       "19  {'name': 'Wales', 'id': '0', 'alpha3code': 'XW...  Swansea  Swansea City   \n",
       "\n",
       "        officialName  type   wyId  \n",
       "19  Swansea City AFC  club  10531  "
      ]
     },
     "execution_count": 123,
     "metadata": {},
     "output_type": "execute_result"
    }
   ],
   "source": [
    "# We search for a team with 'name' value 'Swansea City'\n",
    "sw = teams.loc[teams['name'] == 'Swansea City']\n",
    "sw"
   ]
  },
  {
   "cell_type": "markdown",
   "metadata": {},
   "source": [
    "There it is. So we can add it to our english dataframe."
   ]
  },
  {
   "cell_type": "code",
   "execution_count": 124,
   "metadata": {},
   "outputs": [
    {
     "data": {
      "text/html": [
       "<div>\n",
       "<style scoped>\n",
       "    .dataframe tbody tr th:only-of-type {\n",
       "        vertical-align: middle;\n",
       "    }\n",
       "\n",
       "    .dataframe tbody tr th {\n",
       "        vertical-align: top;\n",
       "    }\n",
       "\n",
       "    .dataframe thead th {\n",
       "        text-align: right;\n",
       "    }\n",
       "</style>\n",
       "<table border=\"1\" class=\"dataframe\">\n",
       "  <thead>\n",
       "    <tr style=\"text-align: right;\">\n",
       "      <th></th>\n",
       "      <th>area</th>\n",
       "      <th>city</th>\n",
       "      <th>name</th>\n",
       "      <th>officialName</th>\n",
       "      <th>type</th>\n",
       "      <th>wyId</th>\n",
       "    </tr>\n",
       "  </thead>\n",
       "  <tbody>\n",
       "    <tr>\n",
       "      <th>0</th>\n",
       "      <td>{'name': 'England', 'id': '0', 'alpha3code': '...</td>\n",
       "      <td>Newcastle upon Tyne</td>\n",
       "      <td>Newcastle United</td>\n",
       "      <td>Newcastle United FC</td>\n",
       "      <td>club</td>\n",
       "      <td>1613</td>\n",
       "    </tr>\n",
       "    <tr>\n",
       "      <th>8</th>\n",
       "      <td>{'name': 'England', 'id': '0', 'alpha3code': '...</td>\n",
       "      <td>Huddersfield, West Yorkshire</td>\n",
       "      <td>Huddersfield Town</td>\n",
       "      <td>Huddersfield Town FC</td>\n",
       "      <td>club</td>\n",
       "      <td>1673</td>\n",
       "    </tr>\n",
       "    <tr>\n",
       "      <th>26</th>\n",
       "      <td>{'name': 'England', 'id': '0', 'alpha3code': '...</td>\n",
       "      <td>Bournemouth, Dorset</td>\n",
       "      <td>AFC Bournemouth</td>\n",
       "      <td>AFC Bournemouth</td>\n",
       "      <td>club</td>\n",
       "      <td>1659</td>\n",
       "    </tr>\n",
       "    <tr>\n",
       "      <th>27</th>\n",
       "      <td>{'name': 'England', 'id': '0', 'alpha3code': '...</td>\n",
       "      <td>Brighton, East Sussex</td>\n",
       "      <td>Brighton &amp; Hove Albion</td>\n",
       "      <td>Brighton &amp; Hove Albion FC</td>\n",
       "      <td>club</td>\n",
       "      <td>1651</td>\n",
       "    </tr>\n",
       "    <tr>\n",
       "      <th>39</th>\n",
       "      <td>{'name': 'England', 'id': '0', 'alpha3code': '...</td>\n",
       "      <td>Burnley, Lancashire</td>\n",
       "      <td>Burnley</td>\n",
       "      <td>Burnley FC</td>\n",
       "      <td>club</td>\n",
       "      <td>1646</td>\n",
       "    </tr>\n",
       "    <tr>\n",
       "      <th>54</th>\n",
       "      <td>{'name': 'England', 'id': '0', 'alpha3code': '...</td>\n",
       "      <td>Leicester</td>\n",
       "      <td>Leicester City</td>\n",
       "      <td>Leicester City FC</td>\n",
       "      <td>club</td>\n",
       "      <td>1631</td>\n",
       "    </tr>\n",
       "    <tr>\n",
       "      <th>55</th>\n",
       "      <td>{'name': 'England', 'id': '0', 'alpha3code': '...</td>\n",
       "      <td>London</td>\n",
       "      <td>West Ham United</td>\n",
       "      <td>West Ham United FC</td>\n",
       "      <td>club</td>\n",
       "      <td>1633</td>\n",
       "    </tr>\n",
       "    <tr>\n",
       "      <th>56</th>\n",
       "      <td>{'name': 'England', 'id': '0', 'alpha3code': '...</td>\n",
       "      <td>Stoke-on-Trent</td>\n",
       "      <td>Stoke City</td>\n",
       "      <td>Stoke City FC</td>\n",
       "      <td>club</td>\n",
       "      <td>1639</td>\n",
       "    </tr>\n",
       "    <tr>\n",
       "      <th>60</th>\n",
       "      <td>{'name': 'England', 'id': '0', 'alpha3code': '...</td>\n",
       "      <td>Watford</td>\n",
       "      <td>Watford</td>\n",
       "      <td>Watford FC</td>\n",
       "      <td>club</td>\n",
       "      <td>1644</td>\n",
       "    </tr>\n",
       "    <tr>\n",
       "      <th>65</th>\n",
       "      <td>{'name': 'England', 'id': '0', 'alpha3code': '...</td>\n",
       "      <td>Liverpool</td>\n",
       "      <td>Everton</td>\n",
       "      <td>Everton FC</td>\n",
       "      <td>club</td>\n",
       "      <td>1623</td>\n",
       "    </tr>\n",
       "    <tr>\n",
       "      <th>66</th>\n",
       "      <td>{'name': 'England', 'id': '0', 'alpha3code': '...</td>\n",
       "      <td>West Bromwich</td>\n",
       "      <td>West Bromwich Albion</td>\n",
       "      <td>West Bromwich Albion FC</td>\n",
       "      <td>club</td>\n",
       "      <td>1627</td>\n",
       "    </tr>\n",
       "    <tr>\n",
       "      <th>67</th>\n",
       "      <td>{'name': 'England', 'id': '0', 'alpha3code': '...</td>\n",
       "      <td>Manchester</td>\n",
       "      <td>Manchester City</td>\n",
       "      <td>Manchester City FC</td>\n",
       "      <td>club</td>\n",
       "      <td>1625</td>\n",
       "    </tr>\n",
       "    <tr>\n",
       "      <th>68</th>\n",
       "      <td>{'name': 'England', 'id': '0', 'alpha3code': '...</td>\n",
       "      <td>London</td>\n",
       "      <td>Tottenham Hotspur</td>\n",
       "      <td>Tottenham Hotspur FC</td>\n",
       "      <td>club</td>\n",
       "      <td>1624</td>\n",
       "    </tr>\n",
       "    <tr>\n",
       "      <th>70</th>\n",
       "      <td>{'name': 'England', 'id': '0', 'alpha3code': '...</td>\n",
       "      <td>London</td>\n",
       "      <td>Crystal Palace</td>\n",
       "      <td>Crystal Palace FC</td>\n",
       "      <td>club</td>\n",
       "      <td>1628</td>\n",
       "    </tr>\n",
       "    <tr>\n",
       "      <th>75</th>\n",
       "      <td>{'name': 'England', 'id': '0', 'alpha3code': '...</td>\n",
       "      <td>Southampton, Hampshire</td>\n",
       "      <td>Southampton</td>\n",
       "      <td>Southampton FC</td>\n",
       "      <td>club</td>\n",
       "      <td>1619</td>\n",
       "    </tr>\n",
       "    <tr>\n",
       "      <th>77</th>\n",
       "      <td>{'name': 'England', 'id': '0', 'alpha3code': '...</td>\n",
       "      <td>Liverpool</td>\n",
       "      <td>Liverpool</td>\n",
       "      <td>Liverpool FC</td>\n",
       "      <td>club</td>\n",
       "      <td>1612</td>\n",
       "    </tr>\n",
       "    <tr>\n",
       "      <th>78</th>\n",
       "      <td>{'name': 'England', 'id': '0', 'alpha3code': '...</td>\n",
       "      <td>London</td>\n",
       "      <td>Chelsea</td>\n",
       "      <td>Chelsea FC</td>\n",
       "      <td>club</td>\n",
       "      <td>1610</td>\n",
       "    </tr>\n",
       "    <tr>\n",
       "      <th>79</th>\n",
       "      <td>{'name': 'England', 'id': '0', 'alpha3code': '...</td>\n",
       "      <td>Manchester</td>\n",
       "      <td>Manchester United</td>\n",
       "      <td>Manchester United FC</td>\n",
       "      <td>club</td>\n",
       "      <td>1611</td>\n",
       "    </tr>\n",
       "    <tr>\n",
       "      <th>84</th>\n",
       "      <td>{'name': 'England', 'id': '0', 'alpha3code': '...</td>\n",
       "      <td>London</td>\n",
       "      <td>Arsenal</td>\n",
       "      <td>Arsenal FC</td>\n",
       "      <td>club</td>\n",
       "      <td>1609</td>\n",
       "    </tr>\n",
       "    <tr>\n",
       "      <th>19</th>\n",
       "      <td>{'name': 'Wales', 'id': '0', 'alpha3code': 'XW...</td>\n",
       "      <td>Swansea</td>\n",
       "      <td>Swansea City</td>\n",
       "      <td>Swansea City AFC</td>\n",
       "      <td>club</td>\n",
       "      <td>10531</td>\n",
       "    </tr>\n",
       "  </tbody>\n",
       "</table>\n",
       "</div>"
      ],
      "text/plain": [
       "                                                 area  \\\n",
       "0   {'name': 'England', 'id': '0', 'alpha3code': '...   \n",
       "8   {'name': 'England', 'id': '0', 'alpha3code': '...   \n",
       "26  {'name': 'England', 'id': '0', 'alpha3code': '...   \n",
       "27  {'name': 'England', 'id': '0', 'alpha3code': '...   \n",
       "39  {'name': 'England', 'id': '0', 'alpha3code': '...   \n",
       "54  {'name': 'England', 'id': '0', 'alpha3code': '...   \n",
       "55  {'name': 'England', 'id': '0', 'alpha3code': '...   \n",
       "56  {'name': 'England', 'id': '0', 'alpha3code': '...   \n",
       "60  {'name': 'England', 'id': '0', 'alpha3code': '...   \n",
       "65  {'name': 'England', 'id': '0', 'alpha3code': '...   \n",
       "66  {'name': 'England', 'id': '0', 'alpha3code': '...   \n",
       "67  {'name': 'England', 'id': '0', 'alpha3code': '...   \n",
       "68  {'name': 'England', 'id': '0', 'alpha3code': '...   \n",
       "70  {'name': 'England', 'id': '0', 'alpha3code': '...   \n",
       "75  {'name': 'England', 'id': '0', 'alpha3code': '...   \n",
       "77  {'name': 'England', 'id': '0', 'alpha3code': '...   \n",
       "78  {'name': 'England', 'id': '0', 'alpha3code': '...   \n",
       "79  {'name': 'England', 'id': '0', 'alpha3code': '...   \n",
       "84  {'name': 'England', 'id': '0', 'alpha3code': '...   \n",
       "19  {'name': 'Wales', 'id': '0', 'alpha3code': 'XW...   \n",
       "\n",
       "                            city                    name  \\\n",
       "0            Newcastle upon Tyne        Newcastle United   \n",
       "8   Huddersfield, West Yorkshire       Huddersfield Town   \n",
       "26           Bournemouth, Dorset         AFC Bournemouth   \n",
       "27         Brighton, East Sussex  Brighton & Hove Albion   \n",
       "39           Burnley, Lancashire                 Burnley   \n",
       "54                     Leicester          Leicester City   \n",
       "55                        London         West Ham United   \n",
       "56                Stoke-on-Trent              Stoke City   \n",
       "60                       Watford                 Watford   \n",
       "65                     Liverpool                 Everton   \n",
       "66                 West Bromwich    West Bromwich Albion   \n",
       "67                    Manchester         Manchester City   \n",
       "68                        London       Tottenham Hotspur   \n",
       "70                        London          Crystal Palace   \n",
       "75        Southampton, Hampshire             Southampton   \n",
       "77                     Liverpool               Liverpool   \n",
       "78                        London                 Chelsea   \n",
       "79                    Manchester       Manchester United   \n",
       "84                        London                 Arsenal   \n",
       "19                       Swansea            Swansea City   \n",
       "\n",
       "                 officialName  type   wyId  \n",
       "0         Newcastle United FC  club   1613  \n",
       "8        Huddersfield Town FC  club   1673  \n",
       "26            AFC Bournemouth  club   1659  \n",
       "27  Brighton & Hove Albion FC  club   1651  \n",
       "39                 Burnley FC  club   1646  \n",
       "54          Leicester City FC  club   1631  \n",
       "55         West Ham United FC  club   1633  \n",
       "56              Stoke City FC  club   1639  \n",
       "60                 Watford FC  club   1644  \n",
       "65                 Everton FC  club   1623  \n",
       "66    West Bromwich Albion FC  club   1627  \n",
       "67         Manchester City FC  club   1625  \n",
       "68       Tottenham Hotspur FC  club   1624  \n",
       "70          Crystal Palace FC  club   1628  \n",
       "75             Southampton FC  club   1619  \n",
       "77               Liverpool FC  club   1612  \n",
       "78                 Chelsea FC  club   1610  \n",
       "79       Manchester United FC  club   1611  \n",
       "84                 Arsenal FC  club   1609  \n",
       "19           Swansea City AFC  club  10531  "
      ]
     },
     "execution_count": 124,
     "metadata": {},
     "output_type": "execute_result"
    }
   ],
   "source": [
    "english = english.append(sw)\n",
    "english"
   ]
  },
  {
   "cell_type": "markdown",
   "metadata": {},
   "source": [
    "We create a dataframe with only the columns 'name' and 'wyId', that are what we need to complete our task."
   ]
  },
  {
   "cell_type": "code",
   "execution_count": 125,
   "metadata": {},
   "outputs": [
    {
     "data": {
      "text/html": [
       "<div>\n",
       "<style scoped>\n",
       "    .dataframe tbody tr th:only-of-type {\n",
       "        vertical-align: middle;\n",
       "    }\n",
       "\n",
       "    .dataframe tbody tr th {\n",
       "        vertical-align: top;\n",
       "    }\n",
       "\n",
       "    .dataframe thead th {\n",
       "        text-align: right;\n",
       "    }\n",
       "</style>\n",
       "<table border=\"1\" class=\"dataframe\">\n",
       "  <thead>\n",
       "    <tr style=\"text-align: right;\">\n",
       "      <th></th>\n",
       "      <th>name</th>\n",
       "      <th>code</th>\n",
       "    </tr>\n",
       "  </thead>\n",
       "  <tbody>\n",
       "    <tr>\n",
       "      <th>0</th>\n",
       "      <td>Arsenal</td>\n",
       "      <td>1609</td>\n",
       "    </tr>\n",
       "    <tr>\n",
       "      <th>1</th>\n",
       "      <td>Chelsea</td>\n",
       "      <td>1610</td>\n",
       "    </tr>\n",
       "    <tr>\n",
       "      <th>2</th>\n",
       "      <td>Manchester United</td>\n",
       "      <td>1611</td>\n",
       "    </tr>\n",
       "    <tr>\n",
       "      <th>3</th>\n",
       "      <td>Liverpool</td>\n",
       "      <td>1612</td>\n",
       "    </tr>\n",
       "    <tr>\n",
       "      <th>4</th>\n",
       "      <td>Newcastle United</td>\n",
       "      <td>1613</td>\n",
       "    </tr>\n",
       "  </tbody>\n",
       "</table>\n",
       "</div>"
      ],
      "text/plain": [
       "                name  code\n",
       "0            Arsenal  1609\n",
       "1            Chelsea  1610\n",
       "2  Manchester United  1611\n",
       "3          Liverpool  1612\n",
       "4   Newcastle United  1613"
      ]
     },
     "execution_count": 125,
     "metadata": {},
     "output_type": "execute_result"
    }
   ],
   "source": [
    "Engteam = pd.DataFrame(english['name'])\n",
    "Engteam['code'] = english['wyId']\n",
    "Engteam = Engteam.sort_values('code') #sorting values by 'code'\n",
    "Engteam = Engteam.reset_index(drop=True) #reindexing\n",
    "\n",
    "Engteam.head()"
   ]
  },
  {
   "cell_type": "markdown",
   "metadata": {},
   "source": [
    "From the dataframe 'matches' we only need the 'gameweek' and 'winner' columns, so we create the Premier dataframe."
   ]
  },
  {
   "cell_type": "code",
   "execution_count": 126,
   "metadata": {},
   "outputs": [
    {
     "data": {
      "text/html": [
       "<div>\n",
       "<style scoped>\n",
       "    .dataframe tbody tr th:only-of-type {\n",
       "        vertical-align: middle;\n",
       "    }\n",
       "\n",
       "    .dataframe tbody tr th {\n",
       "        vertical-align: top;\n",
       "    }\n",
       "\n",
       "    .dataframe thead th {\n",
       "        text-align: right;\n",
       "    }\n",
       "</style>\n",
       "<table border=\"1\" class=\"dataframe\">\n",
       "  <thead>\n",
       "    <tr style=\"text-align: right;\">\n",
       "      <th></th>\n",
       "      <th>gameweek</th>\n",
       "      <th>winner</th>\n",
       "      <th>result</th>\n",
       "    </tr>\n",
       "  </thead>\n",
       "  <tbody>\n",
       "    <tr>\n",
       "      <th>0</th>\n",
       "      <td>1</td>\n",
       "      <td>1609</td>\n",
       "      <td>Arsenal - Leicester City, 4 - 3</td>\n",
       "    </tr>\n",
       "    <tr>\n",
       "      <th>1</th>\n",
       "      <td>1</td>\n",
       "      <td>1611</td>\n",
       "      <td>Manchester United - West Ham United, 4 - 0</td>\n",
       "    </tr>\n",
       "    <tr>\n",
       "      <th>2</th>\n",
       "      <td>1</td>\n",
       "      <td>1624</td>\n",
       "      <td>Newcastle United - Tottenham Hotspur, 0 - 2</td>\n",
       "    </tr>\n",
       "    <tr>\n",
       "      <th>3</th>\n",
       "      <td>1</td>\n",
       "      <td>1625</td>\n",
       "      <td>Brighton &amp; Hove Albion - Manchester City, 0 - 2</td>\n",
       "    </tr>\n",
       "    <tr>\n",
       "      <th>4</th>\n",
       "      <td>1</td>\n",
       "      <td>1646</td>\n",
       "      <td>Chelsea - Burnley, 2 - 3</td>\n",
       "    </tr>\n",
       "    <tr>\n",
       "      <th>5</th>\n",
       "      <td>1</td>\n",
       "      <td>0</td>\n",
       "      <td>Watford - Liverpool, 3 - 3</td>\n",
       "    </tr>\n",
       "    <tr>\n",
       "      <th>6</th>\n",
       "      <td>1</td>\n",
       "      <td>1623</td>\n",
       "      <td>Everton - Stoke City, 1 - 0</td>\n",
       "    </tr>\n",
       "    <tr>\n",
       "      <th>7</th>\n",
       "      <td>1</td>\n",
       "      <td>0</td>\n",
       "      <td>Southampton - Swansea City, 0 - 0</td>\n",
       "    </tr>\n",
       "  </tbody>\n",
       "</table>\n",
       "</div>"
      ],
      "text/plain": [
       "   gameweek  winner                                           result\n",
       "0         1    1609                  Arsenal - Leicester City, 4 - 3\n",
       "1         1    1611       Manchester United - West Ham United, 4 - 0\n",
       "2         1    1624      Newcastle United - Tottenham Hotspur, 0 - 2\n",
       "3         1    1625  Brighton & Hove Albion - Manchester City, 0 - 2\n",
       "4         1    1646                         Chelsea - Burnley, 2 - 3\n",
       "5         1       0                       Watford - Liverpool, 3 - 3\n",
       "6         1    1623                      Everton - Stoke City, 1 - 0\n",
       "7         1       0                Southampton - Swansea City, 0 - 0"
      ]
     },
     "execution_count": 126,
     "metadata": {},
     "output_type": "execute_result"
    }
   ],
   "source": [
    "Premier = pd.DataFrame(matches['gameweek'])\n",
    "Premier['winner'] = matches['winner']\n",
    "Premier['result'] = matches['label']\n",
    "Premier = Premier.sort_values('gameweek')\n",
    "Premier = Premier.reset_index(drop=True)\n",
    "\n",
    "Premier[:8]"
   ]
  },
  {
   "cell_type": "markdown",
   "metadata": {},
   "source": [
    "So in the 'gameweek' column we can see the week where the match was disputed, and in 'winner' the wyId code of the winning team. It's worth of notice that if there's a draw the code value is 0."
   ]
  },
  {
   "cell_type": "markdown",
   "metadata": {},
   "source": [
    "#### Creating the ranking with all the points of each team during the 38 weeks of the season."
   ]
  },
  {
   "cell_type": "markdown",
   "metadata": {},
   "source": [
    "We start by adding 38 week columns to the Engteam dataframe."
   ]
  },
  {
   "cell_type": "code",
   "execution_count": 127,
   "metadata": {},
   "outputs": [
    {
     "data": {
      "text/html": [
       "<div>\n",
       "<style scoped>\n",
       "    .dataframe tbody tr th:only-of-type {\n",
       "        vertical-align: middle;\n",
       "    }\n",
       "\n",
       "    .dataframe tbody tr th {\n",
       "        vertical-align: top;\n",
       "    }\n",
       "\n",
       "    .dataframe thead th {\n",
       "        text-align: right;\n",
       "    }\n",
       "</style>\n",
       "<table border=\"1\" class=\"dataframe\">\n",
       "  <thead>\n",
       "    <tr style=\"text-align: right;\">\n",
       "      <th></th>\n",
       "      <th>name</th>\n",
       "      <th>code</th>\n",
       "      <th>week 1</th>\n",
       "      <th>week 2</th>\n",
       "      <th>week 3</th>\n",
       "      <th>week 4</th>\n",
       "      <th>week 5</th>\n",
       "      <th>week 6</th>\n",
       "      <th>week 7</th>\n",
       "      <th>week 8</th>\n",
       "      <th>...</th>\n",
       "      <th>week 29</th>\n",
       "      <th>week 30</th>\n",
       "      <th>week 31</th>\n",
       "      <th>week 32</th>\n",
       "      <th>week 33</th>\n",
       "      <th>week 34</th>\n",
       "      <th>week 35</th>\n",
       "      <th>week 36</th>\n",
       "      <th>week 37</th>\n",
       "      <th>week 38</th>\n",
       "    </tr>\n",
       "  </thead>\n",
       "  <tbody>\n",
       "    <tr>\n",
       "      <th>0</th>\n",
       "      <td>Arsenal</td>\n",
       "      <td>1609</td>\n",
       "      <td>0</td>\n",
       "      <td>0</td>\n",
       "      <td>0</td>\n",
       "      <td>0</td>\n",
       "      <td>0</td>\n",
       "      <td>0</td>\n",
       "      <td>0</td>\n",
       "      <td>0</td>\n",
       "      <td>...</td>\n",
       "      <td>0</td>\n",
       "      <td>0</td>\n",
       "      <td>0</td>\n",
       "      <td>0</td>\n",
       "      <td>0</td>\n",
       "      <td>0</td>\n",
       "      <td>0</td>\n",
       "      <td>0</td>\n",
       "      <td>0</td>\n",
       "      <td>0</td>\n",
       "    </tr>\n",
       "    <tr>\n",
       "      <th>1</th>\n",
       "      <td>Chelsea</td>\n",
       "      <td>1610</td>\n",
       "      <td>0</td>\n",
       "      <td>0</td>\n",
       "      <td>0</td>\n",
       "      <td>0</td>\n",
       "      <td>0</td>\n",
       "      <td>0</td>\n",
       "      <td>0</td>\n",
       "      <td>0</td>\n",
       "      <td>...</td>\n",
       "      <td>0</td>\n",
       "      <td>0</td>\n",
       "      <td>0</td>\n",
       "      <td>0</td>\n",
       "      <td>0</td>\n",
       "      <td>0</td>\n",
       "      <td>0</td>\n",
       "      <td>0</td>\n",
       "      <td>0</td>\n",
       "      <td>0</td>\n",
       "    </tr>\n",
       "    <tr>\n",
       "      <th>2</th>\n",
       "      <td>Manchester United</td>\n",
       "      <td>1611</td>\n",
       "      <td>0</td>\n",
       "      <td>0</td>\n",
       "      <td>0</td>\n",
       "      <td>0</td>\n",
       "      <td>0</td>\n",
       "      <td>0</td>\n",
       "      <td>0</td>\n",
       "      <td>0</td>\n",
       "      <td>...</td>\n",
       "      <td>0</td>\n",
       "      <td>0</td>\n",
       "      <td>0</td>\n",
       "      <td>0</td>\n",
       "      <td>0</td>\n",
       "      <td>0</td>\n",
       "      <td>0</td>\n",
       "      <td>0</td>\n",
       "      <td>0</td>\n",
       "      <td>0</td>\n",
       "    </tr>\n",
       "    <tr>\n",
       "      <th>3</th>\n",
       "      <td>Liverpool</td>\n",
       "      <td>1612</td>\n",
       "      <td>0</td>\n",
       "      <td>0</td>\n",
       "      <td>0</td>\n",
       "      <td>0</td>\n",
       "      <td>0</td>\n",
       "      <td>0</td>\n",
       "      <td>0</td>\n",
       "      <td>0</td>\n",
       "      <td>...</td>\n",
       "      <td>0</td>\n",
       "      <td>0</td>\n",
       "      <td>0</td>\n",
       "      <td>0</td>\n",
       "      <td>0</td>\n",
       "      <td>0</td>\n",
       "      <td>0</td>\n",
       "      <td>0</td>\n",
       "      <td>0</td>\n",
       "      <td>0</td>\n",
       "    </tr>\n",
       "    <tr>\n",
       "      <th>4</th>\n",
       "      <td>Newcastle United</td>\n",
       "      <td>1613</td>\n",
       "      <td>0</td>\n",
       "      <td>0</td>\n",
       "      <td>0</td>\n",
       "      <td>0</td>\n",
       "      <td>0</td>\n",
       "      <td>0</td>\n",
       "      <td>0</td>\n",
       "      <td>0</td>\n",
       "      <td>...</td>\n",
       "      <td>0</td>\n",
       "      <td>0</td>\n",
       "      <td>0</td>\n",
       "      <td>0</td>\n",
       "      <td>0</td>\n",
       "      <td>0</td>\n",
       "      <td>0</td>\n",
       "      <td>0</td>\n",
       "      <td>0</td>\n",
       "      <td>0</td>\n",
       "    </tr>\n",
       "  </tbody>\n",
       "</table>\n",
       "<p>5 rows × 40 columns</p>\n",
       "</div>"
      ],
      "text/plain": [
       "                name  code  week 1  week 2  week 3  week 4  week 5  week 6  \\\n",
       "0            Arsenal  1609       0       0       0       0       0       0   \n",
       "1            Chelsea  1610       0       0       0       0       0       0   \n",
       "2  Manchester United  1611       0       0       0       0       0       0   \n",
       "3          Liverpool  1612       0       0       0       0       0       0   \n",
       "4   Newcastle United  1613       0       0       0       0       0       0   \n",
       "\n",
       "   week 7  week 8   ...     week 29  week 30  week 31  week 32  week 33  \\\n",
       "0       0       0   ...           0        0        0        0        0   \n",
       "1       0       0   ...           0        0        0        0        0   \n",
       "2       0       0   ...           0        0        0        0        0   \n",
       "3       0       0   ...           0        0        0        0        0   \n",
       "4       0       0   ...           0        0        0        0        0   \n",
       "\n",
       "   week 34  week 35  week 36  week 37  week 38  \n",
       "0        0        0        0        0        0  \n",
       "1        0        0        0        0        0  \n",
       "2        0        0        0        0        0  \n",
       "3        0        0        0        0        0  \n",
       "4        0        0        0        0        0  \n",
       "\n",
       "[5 rows x 40 columns]"
      ]
     },
     "execution_count": 127,
     "metadata": {},
     "output_type": "execute_result"
    }
   ],
   "source": [
    "for i in range(1,39):\n",
    "    Engteam['week {}'.format(i)] = 0\n",
    "Engteam.head()"
   ]
  },
  {
   "cell_type": "code",
   "execution_count": 128,
   "metadata": {},
   "outputs": [],
   "source": [
    "#Creating copy dataframes to avoid damaging the original ones\n",
    "E = Engteam.copy()\n",
    "P = Premier.copy()"
   ]
  },
  {
   "cell_type": "markdown",
   "metadata": {},
   "source": [
    "Now we are ready to complete the E dataframe with all the results."
   ]
  },
  {
   "cell_type": "code",
   "execution_count": 129,
   "metadata": {},
   "outputs": [
    {
     "data": {
      "text/html": [
       "<div>\n",
       "<style scoped>\n",
       "    .dataframe tbody tr th:only-of-type {\n",
       "        vertical-align: middle;\n",
       "    }\n",
       "\n",
       "    .dataframe tbody tr th {\n",
       "        vertical-align: top;\n",
       "    }\n",
       "\n",
       "    .dataframe thead th {\n",
       "        text-align: right;\n",
       "    }\n",
       "</style>\n",
       "<table border=\"1\" class=\"dataframe\">\n",
       "  <thead>\n",
       "    <tr style=\"text-align: right;\">\n",
       "      <th></th>\n",
       "      <th>name</th>\n",
       "      <th>code</th>\n",
       "      <th>week 1</th>\n",
       "      <th>week 2</th>\n",
       "      <th>week 3</th>\n",
       "      <th>week 4</th>\n",
       "      <th>week 5</th>\n",
       "      <th>week 6</th>\n",
       "      <th>week 7</th>\n",
       "      <th>week 8</th>\n",
       "      <th>...</th>\n",
       "      <th>week 29</th>\n",
       "      <th>week 30</th>\n",
       "      <th>week 31</th>\n",
       "      <th>week 32</th>\n",
       "      <th>week 33</th>\n",
       "      <th>week 34</th>\n",
       "      <th>week 35</th>\n",
       "      <th>week 36</th>\n",
       "      <th>week 37</th>\n",
       "      <th>week 38</th>\n",
       "    </tr>\n",
       "  </thead>\n",
       "  <tbody>\n",
       "    <tr>\n",
       "      <th>0</th>\n",
       "      <td>Arsenal</td>\n",
       "      <td>1609</td>\n",
       "      <td>3</td>\n",
       "      <td>0</td>\n",
       "      <td>0</td>\n",
       "      <td>3</td>\n",
       "      <td>1</td>\n",
       "      <td>3</td>\n",
       "      <td>3</td>\n",
       "      <td>0</td>\n",
       "      <td>...</td>\n",
       "      <td>0</td>\n",
       "      <td>3</td>\n",
       "      <td>0</td>\n",
       "      <td>3</td>\n",
       "      <td>3</td>\n",
       "      <td>0</td>\n",
       "      <td>3</td>\n",
       "      <td>0</td>\n",
       "      <td>3</td>\n",
       "      <td>3</td>\n",
       "    </tr>\n",
       "    <tr>\n",
       "      <th>1</th>\n",
       "      <td>Chelsea</td>\n",
       "      <td>1610</td>\n",
       "      <td>0</td>\n",
       "      <td>3</td>\n",
       "      <td>3</td>\n",
       "      <td>3</td>\n",
       "      <td>1</td>\n",
       "      <td>3</td>\n",
       "      <td>0</td>\n",
       "      <td>0</td>\n",
       "      <td>...</td>\n",
       "      <td>0</td>\n",
       "      <td>3</td>\n",
       "      <td>3</td>\n",
       "      <td>0</td>\n",
       "      <td>1</td>\n",
       "      <td>3</td>\n",
       "      <td>1</td>\n",
       "      <td>3</td>\n",
       "      <td>3</td>\n",
       "      <td>0</td>\n",
       "    </tr>\n",
       "    <tr>\n",
       "      <th>2</th>\n",
       "      <td>Manchester United</td>\n",
       "      <td>1611</td>\n",
       "      <td>3</td>\n",
       "      <td>3</td>\n",
       "      <td>3</td>\n",
       "      <td>1</td>\n",
       "      <td>3</td>\n",
       "      <td>3</td>\n",
       "      <td>3</td>\n",
       "      <td>1</td>\n",
       "      <td>...</td>\n",
       "      <td>3</td>\n",
       "      <td>3</td>\n",
       "      <td>1</td>\n",
       "      <td>3</td>\n",
       "      <td>3</td>\n",
       "      <td>0</td>\n",
       "      <td>3</td>\n",
       "      <td>3</td>\n",
       "      <td>0</td>\n",
       "      <td>3</td>\n",
       "    </tr>\n",
       "    <tr>\n",
       "      <th>3</th>\n",
       "      <td>Liverpool</td>\n",
       "      <td>1612</td>\n",
       "      <td>1</td>\n",
       "      <td>3</td>\n",
       "      <td>3</td>\n",
       "      <td>0</td>\n",
       "      <td>1</td>\n",
       "      <td>3</td>\n",
       "      <td>1</td>\n",
       "      <td>1</td>\n",
       "      <td>...</td>\n",
       "      <td>3</td>\n",
       "      <td>0</td>\n",
       "      <td>3</td>\n",
       "      <td>3</td>\n",
       "      <td>1</td>\n",
       "      <td>3</td>\n",
       "      <td>1</td>\n",
       "      <td>1</td>\n",
       "      <td>0</td>\n",
       "      <td>3</td>\n",
       "    </tr>\n",
       "    <tr>\n",
       "      <th>4</th>\n",
       "      <td>Newcastle United</td>\n",
       "      <td>1613</td>\n",
       "      <td>0</td>\n",
       "      <td>0</td>\n",
       "      <td>3</td>\n",
       "      <td>3</td>\n",
       "      <td>3</td>\n",
       "      <td>0</td>\n",
       "      <td>1</td>\n",
       "      <td>1</td>\n",
       "      <td>...</td>\n",
       "      <td>0</td>\n",
       "      <td>3</td>\n",
       "      <td>0</td>\n",
       "      <td>3</td>\n",
       "      <td>3</td>\n",
       "      <td>3</td>\n",
       "      <td>0</td>\n",
       "      <td>0</td>\n",
       "      <td>0</td>\n",
       "      <td>3</td>\n",
       "    </tr>\n",
       "    <tr>\n",
       "      <th>5</th>\n",
       "      <td>Southampton</td>\n",
       "      <td>1619</td>\n",
       "      <td>1</td>\n",
       "      <td>3</td>\n",
       "      <td>1</td>\n",
       "      <td>0</td>\n",
       "      <td>3</td>\n",
       "      <td>0</td>\n",
       "      <td>0</td>\n",
       "      <td>1</td>\n",
       "      <td>...</td>\n",
       "      <td>1</td>\n",
       "      <td>0</td>\n",
       "      <td>3</td>\n",
       "      <td>0</td>\n",
       "      <td>0</td>\n",
       "      <td>0</td>\n",
       "      <td>1</td>\n",
       "      <td>3</td>\n",
       "      <td>1</td>\n",
       "      <td>0</td>\n",
       "    </tr>\n",
       "    <tr>\n",
       "      <th>6</th>\n",
       "      <td>Everton</td>\n",
       "      <td>1623</td>\n",
       "      <td>3</td>\n",
       "      <td>1</td>\n",
       "      <td>0</td>\n",
       "      <td>0</td>\n",
       "      <td>0</td>\n",
       "      <td>3</td>\n",
       "      <td>0</td>\n",
       "      <td>1</td>\n",
       "      <td>...</td>\n",
       "      <td>0</td>\n",
       "      <td>1</td>\n",
       "      <td>3</td>\n",
       "      <td>0</td>\n",
       "      <td>1</td>\n",
       "      <td>1</td>\n",
       "      <td>3</td>\n",
       "      <td>3</td>\n",
       "      <td>1</td>\n",
       "      <td>0</td>\n",
       "    </tr>\n",
       "    <tr>\n",
       "      <th>7</th>\n",
       "      <td>Tottenham Hotspur</td>\n",
       "      <td>1624</td>\n",
       "      <td>3</td>\n",
       "      <td>0</td>\n",
       "      <td>1</td>\n",
       "      <td>3</td>\n",
       "      <td>1</td>\n",
       "      <td>3</td>\n",
       "      <td>3</td>\n",
       "      <td>3</td>\n",
       "      <td>...</td>\n",
       "      <td>3</td>\n",
       "      <td>3</td>\n",
       "      <td>3</td>\n",
       "      <td>3</td>\n",
       "      <td>3</td>\n",
       "      <td>0</td>\n",
       "      <td>1</td>\n",
       "      <td>3</td>\n",
       "      <td>0</td>\n",
       "      <td>3</td>\n",
       "    </tr>\n",
       "    <tr>\n",
       "      <th>8</th>\n",
       "      <td>Manchester City</td>\n",
       "      <td>1625</td>\n",
       "      <td>3</td>\n",
       "      <td>1</td>\n",
       "      <td>3</td>\n",
       "      <td>3</td>\n",
       "      <td>3</td>\n",
       "      <td>3</td>\n",
       "      <td>3</td>\n",
       "      <td>3</td>\n",
       "      <td>...</td>\n",
       "      <td>3</td>\n",
       "      <td>3</td>\n",
       "      <td>3</td>\n",
       "      <td>3</td>\n",
       "      <td>0</td>\n",
       "      <td>3</td>\n",
       "      <td>3</td>\n",
       "      <td>3</td>\n",
       "      <td>1</td>\n",
       "      <td>3</td>\n",
       "    </tr>\n",
       "    <tr>\n",
       "      <th>9</th>\n",
       "      <td>West Bromwich Albion</td>\n",
       "      <td>1627</td>\n",
       "      <td>3</td>\n",
       "      <td>3</td>\n",
       "      <td>1</td>\n",
       "      <td>0</td>\n",
       "      <td>1</td>\n",
       "      <td>0</td>\n",
       "      <td>1</td>\n",
       "      <td>1</td>\n",
       "      <td>...</td>\n",
       "      <td>0</td>\n",
       "      <td>0</td>\n",
       "      <td>0</td>\n",
       "      <td>0</td>\n",
       "      <td>1</td>\n",
       "      <td>3</td>\n",
       "      <td>1</td>\n",
       "      <td>3</td>\n",
       "      <td>3</td>\n",
       "      <td>0</td>\n",
       "    </tr>\n",
       "    <tr>\n",
       "      <th>10</th>\n",
       "      <td>Crystal Palace</td>\n",
       "      <td>1628</td>\n",
       "      <td>0</td>\n",
       "      <td>0</td>\n",
       "      <td>0</td>\n",
       "      <td>0</td>\n",
       "      <td>0</td>\n",
       "      <td>0</td>\n",
       "      <td>0</td>\n",
       "      <td>3</td>\n",
       "      <td>...</td>\n",
       "      <td>0</td>\n",
       "      <td>0</td>\n",
       "      <td>3</td>\n",
       "      <td>0</td>\n",
       "      <td>1</td>\n",
       "      <td>3</td>\n",
       "      <td>1</td>\n",
       "      <td>3</td>\n",
       "      <td>3</td>\n",
       "      <td>3</td>\n",
       "    </tr>\n",
       "    <tr>\n",
       "      <th>11</th>\n",
       "      <td>Leicester City</td>\n",
       "      <td>1631</td>\n",
       "      <td>0</td>\n",
       "      <td>3</td>\n",
       "      <td>0</td>\n",
       "      <td>0</td>\n",
       "      <td>1</td>\n",
       "      <td>0</td>\n",
       "      <td>1</td>\n",
       "      <td>1</td>\n",
       "      <td>...</td>\n",
       "      <td>1</td>\n",
       "      <td>3</td>\n",
       "      <td>3</td>\n",
       "      <td>3</td>\n",
       "      <td>0</td>\n",
       "      <td>0</td>\n",
       "      <td>1</td>\n",
       "      <td>0</td>\n",
       "      <td>0</td>\n",
       "      <td>0</td>\n",
       "    </tr>\n",
       "    <tr>\n",
       "      <th>12</th>\n",
       "      <td>West Ham United</td>\n",
       "      <td>1633</td>\n",
       "      <td>0</td>\n",
       "      <td>0</td>\n",
       "      <td>0</td>\n",
       "      <td>3</td>\n",
       "      <td>1</td>\n",
       "      <td>0</td>\n",
       "      <td>3</td>\n",
       "      <td>1</td>\n",
       "      <td>...</td>\n",
       "      <td>0</td>\n",
       "      <td>0</td>\n",
       "      <td>1</td>\n",
       "      <td>3</td>\n",
       "      <td>1</td>\n",
       "      <td>1</td>\n",
       "      <td>0</td>\n",
       "      <td>0</td>\n",
       "      <td>3</td>\n",
       "      <td>3</td>\n",
       "    </tr>\n",
       "    <tr>\n",
       "      <th>13</th>\n",
       "      <td>Stoke City</td>\n",
       "      <td>1639</td>\n",
       "      <td>0</td>\n",
       "      <td>3</td>\n",
       "      <td>1</td>\n",
       "      <td>1</td>\n",
       "      <td>0</td>\n",
       "      <td>0</td>\n",
       "      <td>3</td>\n",
       "      <td>0</td>\n",
       "      <td>...</td>\n",
       "      <td>1</td>\n",
       "      <td>0</td>\n",
       "      <td>0</td>\n",
       "      <td>0</td>\n",
       "      <td>0</td>\n",
       "      <td>1</td>\n",
       "      <td>1</td>\n",
       "      <td>1</td>\n",
       "      <td>0</td>\n",
       "      <td>3</td>\n",
       "    </tr>\n",
       "    <tr>\n",
       "      <th>14</th>\n",
       "      <td>Watford</td>\n",
       "      <td>1644</td>\n",
       "      <td>1</td>\n",
       "      <td>3</td>\n",
       "      <td>1</td>\n",
       "      <td>3</td>\n",
       "      <td>0</td>\n",
       "      <td>3</td>\n",
       "      <td>1</td>\n",
       "      <td>3</td>\n",
       "      <td>...</td>\n",
       "      <td>3</td>\n",
       "      <td>0</td>\n",
       "      <td>0</td>\n",
       "      <td>1</td>\n",
       "      <td>0</td>\n",
       "      <td>0</td>\n",
       "      <td>1</td>\n",
       "      <td>0</td>\n",
       "      <td>3</td>\n",
       "      <td>0</td>\n",
       "    </tr>\n",
       "    <tr>\n",
       "      <th>15</th>\n",
       "      <td>Burnley</td>\n",
       "      <td>1646</td>\n",
       "      <td>3</td>\n",
       "      <td>0</td>\n",
       "      <td>1</td>\n",
       "      <td>3</td>\n",
       "      <td>1</td>\n",
       "      <td>1</td>\n",
       "      <td>3</td>\n",
       "      <td>1</td>\n",
       "      <td>...</td>\n",
       "      <td>3</td>\n",
       "      <td>3</td>\n",
       "      <td>0</td>\n",
       "      <td>3</td>\n",
       "      <td>3</td>\n",
       "      <td>3</td>\n",
       "      <td>1</td>\n",
       "      <td>1</td>\n",
       "      <td>0</td>\n",
       "      <td>0</td>\n",
       "    </tr>\n",
       "    <tr>\n",
       "      <th>16</th>\n",
       "      <td>Brighton &amp; Hove Albion</td>\n",
       "      <td>1651</td>\n",
       "      <td>0</td>\n",
       "      <td>0</td>\n",
       "      <td>1</td>\n",
       "      <td>3</td>\n",
       "      <td>0</td>\n",
       "      <td>3</td>\n",
       "      <td>0</td>\n",
       "      <td>1</td>\n",
       "      <td>...</td>\n",
       "      <td>3</td>\n",
       "      <td>1</td>\n",
       "      <td>0</td>\n",
       "      <td>0</td>\n",
       "      <td>1</td>\n",
       "      <td>0</td>\n",
       "      <td>1</td>\n",
       "      <td>1</td>\n",
       "      <td>3</td>\n",
       "      <td>0</td>\n",
       "    </tr>\n",
       "    <tr>\n",
       "      <th>17</th>\n",
       "      <td>AFC Bournemouth</td>\n",
       "      <td>1659</td>\n",
       "      <td>0</td>\n",
       "      <td>0</td>\n",
       "      <td>0</td>\n",
       "      <td>0</td>\n",
       "      <td>3</td>\n",
       "      <td>0</td>\n",
       "      <td>1</td>\n",
       "      <td>0</td>\n",
       "      <td>...</td>\n",
       "      <td>1</td>\n",
       "      <td>0</td>\n",
       "      <td>3</td>\n",
       "      <td>1</td>\n",
       "      <td>1</td>\n",
       "      <td>0</td>\n",
       "      <td>0</td>\n",
       "      <td>0</td>\n",
       "      <td>3</td>\n",
       "      <td>3</td>\n",
       "    </tr>\n",
       "    <tr>\n",
       "      <th>18</th>\n",
       "      <td>Huddersfield Town</td>\n",
       "      <td>1673</td>\n",
       "      <td>3</td>\n",
       "      <td>3</td>\n",
       "      <td>1</td>\n",
       "      <td>0</td>\n",
       "      <td>1</td>\n",
       "      <td>1</td>\n",
       "      <td>0</td>\n",
       "      <td>0</td>\n",
       "      <td>...</td>\n",
       "      <td>0</td>\n",
       "      <td>1</td>\n",
       "      <td>0</td>\n",
       "      <td>0</td>\n",
       "      <td>1</td>\n",
       "      <td>3</td>\n",
       "      <td>1</td>\n",
       "      <td>0</td>\n",
       "      <td>1</td>\n",
       "      <td>0</td>\n",
       "    </tr>\n",
       "    <tr>\n",
       "      <th>19</th>\n",
       "      <td>Swansea City</td>\n",
       "      <td>10531</td>\n",
       "      <td>1</td>\n",
       "      <td>0</td>\n",
       "      <td>3</td>\n",
       "      <td>0</td>\n",
       "      <td>1</td>\n",
       "      <td>0</td>\n",
       "      <td>0</td>\n",
       "      <td>3</td>\n",
       "      <td>...</td>\n",
       "      <td>3</td>\n",
       "      <td>1</td>\n",
       "      <td>0</td>\n",
       "      <td>0</td>\n",
       "      <td>1</td>\n",
       "      <td>1</td>\n",
       "      <td>0</td>\n",
       "      <td>0</td>\n",
       "      <td>0</td>\n",
       "      <td>0</td>\n",
       "    </tr>\n",
       "  </tbody>\n",
       "</table>\n",
       "<p>20 rows × 40 columns</p>\n",
       "</div>"
      ],
      "text/plain": [
       "                      name   code  week 1  week 2  week 3  week 4  week 5  \\\n",
       "0                  Arsenal   1609       3       0       0       3       1   \n",
       "1                  Chelsea   1610       0       3       3       3       1   \n",
       "2        Manchester United   1611       3       3       3       1       3   \n",
       "3                Liverpool   1612       1       3       3       0       1   \n",
       "4         Newcastle United   1613       0       0       3       3       3   \n",
       "5              Southampton   1619       1       3       1       0       3   \n",
       "6                  Everton   1623       3       1       0       0       0   \n",
       "7        Tottenham Hotspur   1624       3       0       1       3       1   \n",
       "8          Manchester City   1625       3       1       3       3       3   \n",
       "9     West Bromwich Albion   1627       3       3       1       0       1   \n",
       "10          Crystal Palace   1628       0       0       0       0       0   \n",
       "11          Leicester City   1631       0       3       0       0       1   \n",
       "12         West Ham United   1633       0       0       0       3       1   \n",
       "13              Stoke City   1639       0       3       1       1       0   \n",
       "14                 Watford   1644       1       3       1       3       0   \n",
       "15                 Burnley   1646       3       0       1       3       1   \n",
       "16  Brighton & Hove Albion   1651       0       0       1       3       0   \n",
       "17         AFC Bournemouth   1659       0       0       0       0       3   \n",
       "18       Huddersfield Town   1673       3       3       1       0       1   \n",
       "19            Swansea City  10531       1       0       3       0       1   \n",
       "\n",
       "    week 6  week 7  week 8   ...     week 29  week 30  week 31  week 32  \\\n",
       "0        3       3       0   ...           0        3        0        3   \n",
       "1        3       0       0   ...           0        3        3        0   \n",
       "2        3       3       1   ...           3        3        1        3   \n",
       "3        3       1       1   ...           3        0        3        3   \n",
       "4        0       1       1   ...           0        3        0        3   \n",
       "5        0       0       1   ...           1        0        3        0   \n",
       "6        3       0       1   ...           0        1        3        0   \n",
       "7        3       3       3   ...           3        3        3        3   \n",
       "8        3       3       3   ...           3        3        3        3   \n",
       "9        0       1       1   ...           0        0        0        0   \n",
       "10       0       0       3   ...           0        0        3        0   \n",
       "11       0       1       1   ...           1        3        3        3   \n",
       "12       0       3       1   ...           0        0        1        3   \n",
       "13       0       3       0   ...           1        0        0        0   \n",
       "14       3       1       3   ...           3        0        0        1   \n",
       "15       1       3       1   ...           3        3        0        3   \n",
       "16       3       0       1   ...           3        1        0        0   \n",
       "17       0       1       0   ...           1        0        3        1   \n",
       "18       1       0       0   ...           0        1        0        0   \n",
       "19       0       0       3   ...           3        1        0        0   \n",
       "\n",
       "    week 33  week 34  week 35  week 36  week 37  week 38  \n",
       "0         3        0        3        0        3        3  \n",
       "1         1        3        1        3        3        0  \n",
       "2         3        0        3        3        0        3  \n",
       "3         1        3        1        1        0        3  \n",
       "4         3        3        0        0        0        3  \n",
       "5         0        0        1        3        1        0  \n",
       "6         1        1        3        3        1        0  \n",
       "7         3        0        1        3        0        3  \n",
       "8         0        3        3        3        1        3  \n",
       "9         1        3        1        3        3        0  \n",
       "10        1        3        1        3        3        3  \n",
       "11        0        0        1        0        0        0  \n",
       "12        1        1        0        0        3        3  \n",
       "13        0        1        1        1        0        3  \n",
       "14        0        0        1        0        3        0  \n",
       "15        3        3        1        1        0        0  \n",
       "16        1        0        1        1        3        0  \n",
       "17        1        0        0        0        3        3  \n",
       "18        1        3        1        0        1        0  \n",
       "19        1        1        0        0        0        0  \n",
       "\n",
       "[20 rows x 40 columns]"
      ]
     },
     "execution_count": 129,
     "metadata": {},
     "output_type": "execute_result"
    }
   ],
   "source": [
    "for i in range(380): #There are 380 total matches in the league.\n",
    "    if P['winner'][i] != 0: #If there is not a draw\n",
    "        \n",
    "        #Adding 3 as value if the wyId code is the same as the 'winner' code in P\n",
    "        E.loc[E['code'] == P['winner'][i], ['week {}'.format(P['gameweek'][i])]] = 3\n",
    "        \n",
    "    else:\n",
    "        for j in range(20):\n",
    "            \n",
    "            if E['name'][j] in P['result'][i]:#If the team name is in the 'result' value\n",
    "                E.at[j, 'week {}'.format(P['gameweek'][i])] = 1\n",
    "E"
   ]
  },
  {
   "cell_type": "markdown",
   "metadata": {},
   "source": [
    "#### Creating the plot"
   ]
  },
  {
   "cell_type": "code",
   "execution_count": 130,
   "metadata": {},
   "outputs": [],
   "source": [
    "E = E.loc[:, 'week 1':] #we remove the 'names' and 'code' columns, we don't need them anymore\n"
   ]
  },
  {
   "cell_type": "markdown",
   "metadata": {},
   "source": [
    "Now, we need to list of the result of each team so that we can sum them and plot the summed result of each team."
   ]
  },
  {
   "cell_type": "code",
   "execution_count": 131,
   "metadata": {},
   "outputs": [],
   "source": [
    "Graf = E.values.tolist()\n",
    "Grafv = list(Graf)\n"
   ]
  },
  {
   "cell_type": "code",
   "execution_count": 132,
   "metadata": {},
   "outputs": [],
   "source": [
    "for i in range(20):\n",
    "    for j in range(1,38):\n",
    "        Grafv[i][j] = Graf[i][j-1] + Graf[i][j] #Summing every week result with the past ones\n"
   ]
  },
  {
   "cell_type": "markdown",
   "metadata": {},
   "source": [
    "We can finally plot. "
   ]
  },
  {
   "cell_type": "code",
   "execution_count": 193,
   "metadata": {},
   "outputs": [],
   "source": [
    "wg = []\n",
    "for i in range(1,39):\n",
    "    wg.append('{}'.format(i)) # x ticks of every week"
   ]
  },
  {
   "cell_type": "code",
   "execution_count": 194,
   "metadata": {},
   "outputs": [
    {
     "data": {
      "image/png": "[encoded data removed]",
      "text/plain": [
       "<Figure size 1080x720 with 1 Axes>"
      ]
     },
     "metadata": {
      "needs_background": "light"
     },
     "output_type": "display_data"
    }
   ],
   "source": [
    "plt.figure(figsize=(15,10))\n",
    "for i in range(20):\n",
    "    plt.plot(Grafv[i], label = Engteam['name'][i])\n",
    "    \n",
    "plt.xticks(range(0,39),wg, size = 10)\n",
    "plt.ylabel(\"Total Points\", size = 15)\n",
    "plt.xlabel(\"Weeks\", size = 15)\n",
    "plt.grid(color ='lightgray', linestyle = '-.')\n",
    "plt.title('Premier League Ranking 2017/2018', size = 20)\n",
    "\n",
    "plt.legend(loc='center right',bbox_to_anchor=(1.20,0.7211), borderaxespad=0,prop={'size': 10});"
   ]
  },
  {
   "cell_type": "markdown",
   "metadata": {},
   "source": [
    "#### Finding the two best and worst teams"
   ]
  },
  {
   "cell_type": "markdown",
   "metadata": {},
   "source": [
    "We now define a function to find the teams with most consecutive wins and losses. "
   ]
  },
  {
   "cell_type": "code",
   "execution_count": 195,
   "metadata": {},
   "outputs": [],
   "source": [
    "def bestornot(n):\n",
    "    r = E.values.tolist()\n",
    "    for i in range(len(r)):\n",
    "        r[i] = [str(x) if x == n else ' ' for x in r[i]] #everything different from n becomes a space ' '\n",
    "        r[i] = ''.join(r[i])#getting rid of spaces\n",
    "        r[i] = r[i].split()#creating the list r[i] modified\n",
    "        r[i] = max(r[i])#choosing the max value in r[i]\n",
    "    \n",
    "    return r\n"
   ]
  },
  {
   "cell_type": "code",
   "execution_count": 196,
   "metadata": {},
   "outputs": [
    {
     "data": {
      "text/plain": [
       "['333',\n",
       " '3333',\n",
       " '3333',\n",
       " '3333',\n",
       " '333',\n",
       " '3',\n",
       " '33',\n",
       " '3333333',\n",
       " '333333333333333333',\n",
       " '33',\n",
       " '333',\n",
       " '3333',\n",
       " '33',\n",
       " '3',\n",
       " '33',\n",
       " '333',\n",
       " '33',\n",
       " '33',\n",
       " '33',\n",
       " '33']"
      ]
     },
     "execution_count": 196,
     "metadata": {},
     "output_type": "execute_result"
    }
   ],
   "source": [
    "bestornot(3)#most consecutive wins for team in the season"
   ]
  },
  {
   "cell_type": "code",
   "execution_count": 197,
   "metadata": {},
   "outputs": [
    {
     "data": {
      "text/plain": [
       "'Manchester City'"
      ]
     },
     "execution_count": 197,
     "metadata": {},
     "output_type": "execute_result"
    }
   ],
   "source": [
    "Engteam.at[8, 'name']#best team"
   ]
  },
  {
   "cell_type": "code",
   "execution_count": 198,
   "metadata": {},
   "outputs": [
    {
     "data": {
      "text/plain": [
       "'Tottenham Hotspur'"
      ]
     },
     "execution_count": 198,
     "metadata": {},
     "output_type": "execute_result"
    }
   ],
   "source": [
    "Engteam.at[7, 'name']#second best"
   ]
  },
  {
   "cell_type": "markdown",
   "metadata": {},
   "source": [
    "Now, we can do the same with losses:"
   ]
  },
  {
   "cell_type": "code",
   "execution_count": 199,
   "metadata": {},
   "outputs": [
    {
     "data": {
      "text/plain": [
       "['000',\n",
       " '00',\n",
       " '0',\n",
       " '0',\n",
       " '0000',\n",
       " '000',\n",
       " '000',\n",
       " '0',\n",
       " '0',\n",
       " '00000000',\n",
       " '0000000',\n",
       " '000',\n",
       " '000',\n",
       " '0000',\n",
       " '0000',\n",
       " '000',\n",
       " '000',\n",
       " '0000',\n",
       " '00000',\n",
       " '0000']"
      ]
     },
     "execution_count": 199,
     "metadata": {},
     "output_type": "execute_result"
    }
   ],
   "source": [
    "bestornot(0)#most consecutive losses for team in the season"
   ]
  },
  {
   "cell_type": "code",
   "execution_count": 200,
   "metadata": {},
   "outputs": [
    {
     "data": {
      "text/plain": [
       "'West Bromwich Albion'"
      ]
     },
     "execution_count": 200,
     "metadata": {},
     "output_type": "execute_result"
    }
   ],
   "source": [
    "Engteam.at[9,'name']#worst team"
   ]
  },
  {
   "cell_type": "code",
   "execution_count": 201,
   "metadata": {},
   "outputs": [
    {
     "data": {
      "text/plain": [
       "'Crystal Palace'"
      ]
     },
     "execution_count": 201,
     "metadata": {},
     "output_type": "execute_result"
    }
   ],
   "source": [
    "Engteam.at[10,'name']#second worst"
   ]
  },
  {
   "cell_type": "markdown",
   "metadata": {},
   "source": [
    "# [RQ2] Is there a home-field advantage?"
   ]
  },
  {
   "cell_type": "code",
   "execution_count": 1,
   "metadata": {},
   "outputs": [
    {
     "ename": "NameError",
     "evalue": "name 'matches' is not defined",
     "output_type": "error",
     "traceback": [
      "\u001b[1;31m---------------------------------------------------------------------------\u001b[0m",
      "\u001b[1;31mNameError\u001b[0m                                 Traceback (most recent call last)",
      "\u001b[1;32m<ipython-input-1-8fbbfdbad843>\u001b[0m in \u001b[0;36m<module>\u001b[1;34m\u001b[0m\n\u001b[1;32m----> 1\u001b[1;33m \u001b[0mmatches\u001b[0m\u001b[1;33m\u001b[0m\u001b[1;33m\u001b[0m\u001b[0m\n\u001b[0m",
      "\u001b[1;31mNameError\u001b[0m: name 'matches' is not defined"
     ]
    }
   ],
   "source": [
    "matches\n",
    "#let's watch our dataframe"
   ]
  },
  {
   "cell_type": "code",
   "execution_count": null,
   "metadata": {},
   "outputs": [],
   "source": [
    "matches.columns"
   ]
  },
  {
   "cell_type": "code",
   "execution_count": null,
   "metadata": {},
   "outputs": [],
   "source": [
    "workingData = matches['label']\n",
    "workingData.head()\n",
    "#we are interested in label because it gives the info of the teams that were playing and the result of the game"
   ]
  },
  {
   "cell_type": "markdown",
   "metadata": {},
   "source": [
    "I will split this columns in teams and result to have a better view and accessibility of the info in every row."
   ]
  },
  {
   "cell_type": "code",
   "execution_count": null,
   "metadata": {},
   "outputs": [],
   "source": [
    "wkd = pd.DataFrame(workingData)\n",
    "wkd.head()"
   ]
  },
  {
   "cell_type": "code",
   "execution_count": null,
   "metadata": {},
   "outputs": [],
   "source": [
    "new = wkd[\"label\"].str.split(\",\", n = 1, expand = True)\n",
    "new.head()\n",
    "#I created a table with the match and the result, now I can split for HomeMatch and NotHomeMatch"
   ]
  },
  {
   "cell_type": "code",
   "execution_count": null,
   "metadata": {},
   "outputs": [],
   "source": [
    "new.rename(columns = {0 :'Match',1 :'Result'}, inplace = True)"
   ]
  },
  {
   "cell_type": "code",
   "execution_count": null,
   "metadata": {},
   "outputs": [],
   "source": [
    "new.columns"
   ]
  },
  {
   "cell_type": "code",
   "execution_count": null,
   "metadata": {},
   "outputs": [],
   "source": [
    "Mtc = new[\"Match\"].str.split(\"-\", n = 1, expand = True)\n",
    "Mtc.head()\n",
    "#the teams"
   ]
  },
  {
   "cell_type": "code",
   "execution_count": null,
   "metadata": {},
   "outputs": [],
   "source": [
    "Rst = new[\"Result\"].str.split(\"-\", n = 1, expand = True)\n",
    "Rst.head()\n",
    "#the goals"
   ]
  },
  {
   "cell_type": "code",
   "execution_count": null,
   "metadata": {},
   "outputs": [],
   "source": [
    "alldata = pd.DataFrame({'Home':Mtc[0], 'ResH':Rst[0], 'ResNH':Rst[1],'Nhome':Mtc[1]})\n",
    "alldata.head()\n",
    "#this is the dataframe I wanted to organize"
   ]
  },
  {
   "cell_type": "markdown",
   "metadata": {},
   "source": [
    "Now I try to find the Winner, or Draw, for every Match, so I can add this to my previous table in a column called 'Winner'"
   ]
  },
  {
   "cell_type": "code",
   "execution_count": null,
   "metadata": {},
   "outputs": [],
   "source": [
    "l = []\n",
    "for i in range(len(alldata)):\n",
    "    a = int(alldata.loc[i,'ResH'])\n",
    "    b = int(alldata.loc[i,'ResNH'])\n",
    "    #print(a,b)\n",
    "    if a==b:\n",
    "       # print('1')\n",
    "        l.append('Draw')\n",
    "    elif a>b:\n",
    "        l.append(alldata.loc[i,'Home'])\n",
    "       #print('2')\n",
    "    elif a<b:\n",
    "        l.append(alldata.loc[i,'Nhome'])\n",
    "       # print('3')\n",
    "    \n",
    "l"
   ]
  },
  {
   "cell_type": "code",
   "execution_count": null,
   "metadata": {},
   "outputs": [],
   "source": [
    "alldata['Winner']=l"
   ]
  },
  {
   "cell_type": "markdown",
   "metadata": {},
   "source": [
    "Here it is the table that i was building."
   ]
  },
  {
   "cell_type": "code",
   "execution_count": null,
   "metadata": {},
   "outputs": [],
   "source": [
    "alldata.reset_index(drop=True)"
   ]
  },
  {
   "cell_type": "markdown",
   "metadata": {},
   "source": [
    "Now I use the teams dataset"
   ]
  },
  {
   "cell_type": "code",
   "execution_count": null,
   "metadata": {},
   "outputs": [],
   "source": [
    "teams.head()"
   ]
  },
  {
   "cell_type": "markdown",
   "metadata": {},
   "source": [
    "To be casual in my indipendence test I'll take out 5 random team from the english teams, so I start from taking out every team in a column and then extract 5 casual numbers that will be the row of the casually selected team."
   ]
  },
  {
   "cell_type": "code",
   "execution_count": null,
   "metadata": {},
   "outputs": [],
   "source": [
    "data = teams[teams['area'] == {\"name\": \"England\", \"id\": \"0\", \"alpha3code\": \"XEN\", \"alpha2code\": \"\"}]"
   ]
  },
  {
   "cell_type": "code",
   "execution_count": null,
   "metadata": {},
   "outputs": [],
   "source": [
    "data.head()"
   ]
  },
  {
   "cell_type": "code",
   "execution_count": null,
   "metadata": {},
   "outputs": [],
   "source": [
    "teams = data['name']"
   ]
  },
  {
   "cell_type": "code",
   "execution_count": null,
   "metadata": {},
   "outputs": [],
   "source": [
    "teams"
   ]
  },
  {
   "cell_type": "code",
   "execution_count": null,
   "metadata": {},
   "outputs": [],
   "source": [
    "allteams = (pd.DataFrame(teams)).reset_index(drop=True)\n",
    "allteams"
   ]
  },
  {
   "cell_type": "markdown",
   "metadata": {},
   "source": [
    "I select 5 random teams"
   ]
  },
  {
   "cell_type": "code",
   "execution_count": null,
   "metadata": {},
   "outputs": [],
   "source": [
    "import random\n",
    "selected_teams = random.sample(range(19),5)\n",
    "selected_teams"
   ]
  },
  {
   "cell_type": "code",
   "execution_count": null,
   "metadata": {},
   "outputs": [],
   "source": [
    "These are my teams:"
   ]
  },
  {
   "cell_type": "code",
   "execution_count": null,
   "metadata": {},
   "outputs": [],
   "source": [
    "B = []\n",
    "for i in selected_teams:\n",
    "    B.append(str(allteams.loc[i,'name']))\n",
    "B"
   ]
  },
  {
   "cell_type": "markdown",
   "metadata": {},
   "source": [
    "## For 5 different teams of Premier League, show the contingency table (outcome x side)."
   ]
  },
  {
   "cell_type": "markdown",
   "metadata": {},
   "source": [
    "Here I'll illustrate the process to create a contingency table for the first team, for the others there is a cell with the compact code of this procedure"
   ]
  },
  {
   "cell_type": "code",
   "execution_count": null,
   "metadata": {},
   "outputs": [],
   "source": [
    "home = alldata[alldata['Home'].str.contains(B[0])]\n",
    "home\n",
    "#I select the rows that have in home the team that I have to analyze"
   ]
  },
  {
   "cell_type": "code",
   "execution_count": null,
   "metadata": {},
   "outputs": [],
   "source": [
    "not_home = alldata[alldata['Nhome'].str.contains(B[0])]\n",
    "alldata[alldata['Nhome'].str.contains(B[0])]\n",
    "#I select the rows that have in Nhome the team that I have to analyze"
   ]
  },
  {
   "cell_type": "code",
   "execution_count": null,
   "metadata": {},
   "outputs": [],
   "source": [
    "home['Winner'].str.replace(\" \",\"\")\n",
    "not_home['Winner'].str.replace(\" \",\"\")\n",
    "home"
   ]
  },
  {
   "cell_type": "markdown",
   "metadata": {},
   "source": [
    "Now i create 6 values indicating the number of wins, losses or draws playing at home or not home."
   ]
  },
  {
   "cell_type": "code",
   "execution_count": null,
   "metadata": {},
   "outputs": [],
   "source": [
    "Whome = len(home[home['Winner'].str.contains(B[0])])\n",
    "#Whome\n",
    "Dhome = len(home[home['Winner'].str.contains('Draw')])\n",
    "#NWhome\n",
    "Lhome = len(home)-Whome-Dhome\n",
    "#print(Whome,Dhome,Lhome)"
   ]
  },
  {
   "cell_type": "code",
   "execution_count": null,
   "metadata": {},
   "outputs": [],
   "source": [
    "Wout = len(not_home[not_home['Winner'].str.contains(B[0])])\n",
    "#Whome\n",
    "Dout = len(not_home[not_home['Winner'].str.contains('Draw')])\n",
    "#NWhome\n",
    "Lout = len(not_home)-Wout-Dou"
   ]
  },
  {
   "cell_type": "code",
   "execution_count": null,
   "metadata": {},
   "outputs": [],
   "source": [
    "W = np.array([Whome,Wout, Whome + Wout],dtype = object)\n",
    "L = np.array([Lhome,Lout, Lhome+Lout],dtype = object)\n",
    "D = np.array([Dhome,Dout, Dhome+Dout],dtype = object)\n",
    "T = np.array([Whome+Lhome+Dhome,Wout+Lout+Dout,Whome+Lhome+Dhome+Wout+Lout+Dout],dtype = object)"
   ]
  },
  {
   "cell_type": "code",
   "execution_count": null,
   "metadata": {},
   "outputs": [],
   "source": [
    "raw_data = {'Win':W, 'Loss':L,'Draw':D, 'Total':T}"
   ]
  },
  {
   "cell_type": "code",
   "execution_count": null,
   "metadata": {},
   "outputs": [],
   "source": [
    "Sa = pd.DataFrame(raw_data, index = pd.Index(['Home','Not Home','Total'], name = str(B[0])))"
   ]
  },
  {
   "cell_type": "code",
   "execution_count": null,
   "metadata": {},
   "outputs": [],
   "source": [
    "Sa\n",
    "#this is the table for the first team"
   ]
  },
  {
   "cell_type": "markdown",
   "metadata": {},
   "source": [
    "As I said here I'll do the same for the five teams in a for loop, later are diplayed the tables for every team."
   ]
  },
  {
   "cell_type": "code",
   "execution_count": null,
   "metadata": {},
   "outputs": [],
   "source": [
    "Sa = []\n",
    "for i in range(0,5):\n",
    "    home = alldata[alldata['Home'].str.contains(B[i])]\n",
    "    not_home = alldata[alldata['Nhome'].str.contains(B[i])]\n",
    "    home['Winner'].str.replace(\" \",\"\")\n",
    "    not_home['Winner'].str.replace(\" \",\"\")\n",
    "    Whome = len(home[home['Winner'].str.contains(B[i])])\n",
    "#Whome\n",
    "    Dhome = len(home[home['Winner'].str.contains('Draw')])\n",
    "#NWhome\n",
    "    Lhome = len(home)-Whome-Dhome\n",
    "    Wout = len(not_home[not_home['Winner'].str.contains(B[i])])\n",
    "#Whome\n",
    "    Dout = len(not_home[not_home['Winner'].str.contains('Draw')])\n",
    "#NWhome\n",
    "    Lout = len(not_home)-Wout-Dout\n",
    "    W = np.array([Whome,Wout, Whome + Wout],dtype = object)\n",
    "    L = np.array([Lhome,Lout, Lhome+Lout],dtype = object)\n",
    "    D = np.array([Dhome,Dout, Dhome+Dout],dtype = object)\n",
    "    T = np.array([Whome+Lhome+Dhome,Wout+Lout+Dout,Whome+Lhome+Dhome+Wout+Lout+Dout],dtype = object)\n",
    "    raw_data = {'Win':W, 'Loss':L,'Draw':D, 'Total':T}\n",
    "    Sa.append(pd.DataFrame(raw_data, index = pd.Index(['Home','Not Home','Total'], name = str(B[i]))))"
   ]
  },
  {
   "cell_type": "code",
   "execution_count": null,
   "metadata": {},
   "outputs": [],
   "source": [
    "Sa[0]\n",
    "#1st team"
   ]
  },
  {
   "cell_type": "code",
   "execution_count": null,
   "metadata": {},
   "outputs": [],
   "source": [
    "Sa[1]\n",
    "#2nd team"
   ]
  },
  {
   "cell_type": "code",
   "execution_count": null,
   "metadata": {},
   "outputs": [],
   "source": [
    "Sa[2]\n",
    "#3rd team"
   ]
  },
  {
   "cell_type": "code",
   "execution_count": null,
   "metadata": {},
   "outputs": [],
   "source": [
    "Sa[3]\n",
    "#4th team"
   ]
  },
  {
   "cell_type": "code",
   "execution_count": null,
   "metadata": {},
   "outputs": [],
   "source": [
    "Sa[4]\n",
    "#5th team"
   ]
  },
  {
   "cell_type": "markdown",
   "metadata": {},
   "source": [
    "## Second part-X^2 test"
   ]
  },
  {
   "cell_type": "markdown",
   "metadata": {},
   "source": [
    "I start saving the results of everyone of the 5 teams without intersections with each other, then create a unique contingency table with the summed values."
   ]
  },
  {
   "cell_type": "code",
   "execution_count": null,
   "metadata": {},
   "outputs": [],
   "source": [
    "print(B)"
   ]
  },
  {
   "cell_type": "code",
   "execution_count": null,
   "metadata": {},
   "outputs": [],
   "source": [
    "alldata.head()"
   ]
  },
  {
   "cell_type": "code",
   "execution_count": null,
   "metadata": {},
   "outputs": [],
   "source": [
    "alldata1 = alldata[~alldata['Home'].str.contains(B[1])]\n",
    "alldata1 = alldata1[~alldata1['Home'].str.contains(B[2])]\n",
    "alldata1 = alldata1[~alldata1['Home'].str.contains(B[3])]\n",
    "alldata1 = alldata1[~alldata1['Home'].str.contains(B[4])]\n",
    "alldata1 = alldata1[~alldata1['Nhome'].str.contains(B[1])]\n",
    "alldata1 = alldata1[~alldata1['Nhome'].str.contains(B[2])]\n",
    "alldata1 = alldata1[~alldata1['Nhome'].str.contains(B[3])]\n",
    "alldata1 = alldata1[~alldata1['Nhome'].str.contains(B[4])]\n",
    "alldata1\n",
    "#the dataset from which I take the results of team 1"
   ]
  },
  {
   "cell_type": "code",
   "execution_count": null,
   "metadata": {},
   "outputs": [],
   "source": [
    "alldata2 = alldata[~alldata['Home'].str.contains(B[0])]\n",
    "alldata2 = alldata2[~alldata2['Home'].str.contains(B[2])]\n",
    "alldata2 = alldata2[~alldata2['Home'].str.contains(B[3])]\n",
    "alldata2 = alldata2[~alldata2['Home'].str.contains(B[4])]\n",
    "alldata2 = alldata2[~alldata2['Nhome'].str.contains(B[0])]\n",
    "alldata2 = alldata2[~alldata2['Nhome'].str.contains(B[2])]\n",
    "alldata2 = alldata2[~alldata2['Nhome'].str.contains(B[3])]\n",
    "alldata2 = alldata2[~alldata2['Nhome'].str.contains(B[4])]\n",
    "alldata2.head()\n",
    "#the dataset from which I take the results of team 2"
   ]
  },
  {
   "cell_type": "code",
   "execution_count": null,
   "metadata": {},
   "outputs": [],
   "source": [
    "alldata3 = alldata[~alldata['Home'].str.contains(B[0])]\n",
    "alldata3 = alldata3[~alldata3['Home'].str.contains(B[1])]\n",
    "alldata3 = alldata3[~alldata3['Home'].str.contains(B[3])]\n",
    "alldata3 = alldata3[~alldata3['Home'].str.contains(B[4])]\n",
    "alldata3 = alldata3[~alldata3['Nhome'].str.contains(B[0])]\n",
    "alldata3 = alldata3[~alldata3['Nhome'].str.contains(B[1])]\n",
    "alldata3 = alldata3[~alldata3['Nhome'].str.contains(B[3])]\n",
    "alldata3 = alldata3[~alldata3['Nhome'].str.contains(B[4])]\n",
    "alldata3.head()\n",
    "#the dataset from which I take the results of team 3"
   ]
  },
  {
   "cell_type": "code",
   "execution_count": null,
   "metadata": {},
   "outputs": [],
   "source": [
    "alldata4 = alldata[~alldata['Home'].str.contains(B[0])]\n",
    "alldata4 = alldata4[~alldata4['Home'].str.contains(B[1])]\n",
    "alldata4 = alldata4[~alldata4['Home'].str.contains(B[2])]\n",
    "alldata4 = alldata4[~alldata4['Home'].str.contains(B[4])]\n",
    "alldata4 = alldata4[~alldata4['Nhome'].str.contains(B[0])]\n",
    "alldata4 = alldata4[~alldata4['Nhome'].str.contains(B[1])]\n",
    "alldata4 = alldata4[~alldata4['Nhome'].str.contains(B[2])]\n",
    "alldata4 = alldata4[~alldata4['Nhome'].str.contains(B[4])]\n",
    "alldata4.head()\n",
    "#the dataset from which I take the results of team 4 B[3]"
   ]
  },
  {
   "cell_type": "code",
   "execution_count": null,
   "metadata": {},
   "outputs": [],
   "source": [
    "alldata5 = alldata[~alldata['Home'].str.contains(B[0])]\n",
    "alldata5 = alldata5[~alldata5['Home'].str.contains(B[1])]\n",
    "alldata5 = alldata5[~alldata5['Home'].str.contains(B[2])]\n",
    "alldata5 = alldata5[~alldata5['Home'].str.contains(B[3])]\n",
    "alldata5 = alldata5[~alldata5['Nhome'].str.contains(B[0])]\n",
    "alldata5 = alldata5[~alldata5['Nhome'].str.contains(B[1])]\n",
    "alldata5 = alldata5[~alldata5['Nhome'].str.contains(B[2])]\n",
    "alldata5 = alldata5[~alldata5['Nhome'].str.contains(B[3])]\n",
    "alldata5.head()\n",
    "#the dataset from which I take the results of team 5"
   ]
  },
  {
   "cell_type": "markdown",
   "metadata": {},
   "source": [
    "Now I do the same process of before but every time I sum the result of every team in a unique contingency table called CTtotal"
   ]
  },
  {
   "cell_type": "code",
   "execution_count": null,
   "metadata": {},
   "outputs": [],
   "source": [
    "vec = {B[0]:alldata1, B[1] :alldata2, B[2]: alldata3, B[3]:alldata4,B[4]: alldata5}"
   ]
  },
  {
   "cell_type": "code",
   "execution_count": null,
   "metadata": {},
   "outputs": [],
   "source": [
    "Whome=0\n",
    "Dhome=0\n",
    "Lhome=0\n",
    "Wout=0\n",
    "Dout=0\n",
    "Lout=0\n",
    "for i in range(len(B)):\n",
    "    home = vec[B[i]][vec[B[i]]['Home'].str.contains(B[i])]\n",
    "    not_home = vec[B[i]][vec[B[i]]['Nhome'].str.contains(B[i])]\n",
    "    home['Winner'].str.replace(\" \",\"\")\n",
    "    not_home['Winner'].str.replace(\" \",\"\")\n",
    "    WH1=len(home[home['Winner'].str.contains(B[i])])\n",
    "    DH1=len(home[home['Winner'].str.contains('Draw')])\n",
    "    Whome = Whome +WH1\n",
    "    Dhome =Dhome + DH1\n",
    "    Lhome = Lhome +len(home)-WH1-DH1\n",
    "    WO=len(not_home[not_home['Winner'].str.contains(B[i])])\n",
    "    DO=len(not_home[not_home['Winner'].str.contains('Draw')])\n",
    "    Wout = Wout + WO\n",
    "    Dout =Dout + DO\n",
    "    Lout = Lout +len(not_home)-WO-DO\n",
    "W = np.array([Whome,Wout, Whome + Wout],dtype = object)\n",
    "L = np.array([Lhome,Lout, Lhome+Lout],dtype = object)\n",
    "D = np.array([Dhome,Dout, Dhome+Dout],dtype = object)\n",
    "T = np.array([Whome+Lhome+Dhome,Wout+Lout+Dout,Whome+Lhome+Dhome+Wout+Lout+Dout],dtype = object)\n",
    "raw_data = {'Win':W, 'Loss':L,'Draw':D, 'Total':T}\n",
    "CTtotal = pd.DataFrame(raw_data, index = pd.Index(['Home','Not Home','Total'], name = 'The five Teams'))\n",
    "CTtotal"
   ]
  },
  {
   "cell_type": "code",
   "execution_count": null,
   "metadata": {},
   "outputs": [],
   "source": [
    "#Tob be clear the Teams were \n",
    "print(B)"
   ]
  },
  {
   "cell_type": "code",
   "execution_count": null,
   "metadata": {},
   "outputs": [],
   "source": [
    "CT = CTtotal.drop(columns = ['Total'])\n",
    "CT = CT.drop('Total')\n",
    "CT"
   ]
  },
  {
   "cell_type": "code",
   "execution_count": null,
   "metadata": {},
   "outputs": [],
   "source": [
    "from scipy.stats import chi2_contingency"
   ]
  },
  {
   "cell_type": "code",
   "execution_count": null,
   "metadata": {},
   "outputs": [],
   "source": [
    "#Assumption of independence\n",
    "chi2, p, dof, expec = chi2_contingency(CT)"
   ]
  },
  {
   "cell_type": "code",
   "execution_count": null,
   "metadata": {},
   "outputs": [],
   "source": [
    "chi2"
   ]
  },
  {
   "cell_type": "code",
   "execution_count": null,
   "metadata": {},
   "outputs": [],
   "source": [
    "p"
   ]
  },
  {
   "cell_type": "code",
   "execution_count": null,
   "metadata": {},
   "outputs": [],
   "source": [
    "dof"
   ]
  },
  {
   "cell_type": "code",
   "execution_count": null,
   "metadata": {},
   "outputs": [],
   "source": [
    "expec"
   ]
  },
  {
   "cell_type": "markdown",
   "metadata": {},
   "source": [
    "I put a singificance of 5% and there are 2 degrees of freedom, so, from the X^2 squared table, the X^2 should not be greater than RUNTHESMILUIATIONFIRSTDAVIDE, but being RUNTHESIMULATIONFIRSTDAVIDE we reject the hypotesis of independence and yes, the place where a team plays influences the result!"
   ]
  },
  {
   "cell_type": "markdown",
   "metadata": {},
   "source": [
    "# [RQ3] Which teams have the youngest coaches?"
   ]
  },
  {
   "cell_type": "markdown",
   "metadata": {},
   "source": [
    "Let's start analyzing the coaches database, we'll see that we can find the info about every birthDate and an Id(wyId)"
   ]
  },
  {
   "cell_type": "code",
   "execution_count": null,
   "metadata": {},
   "outputs": [],
   "source": [
    "coaches"
   ]
  },
  {
   "cell_type": "code",
   "execution_count": null,
   "metadata": {},
   "outputs": [],
   "source": [
    "data1 = pd.concat([coaches['birthDate'],coaches['shortName'], coaches['wyId']], axis = 1)\n",
    "data1\n",
    "#here i create a dataset more accessible in which I'll find in a row birthDate, shortName and wyId for every coach"
   ]
  },
  {
   "cell_type": "code",
   "execution_count": null,
   "metadata": {},
   "outputs": [],
   "source": [
    "Dickus = pd.Series(data1.shortName.values,index=data1.wyId).to_dict()\n",
    "Dickus\n",
    "#Dickus is a dictionary in which I associated every wyid with its coach"
   ]
  },
  {
   "cell_type": "code",
   "execution_count": null,
   "metadata": {},
   "outputs": [],
   "source": [
    "matches.head()\n",
    "#now let's remember that in matches I have the column 'teamsData' in which there is a dictionary with 2 keys(the teams id) and values a dictionary with various info and also the wyId for the coach of the team."
   ]
  },
  {
   "cell_type": "code",
   "execution_count": null,
   "metadata": {},
   "outputs": [],
   "source": [
    "matches.loc[0]['teamsData']"
   ]
  },
  {
   "cell_type": "markdown",
   "metadata": {},
   "source": [
    "I want to take out the coachId from this table, but being associated with a team-code, i start creating a dataset with Team and code."
   ]
  },
  {
   "cell_type": "code",
   "execution_count": null,
   "metadata": {},
   "outputs": [],
   "source": [
    "squadre = pd.DataFrame(teams['name'])\n",
    "squadre['code'] = teams['wyId']\n",
    "sw = teams.loc[teams['name'] == 'Swansea City']\n",
    "english = teams[teams['area'] == {\"name\": \"England\", \"id\": \"0\", \"alpha3code\": \"XEN\", \"alpha2code\": \"\"}]\n",
    "english = english.append(sw)\n",
    "english\n",
    "Engteam = pd.DataFrame(english['name'])\n",
    "Engteam['code'] = english['wyId']\n",
    "Engteam = Engteam.sort_values('code')\n",
    "Engteam = Engteam.reset_index(drop=True)\n",
    "EngDic = pd.Series(Engteam.name.values,index=Engteam.code).to_dict()\n",
    "Engteam"
   ]
  },
  {
   "cell_type": "code",
   "execution_count": null,
   "metadata": {},
   "outputs": [],
   "source": [
    "EngDic\n",
    "#to access easily the coach when I find the youngest and the team code."
   ]
  },
  {
   "cell_type": "markdown",
   "metadata": {},
   "source": [
    "Now I can find the Team, given the code.\n",
    "Now let's start digging in the coach's id and respective team for the matches."
   ]
  },
  {
   "cell_type": "code",
   "execution_count": null,
   "metadata": {},
   "outputs": [],
   "source": [
    "l=[]\n",
    "M = []\n",
    "for key in matches.teamsData:\n",
    "    for keys in key:\n",
    "        l.append(key[keys]['coachId'])\n",
    "for key in matches.teamsData:\n",
    "    for keys in key:\n",
    "            M.append(keys)\n",
    "data3 = pd.DataFrame({'coachId':l,'Team':M})\n",
    "data3 =data3.drop_duplicates()\n",
    "#coaches played more than one match with a team so there would be many repeted rows that I cancel with drop_duplicates\n",
    "data3 = data3\n",
    "data3.head()\n",
    "#here I have a dataset with coach and Team, some coachId will repete but the team will be different(ando also the reverse)"
   ]
  },
  {
   "cell_type": "markdown",
   "metadata": {},
   "source": [
    "In the dataset of matches many times we find some coachId = 0 due of errors maybe in the creation of the dataset. Knowing this and that every row is a match, being the zeros casual, it will be normal to find in 38 games for every team one value different from zero referring to the coach that would not be changed for only one week, so I cancel the rows with the zeros because the right coach will be in some others."
   ]
  },
  {
   "cell_type": "code",
   "execution_count": null,
   "metadata": {},
   "outputs": [],
   "source": [
    "data3 = data3[data3['coachId']!= 0]\n",
    "data3 = data3.reset_index(drop=True)\n",
    "data3"
   ]
  },
  {
   "cell_type": "code",
   "execution_count": null,
   "metadata": {},
   "outputs": [],
   "source": [
    "#Now I create a dictionary with keys as their wyId and values the team's Id they worked with(like 9054 they can be multiple!)\n",
    "Dick = pd.Series(data3.Team.values,index=data3.coachId).to_dict()\n",
    "Dick1 = {}\n",
    "for row in range(len(data3)):\n",
    "    if data3.coachId[row] in Dick1 and Dick1[data3.coachId[row]]!=data3.Team[row]:\n",
    "        Dick1[data3.coachId[row]].append(data3.Team[row])\n",
    "    else:\n",
    "         Dick1[data3.coachId[row]] = [(data3.Team[row])]\n",
    "Dick1"
   ]
  },
  {
   "cell_type": "markdown",
   "metadata": {},
   "source": [
    "Now I have the coaches and easily accessible their Teamcode."
   ]
  },
  {
   "cell_type": "code",
   "execution_count": null,
   "metadata": {},
   "outputs": [],
   "source": [
    "Mist = []\n",
    "for key in Dick1:\n",
    "    Mist.append(key)\n",
    "Mist\n",
    "#I create a list with inside the coaches wyId"
   ]
  },
  {
   "cell_type": "code",
   "execution_count": null,
   "metadata": {},
   "outputs": [],
   "source": [
    "#form data1 I select only the rows with the coaches for the teams I need to analyze(England)\n",
    "data4 = data1[data1['wyId'].isin(Mist)]\n",
    "data4.head()"
   ]
  },
  {
   "cell_type": "code",
   "execution_count": null,
   "metadata": {},
   "outputs": [],
   "source": [
    "data4.loc['birthDate'] =pd.to_datetime(data4.birthDate)\n",
    "data5 = data4.sort_values('birthDate', ascending = False)\n",
    "data5 = data5.reset_index(drop = True)\n",
    "data5\n",
    "#here we have data4 ordered and called data5, the first coach is the youngest!"
   ]
  },
  {
   "cell_type": "code",
   "execution_count": null,
   "metadata": {},
   "outputs": [],
   "source": [
    "print('Those are the coaches in ascending order of age, from the youngest:\\n')\n",
    "for i in range(10):\n",
    "    print('Coach',Dickus[data5.wyId[i]],'for Team',EngDic[int(''.join(Dick1[data5.wyId[i]]))], '\\n' )"
   ]
  },
  {
   "cell_type": "markdown",
   "metadata": {},
   "source": [
    "# [RQ4] Find the top 10 players with the highest ratio between completed passes and attempted passes."
   ]
  },
  {
   "cell_type": "code",
   "execution_count": null,
   "metadata": {},
   "outputs": [],
   "source": []
  },
  {
   "cell_type": "markdown",
   "metadata": {},
   "source": [
    "# [RQ5] Does being a tall player mean winning more air duels?"
   ]
  },
  {
   "cell_type": "code",
   "execution_count": null,
   "metadata": {},
   "outputs": [],
   "source": []
  },
  {
   "cell_type": "markdown",
   "metadata": {},
   "source": [
    "# [RQ6] Free your mind!\n",
    "For this task, we need to find another interesting result about the dataset we've been working on. "
   ]
  },
  {
   "cell_type": "markdown",
   "metadata": {},
   "source": [
    "#### Lefty percentage\n",
    "We thought about finding some unexpected differences between the percentage of left-footed vs right-footed players, and in particular which role showed the most interesting results.\n",
    "\n",
    "It's a known fact that 10% of the population is left-handed, while the rest is in majority right-handed and, for a tiny part, ambidextrous. We wonder if being left-footed can be an advantage into the field and where, during a competitive match.\n"
   ]
  },
  {
   "cell_type": "markdown",
   "metadata": {},
   "source": [
    "---"
   ]
  },
  {
   "cell_type": "markdown",
   "metadata": {},
   "source": [
    "Let's start to look at the 'players' dataframe"
   ]
  },
  {
   "cell_type": "code",
   "execution_count": 202,
   "metadata": {},
   "outputs": [
    {
     "data": {
      "text/html": [
       "<div>\n",
       "<style scoped>\n",
       "    .dataframe tbody tr th:only-of-type {\n",
       "        vertical-align: middle;\n",
       "    }\n",
       "\n",
       "    .dataframe tbody tr th {\n",
       "        vertical-align: top;\n",
       "    }\n",
       "\n",
       "    .dataframe thead th {\n",
       "        text-align: right;\n",
       "    }\n",
       "</style>\n",
       "<table border=\"1\" class=\"dataframe\">\n",
       "  <thead>\n",
       "    <tr style=\"text-align: right;\">\n",
       "      <th></th>\n",
       "      <th>birthArea</th>\n",
       "      <th>birthDate</th>\n",
       "      <th>currentNationalTeamId</th>\n",
       "      <th>currentTeamId</th>\n",
       "      <th>firstName</th>\n",
       "      <th>foot</th>\n",
       "      <th>height</th>\n",
       "      <th>lastName</th>\n",
       "      <th>middleName</th>\n",
       "      <th>passportArea</th>\n",
       "      <th>role</th>\n",
       "      <th>shortName</th>\n",
       "      <th>weight</th>\n",
       "      <th>wyId</th>\n",
       "    </tr>\n",
       "  </thead>\n",
       "  <tbody>\n",
       "    <tr>\n",
       "      <th>0</th>\n",
       "      <td>{'name': 'Turkey', 'id': '792', 'alpha3code': ...</td>\n",
       "      <td>1989-06-17</td>\n",
       "      <td>4687</td>\n",
       "      <td>4502</td>\n",
       "      <td>Harun</td>\n",
       "      <td>right</td>\n",
       "      <td>187</td>\n",
       "      <td>Tekin</td>\n",
       "      <td></td>\n",
       "      <td>{'name': 'Turkey', 'id': '792', 'alpha3code': ...</td>\n",
       "      <td>{'code2': 'GK', 'code3': 'GKP', 'name': 'Goalk...</td>\n",
       "      <td>H. Tekin</td>\n",
       "      <td>78</td>\n",
       "      <td>32777</td>\n",
       "    </tr>\n",
       "    <tr>\n",
       "      <th>1</th>\n",
       "      <td>{'name': 'France', 'id': '250', 'alpha3code': ...</td>\n",
       "      <td>1999-01-23</td>\n",
       "      <td>4423</td>\n",
       "      <td>3775</td>\n",
       "      <td>Malang</td>\n",
       "      <td>left</td>\n",
       "      <td>182</td>\n",
       "      <td>Sarr</td>\n",
       "      <td></td>\n",
       "      <td>{'name': 'Senegal', 'id': '686', 'alpha3code':...</td>\n",
       "      <td>{'code2': 'DF', 'code3': 'DEF', 'name': 'Defen...</td>\n",
       "      <td>M. Sarr</td>\n",
       "      <td>73</td>\n",
       "      <td>393228</td>\n",
       "    </tr>\n",
       "    <tr>\n",
       "      <th>2</th>\n",
       "      <td>{'name': 'France', 'id': '250', 'alpha3code': ...</td>\n",
       "      <td>1998-10-26</td>\n",
       "      <td>null</td>\n",
       "      <td>3772</td>\n",
       "      <td>Over</td>\n",
       "      <td></td>\n",
       "      <td>176</td>\n",
       "      <td>Mandanda</td>\n",
       "      <td></td>\n",
       "      <td>{'name': 'France', 'id': '250', 'alpha3code': ...</td>\n",
       "      <td>{'code2': 'GK', 'code3': 'GKP', 'name': 'Goalk...</td>\n",
       "      <td>O. Mandanda</td>\n",
       "      <td>72</td>\n",
       "      <td>393230</td>\n",
       "    </tr>\n",
       "    <tr>\n",
       "      <th>3</th>\n",
       "      <td>{'name': 'France', 'id': '250', 'alpha3code': ...</td>\n",
       "      <td>1990-03-06</td>\n",
       "      <td>19314</td>\n",
       "      <td>683</td>\n",
       "      <td>Alfred John Momar</td>\n",
       "      <td>right</td>\n",
       "      <td>187</td>\n",
       "      <td>N'Diaye</td>\n",
       "      <td></td>\n",
       "      <td>{'name': 'Senegal', 'id': '686', 'alpha3code':...</td>\n",
       "      <td>{'code2': 'MD', 'code3': 'MID', 'name': 'Midfi...</td>\n",
       "      <td>A. N'Diaye</td>\n",
       "      <td>82</td>\n",
       "      <td>32793</td>\n",
       "    </tr>\n",
       "    <tr>\n",
       "      <th>4</th>\n",
       "      <td>{'name': 'France', 'id': '250', 'alpha3code': ...</td>\n",
       "      <td>1999-05-25</td>\n",
       "      <td>null</td>\n",
       "      <td>2975</td>\n",
       "      <td>Ibrahima</td>\n",
       "      <td>right</td>\n",
       "      <td>192</td>\n",
       "      <td>Konat\\u00e9</td>\n",
       "      <td></td>\n",
       "      <td>{'name': 'France', 'id': '250', 'alpha3code': ...</td>\n",
       "      <td>{'code2': 'DF', 'code3': 'DEF', 'name': 'Defen...</td>\n",
       "      <td>I. Konat\\u00e9</td>\n",
       "      <td>84</td>\n",
       "      <td>393247</td>\n",
       "    </tr>\n",
       "  </tbody>\n",
       "</table>\n",
       "</div>"
      ],
      "text/plain": [
       "                                           birthArea   birthDate  \\\n",
       "0  {'name': 'Turkey', 'id': '792', 'alpha3code': ...  1989-06-17   \n",
       "1  {'name': 'France', 'id': '250', 'alpha3code': ...  1999-01-23   \n",
       "2  {'name': 'France', 'id': '250', 'alpha3code': ...  1998-10-26   \n",
       "3  {'name': 'France', 'id': '250', 'alpha3code': ...  1990-03-06   \n",
       "4  {'name': 'France', 'id': '250', 'alpha3code': ...  1999-05-25   \n",
       "\n",
       "  currentNationalTeamId currentTeamId          firstName   foot  height  \\\n",
       "0                  4687          4502              Harun  right     187   \n",
       "1                  4423          3775             Malang   left     182   \n",
       "2                  null          3772               Over            176   \n",
       "3                 19314           683  Alfred John Momar  right     187   \n",
       "4                  null          2975           Ibrahima  right     192   \n",
       "\n",
       "      lastName middleName                                       passportArea  \\\n",
       "0        Tekin             {'name': 'Turkey', 'id': '792', 'alpha3code': ...   \n",
       "1         Sarr             {'name': 'Senegal', 'id': '686', 'alpha3code':...   \n",
       "2     Mandanda             {'name': 'France', 'id': '250', 'alpha3code': ...   \n",
       "3      N'Diaye             {'name': 'Senegal', 'id': '686', 'alpha3code':...   \n",
       "4  Konat\\u00e9             {'name': 'France', 'id': '250', 'alpha3code': ...   \n",
       "\n",
       "                                                role       shortName  weight  \\\n",
       "0  {'code2': 'GK', 'code3': 'GKP', 'name': 'Goalk...        H. Tekin      78   \n",
       "1  {'code2': 'DF', 'code3': 'DEF', 'name': 'Defen...         M. Sarr      73   \n",
       "2  {'code2': 'GK', 'code3': 'GKP', 'name': 'Goalk...     O. Mandanda      72   \n",
       "3  {'code2': 'MD', 'code3': 'MID', 'name': 'Midfi...      A. N'Diaye      82   \n",
       "4  {'code2': 'DF', 'code3': 'DEF', 'name': 'Defen...  I. Konat\\u00e9      84   \n",
       "\n",
       "     wyId  \n",
       "0   32777  \n",
       "1  393228  \n",
       "2  393230  \n",
       "3   32793  \n",
       "4  393247  "
      ]
     },
     "execution_count": 202,
     "metadata": {},
     "output_type": "execute_result"
    }
   ],
   "source": [
    "players.head()"
   ]
  },
  {
   "cell_type": "markdown",
   "metadata": {},
   "source": [
    "We divide this dataframes into 'left' and 'right' dataframes, which got the 'foot' values left and right."
   ]
  },
  {
   "cell_type": "code",
   "execution_count": 203,
   "metadata": {},
   "outputs": [
    {
     "data": {
      "text/html": [
       "<div>\n",
       "<style scoped>\n",
       "    .dataframe tbody tr th:only-of-type {\n",
       "        vertical-align: middle;\n",
       "    }\n",
       "\n",
       "    .dataframe tbody tr th {\n",
       "        vertical-align: top;\n",
       "    }\n",
       "\n",
       "    .dataframe thead th {\n",
       "        text-align: right;\n",
       "    }\n",
       "</style>\n",
       "<table border=\"1\" class=\"dataframe\">\n",
       "  <thead>\n",
       "    <tr style=\"text-align: right;\">\n",
       "      <th></th>\n",
       "      <th>birthArea</th>\n",
       "      <th>birthDate</th>\n",
       "      <th>currentNationalTeamId</th>\n",
       "      <th>currentTeamId</th>\n",
       "      <th>firstName</th>\n",
       "      <th>foot</th>\n",
       "      <th>height</th>\n",
       "      <th>lastName</th>\n",
       "      <th>middleName</th>\n",
       "      <th>passportArea</th>\n",
       "      <th>role</th>\n",
       "      <th>shortName</th>\n",
       "      <th>weight</th>\n",
       "      <th>wyId</th>\n",
       "    </tr>\n",
       "  </thead>\n",
       "  <tbody>\n",
       "    <tr>\n",
       "      <th>1</th>\n",
       "      <td>{'name': 'France', 'id': '250', 'alpha3code': ...</td>\n",
       "      <td>1999-01-23</td>\n",
       "      <td>4423</td>\n",
       "      <td>3775</td>\n",
       "      <td>Malang</td>\n",
       "      <td>left</td>\n",
       "      <td>182</td>\n",
       "      <td>Sarr</td>\n",
       "      <td></td>\n",
       "      <td>{'name': 'Senegal', 'id': '686', 'alpha3code':...</td>\n",
       "      <td>{'code2': 'DF', 'code3': 'DEF', 'name': 'Defen...</td>\n",
       "      <td>M. Sarr</td>\n",
       "      <td>73</td>\n",
       "      <td>393228</td>\n",
       "    </tr>\n",
       "    <tr>\n",
       "      <th>7</th>\n",
       "      <td>{'name': 'Belgium', 'id': '56', 'alpha3code': ...</td>\n",
       "      <td>1987-04-24</td>\n",
       "      <td>5629</td>\n",
       "      <td>1624</td>\n",
       "      <td>Jan</td>\n",
       "      <td>left</td>\n",
       "      <td>189</td>\n",
       "      <td>Vertonghen</td>\n",
       "      <td></td>\n",
       "      <td>{'name': 'Belgium', 'id': '56', 'alpha3code': ...</td>\n",
       "      <td>{'code2': 'DF', 'code3': 'DEF', 'name': 'Defen...</td>\n",
       "      <td>J. Vertonghen</td>\n",
       "      <td>88</td>\n",
       "      <td>48</td>\n",
       "    </tr>\n",
       "    <tr>\n",
       "      <th>12</th>\n",
       "      <td>{'name': 'Mali', 'id': '466', 'alpha3code': 'M...</td>\n",
       "      <td>1992-01-01</td>\n",
       "      <td>null</td>\n",
       "      <td>3795</td>\n",
       "      <td>Charles</td>\n",
       "      <td>left</td>\n",
       "      <td>180</td>\n",
       "      <td>Traor\\u00e9</td>\n",
       "      <td></td>\n",
       "      <td>{'name': 'France', 'id': '250', 'alpha3code': ...</td>\n",
       "      <td>{'code2': 'DF', 'code3': 'DEF', 'name': 'Defen...</td>\n",
       "      <td>C. Traor\\u00e9</td>\n",
       "      <td>74</td>\n",
       "      <td>393284</td>\n",
       "    </tr>\n",
       "  </tbody>\n",
       "</table>\n",
       "</div>"
      ],
      "text/plain": [
       "                                            birthArea   birthDate  \\\n",
       "1   {'name': 'France', 'id': '250', 'alpha3code': ...  1999-01-23   \n",
       "7   {'name': 'Belgium', 'id': '56', 'alpha3code': ...  1987-04-24   \n",
       "12  {'name': 'Mali', 'id': '466', 'alpha3code': 'M...  1992-01-01   \n",
       "\n",
       "   currentNationalTeamId currentTeamId firstName  foot  height     lastName  \\\n",
       "1                   4423          3775    Malang  left     182         Sarr   \n",
       "7                   5629          1624       Jan  left     189   Vertonghen   \n",
       "12                  null          3795   Charles  left     180  Traor\\u00e9   \n",
       "\n",
       "   middleName                                       passportArea  \\\n",
       "1              {'name': 'Senegal', 'id': '686', 'alpha3code':...   \n",
       "7              {'name': 'Belgium', 'id': '56', 'alpha3code': ...   \n",
       "12             {'name': 'France', 'id': '250', 'alpha3code': ...   \n",
       "\n",
       "                                                 role       shortName  weight  \\\n",
       "1   {'code2': 'DF', 'code3': 'DEF', 'name': 'Defen...         M. Sarr      73   \n",
       "7   {'code2': 'DF', 'code3': 'DEF', 'name': 'Defen...   J. Vertonghen      88   \n",
       "12  {'code2': 'DF', 'code3': 'DEF', 'name': 'Defen...  C. Traor\\u00e9      74   \n",
       "\n",
       "      wyId  \n",
       "1   393228  \n",
       "7       48  \n",
       "12  393284  "
      ]
     },
     "execution_count": 203,
     "metadata": {},
     "output_type": "execute_result"
    }
   ],
   "source": [
    "left = pd.DataFrame(players.loc[players['foot'] == 'left'])\n",
    "left[:3]"
   ]
  },
  {
   "cell_type": "code",
   "execution_count": 204,
   "metadata": {},
   "outputs": [
    {
     "data": {
      "text/html": [
       "<div>\n",
       "<style scoped>\n",
       "    .dataframe tbody tr th:only-of-type {\n",
       "        vertical-align: middle;\n",
       "    }\n",
       "\n",
       "    .dataframe tbody tr th {\n",
       "        vertical-align: top;\n",
       "    }\n",
       "\n",
       "    .dataframe thead th {\n",
       "        text-align: right;\n",
       "    }\n",
       "</style>\n",
       "<table border=\"1\" class=\"dataframe\">\n",
       "  <thead>\n",
       "    <tr style=\"text-align: right;\">\n",
       "      <th></th>\n",
       "      <th>birthArea</th>\n",
       "      <th>birthDate</th>\n",
       "      <th>currentNationalTeamId</th>\n",
       "      <th>currentTeamId</th>\n",
       "      <th>firstName</th>\n",
       "      <th>foot</th>\n",
       "      <th>height</th>\n",
       "      <th>lastName</th>\n",
       "      <th>middleName</th>\n",
       "      <th>passportArea</th>\n",
       "      <th>role</th>\n",
       "      <th>shortName</th>\n",
       "      <th>weight</th>\n",
       "      <th>wyId</th>\n",
       "    </tr>\n",
       "  </thead>\n",
       "  <tbody>\n",
       "    <tr>\n",
       "      <th>0</th>\n",
       "      <td>{'name': 'Turkey', 'id': '792', 'alpha3code': ...</td>\n",
       "      <td>1989-06-17</td>\n",
       "      <td>4687</td>\n",
       "      <td>4502</td>\n",
       "      <td>Harun</td>\n",
       "      <td>right</td>\n",
       "      <td>187</td>\n",
       "      <td>Tekin</td>\n",
       "      <td></td>\n",
       "      <td>{'name': 'Turkey', 'id': '792', 'alpha3code': ...</td>\n",
       "      <td>{'code2': 'GK', 'code3': 'GKP', 'name': 'Goalk...</td>\n",
       "      <td>H. Tekin</td>\n",
       "      <td>78</td>\n",
       "      <td>32777</td>\n",
       "    </tr>\n",
       "    <tr>\n",
       "      <th>3</th>\n",
       "      <td>{'name': 'France', 'id': '250', 'alpha3code': ...</td>\n",
       "      <td>1990-03-06</td>\n",
       "      <td>19314</td>\n",
       "      <td>683</td>\n",
       "      <td>Alfred John Momar</td>\n",
       "      <td>right</td>\n",
       "      <td>187</td>\n",
       "      <td>N'Diaye</td>\n",
       "      <td></td>\n",
       "      <td>{'name': 'Senegal', 'id': '686', 'alpha3code':...</td>\n",
       "      <td>{'code2': 'MD', 'code3': 'MID', 'name': 'Midfi...</td>\n",
       "      <td>A. N'Diaye</td>\n",
       "      <td>82</td>\n",
       "      <td>32793</td>\n",
       "    </tr>\n",
       "    <tr>\n",
       "      <th>4</th>\n",
       "      <td>{'name': 'France', 'id': '250', 'alpha3code': ...</td>\n",
       "      <td>1999-05-25</td>\n",
       "      <td>null</td>\n",
       "      <td>2975</td>\n",
       "      <td>Ibrahima</td>\n",
       "      <td>right</td>\n",
       "      <td>192</td>\n",
       "      <td>Konat\\u00e9</td>\n",
       "      <td></td>\n",
       "      <td>{'name': 'France', 'id': '250', 'alpha3code': ...</td>\n",
       "      <td>{'code2': 'DF', 'code3': 'DEF', 'name': 'Defen...</td>\n",
       "      <td>I. Konat\\u00e9</td>\n",
       "      <td>84</td>\n",
       "      <td>393247</td>\n",
       "    </tr>\n",
       "  </tbody>\n",
       "</table>\n",
       "</div>"
      ],
      "text/plain": [
       "                                           birthArea   birthDate  \\\n",
       "0  {'name': 'Turkey', 'id': '792', 'alpha3code': ...  1989-06-17   \n",
       "3  {'name': 'France', 'id': '250', 'alpha3code': ...  1990-03-06   \n",
       "4  {'name': 'France', 'id': '250', 'alpha3code': ...  1999-05-25   \n",
       "\n",
       "  currentNationalTeamId currentTeamId          firstName   foot  height  \\\n",
       "0                  4687          4502              Harun  right     187   \n",
       "3                 19314           683  Alfred John Momar  right     187   \n",
       "4                  null          2975           Ibrahima  right     192   \n",
       "\n",
       "      lastName middleName                                       passportArea  \\\n",
       "0        Tekin             {'name': 'Turkey', 'id': '792', 'alpha3code': ...   \n",
       "3      N'Diaye             {'name': 'Senegal', 'id': '686', 'alpha3code':...   \n",
       "4  Konat\\u00e9             {'name': 'France', 'id': '250', 'alpha3code': ...   \n",
       "\n",
       "                                                role       shortName  weight  \\\n",
       "0  {'code2': 'GK', 'code3': 'GKP', 'name': 'Goalk...        H. Tekin      78   \n",
       "3  {'code2': 'MD', 'code3': 'MID', 'name': 'Midfi...      A. N'Diaye      82   \n",
       "4  {'code2': 'DF', 'code3': 'DEF', 'name': 'Defen...  I. Konat\\u00e9      84   \n",
       "\n",
       "     wyId  \n",
       "0   32777  \n",
       "3   32793  \n",
       "4  393247  "
      ]
     },
     "execution_count": 204,
     "metadata": {},
     "output_type": "execute_result"
    }
   ],
   "source": [
    "right = pd.DataFrame(players.loc[players['foot'] == 'right'])\n",
    "right[:3]"
   ]
  },
  {
   "cell_type": "markdown",
   "metadata": {},
   "source": [
    "Now we try to have a general idea about the percentage of left-footed in respect to the players population."
   ]
  },
  {
   "cell_type": "code",
   "execution_count": 205,
   "metadata": {},
   "outputs": [],
   "source": [
    "a = len(left.index)\n",
    "b = len(right.index)"
   ]
  },
  {
   "cell_type": "code",
   "execution_count": 206,
   "metadata": {},
   "outputs": [
    {
     "data": {
      "text/plain": [
       "'24.0%'"
      ]
     },
     "execution_count": 206,
     "metadata": {},
     "output_type": "execute_result"
    }
   ],
   "source": [
    "percentage_lefty = str(round(a/(a+b) * 100, 0)) + '%'\n",
    "percentage_lefty"
   ]
  },
  {
   "cell_type": "markdown",
   "metadata": {},
   "source": [
    "We can already notice that this percentage is much more higher than the common value, so there must be some hidden advantage here."
   ]
  },
  {
   "cell_type": "markdown",
   "metadata": {},
   "source": [
    "So, we plot the different quantities for every player role."
   ]
  },
  {
   "cell_type": "markdown",
   "metadata": {},
   "source": [
    "####  We create the four dataframes for all the possibile roles"
   ]
  },
  {
   "cell_type": "code",
   "execution_count": 207,
   "metadata": {},
   "outputs": [],
   "source": [
    "def histo(f,g):#plot the histogram for every couple of dataframes\n",
    "    x = np.arange(2)\n",
    "    plt.bar(x, height= [f,g] , color = ['red', 'green'])\n",
    "    plt.xticks(x, ['Left','Right']);\n",
    "def p(n):#compute the percentage\n",
    "    return n[0]/(n[0]+n[1]) * 100"
   ]
  },
  {
   "cell_type": "code",
   "execution_count": 208,
   "metadata": {},
   "outputs": [
    {
     "data": {
      "text/plain": [
       "32.151898734177216"
      ]
     },
     "execution_count": 208,
     "metadata": {},
     "output_type": "execute_result"
    }
   ],
   "source": [
    "defleft = pd.DataFrame(left.loc[left['role'] == {\"code2\": \"DF\", \"code3\": \"DEF\", \"name\": \"Defender\"}])#choosing the right 'role' from the left dataframe\n",
    "defl = len(defleft.index)#counting the rows\n",
    "defright = pd.DataFrame(right.loc[right['role'] == {\"code2\": \"DF\", \"code3\": \"DEF\", \"name\": \"Defender\"}])\n",
    "defr = len(defright.index)\n",
    "n = [defl, defr]\n",
    "p(n)"
   ]
  },
  {
   "cell_type": "code",
   "execution_count": 209,
   "metadata": {},
   "outputs": [
    {
     "data": {
      "image/png": "[encoded data removed]",
      "text/plain": [
       "<Figure size 432x288 with 1 Axes>"
      ]
     },
     "metadata": {
      "needs_background": "light"
     },
     "output_type": "display_data"
    }
   ],
   "source": [
    "histo(defl, defr)"
   ]
  },
  {
   "cell_type": "code",
   "execution_count": 210,
   "metadata": {},
   "outputs": [
    {
     "data": {
      "text/plain": [
       "13.526570048309178"
      ]
     },
     "execution_count": 210,
     "metadata": {},
     "output_type": "execute_result"
    }
   ],
   "source": [
    "gkleft = pd.DataFrame(left.loc[left['role'] == {\"code2\": \"GK\", \"code3\": \"GKP\", \"name\": \"Goalkeeper\"}])\n",
    "gkl = len(gkleft.index)\n",
    "gkright = pd.DataFrame(right.loc[right['role'] == {\"code2\": \"GK\", \"code3\": \"GKP\", \"name\": \"Goalkeeper\"}])\n",
    "gkr = len(gkright.index)\n",
    "p([gkl,gkr])"
   ]
  },
  {
   "cell_type": "code",
   "execution_count": 211,
   "metadata": {},
   "outputs": [
    {
     "data": {
      "image/png": "[encoded data removed]",
      "text/plain": [
       "<Figure size 432x288 with 1 Axes>"
      ]
     },
     "metadata": {
      "needs_background": "light"
     },
     "output_type": "display_data"
    }
   ],
   "source": [
    "histo(gkl, gkr)"
   ]
  },
  {
   "cell_type": "code",
   "execution_count": 212,
   "metadata": {},
   "outputs": [
    {
     "data": {
      "text/plain": [
       "22.1953188054883"
      ]
     },
     "execution_count": 212,
     "metadata": {},
     "output_type": "execute_result"
    }
   ],
   "source": [
    "mdleft = pd.DataFrame(left.loc[left['role'] == {\"code2\": \"MD\", \"code3\": \"MID\", \"name\": \"Midfielder\"}])\n",
    "mdright = pd.DataFrame(right.loc[right['role'] == {\"code2\": \"MD\", \"code3\": \"MID\", \"name\": \"Midfielder\"}])\n",
    "mdl = len(mdleft.index)\n",
    "mdr = len(mdright.index)\n",
    "p([mdl,mdr])"
   ]
  },
  {
   "cell_type": "code",
   "execution_count": 213,
   "metadata": {},
   "outputs": [
    {
     "data": {
      "image/png": "[encoded data removed]",
      "text/plain": [
       "<Figure size 432x288 with 1 Axes>"
      ]
     },
     "metadata": {
      "needs_background": "light"
     },
     "output_type": "display_data"
    }
   ],
   "source": [
    "histo(mdl, mdr)"
   ]
  },
  {
   "cell_type": "code",
   "execution_count": 214,
   "metadata": {},
   "outputs": [
    {
     "data": {
      "text/plain": [
       "17.796610169491526"
      ]
     },
     "execution_count": 214,
     "metadata": {},
     "output_type": "execute_result"
    }
   ],
   "source": [
    "fwleft = pd.DataFrame(left.loc[left['role'] == {\"code2\": \"FW\", \"code3\": \"FWD\", \"name\": \"Forward\"}])\n",
    "fwright = pd.DataFrame(right.loc[right['role'] == {\"code2\": \"FW\", \"code3\": \"FWD\", \"name\": \"Forward\"}])\n",
    "fwl = len(fwleft.index)\n",
    "fwr = len(fwright.index)\n",
    "p([fwl,fwr])"
   ]
  },
  {
   "cell_type": "code",
   "execution_count": 215,
   "metadata": {},
   "outputs": [
    {
     "data": {
      "image/png": "[encoded data removed]",
      "text/plain": [
       "<Figure size 432x288 with 1 Axes>"
      ]
     },
     "metadata": {
      "needs_background": "light"
     },
     "output_type": "display_data"
    }
   ],
   "source": [
    "histo(fwl, fwr)"
   ]
  },
  {
   "cell_type": "markdown",
   "metadata": {},
   "source": [
    "So, we notice that even if the percentages are all over 10%, the only roles where we can see some intersting insights are DF with 32% and MD with 22%."
   ]
  },
  {
   "cell_type": "markdown",
   "metadata": {},
   "source": [
    "The main reason might be that defenders and midfielders need to react to the actions of attackers, that are generally right-footed, and so tend to play the ball on the right side during a duel, which is the left side for an observer who is in front of the player, so on his own left.\n",
    "Therefore, a player that can instictively go left is at advantage against the average stricker."
   ]
  },
  {
   "cell_type": "markdown",
   "metadata": {},
   "source": [
    "In fact, the ultimate defender, the GK, doesn't need to be left-footed to win duels, so the percentage returns to more low and common levels. "
   ]
  },
  {
   "cell_type": "markdown",
   "metadata": {},
   "source": [
    "# Core Research Questions\n"
   ]
  },
  {
   "cell_type": "markdown",
   "metadata": {},
   "source": [
    "# [CRQ1] What are the time slots of the match with more goals?"
   ]
  },
  {
   "cell_type": "code",
   "execution_count": null,
   "metadata": {},
   "outputs": [],
   "source": []
  },
  {
   "cell_type": "code",
   "execution_count": null,
   "metadata": {},
   "outputs": [],
   "source": []
  },
  {
   "cell_type": "markdown",
   "metadata": {},
   "source": [
    "# [CRQ2] Visualize movements and passes on the pitch!"
   ]
  },
  {
   "cell_type": "markdown",
   "metadata": {},
   "source": [
    "Here we will focus our attention on the ares that a player covers during a match. In fact, for each event of the 'events' dataframe, we have a pair of coordinates that represent the starting point and the end point of an action."
   ]
  },
  {
   "cell_type": "markdown",
   "metadata": {},
   "source": [
    "This task is divided into 2 different types of visualizations, an heat map and a heat and arrow map."
   ]
  },
  {
   "cell_type": "markdown",
   "metadata": {},
   "source": [
    "### 1. Cristiano Ronaldo vs Leonél Messi"
   ]
  },
  {
   "cell_type": "markdown",
   "metadata": {},
   "source": [
    "Here, we will cover only the match Barcelona - Real Madrid played on the 6 May 2018."
   ]
  },
  {
   "cell_type": "code",
   "execution_count": 216,
   "metadata": {},
   "outputs": [],
   "source": [
    "import json\n",
    "from pandas.io.json import json_normalize\n",
    "import seaborn as sns\n",
    "from matplotlib.patches import Arc, Rectangle, ConnectionPatch\n"
   ]
  },
  {
   "cell_type": "markdown",
   "metadata": {},
   "source": [
    "Let's define some functions that we will use later."
   ]
  },
  {
   "cell_type": "code",
   "execution_count": 217,
   "metadata": {},
   "outputs": [],
   "source": [
    "def draw_pitch(ax):\n",
    "    # size of the pitch is 120, 80\n",
    "    #Create figure\n",
    "\n",
    "    #Pitch Outline & Centre Line\n",
    "    plt.plot([0,0],[0,80], color=\"black\")\n",
    "    plt.plot([0,120],[80,80], color=\"black\")\n",
    "    plt.plot([120,120],[80,0], color=\"black\")\n",
    "    plt.plot([120,0],[0,0], color=\"black\")\n",
    "    plt.plot([60,60],[0,80], color=\"black\")\n",
    "\n",
    "    #Left Penalty Area\n",
    "    plt.plot([14.6,14.6],[57.8,22.2],color=\"black\")\n",
    "    plt.plot([0,14.6],[57.8,57.8],color=\"black\")\n",
    "    plt.plot([0,14.6],[22.2,22.2],color=\"black\")\n",
    "\n",
    "    #Right Penalty Area\n",
    "    plt.plot([120,105.4],[57.8,57.8],color=\"black\")\n",
    "    plt.plot([105.4,105.4],[57.8,22.5],color=\"black\")\n",
    "    plt.plot([120, 105.4],[22.5,22.5],color=\"black\")\n",
    "\n",
    "    #Left 6-yard Box\n",
    "    plt.plot([0,4.9],[48,48],color=\"black\")\n",
    "    plt.plot([4.9,4.9],[48,32],color=\"black\")\n",
    "    plt.plot([0,4.9],[32,32],color=\"black\")\n",
    "\n",
    "    #Right 6-yard Box\n",
    "    plt.plot([120,115.1],[48,48],color=\"black\")\n",
    "    plt.plot([115.1,115.1],[48,32],color=\"black\")\n",
    "    plt.plot([120,115.1],[32,32],color=\"black\")\n",
    "\n",
    "    #Prepare Circles\n",
    "    centreCircle = plt.Circle((60,40),8.1,color=\"black\",fill=False)\n",
    "    centreSpot = plt.Circle((60,40),0.71,color=\"black\")\n",
    "    leftPenSpot = plt.Circle((9.7,40),0.71,color=\"black\")\n",
    "    rightPenSpot = plt.Circle((110.3,40),0.71,color=\"black\")\n",
    "\n",
    "    #Draw Circles\n",
    "    ax.add_patch(centreCircle)\n",
    "    ax.add_patch(centreSpot)\n",
    "    ax.add_patch(leftPenSpot)\n",
    "    ax.add_patch(rightPenSpot)\n",
    "\n",
    "    #Prepare Arcs\n",
    "    # arguments for arc\n",
    "    # x, y coordinate of centerpoint of arc\n",
    "    # width, height as arc might not be circle, but oval\n",
    "    # angle: degree of rotation of the shape, anti-clockwise\n",
    "    # theta1, theta2, start and end location of arc in degree\n",
    "    leftArc = Arc((9.7,40),height=16.2,width=16.2,angle=0,theta1=310,theta2=50,color=\"black\")\n",
    "    rightArc = Arc((110.3,40),height=16.2,width=16.2,angle=0,theta1=130,theta2=230,color=\"black\")\n",
    "\n",
    "    #Draw Arcs\n",
    "    ax.add_patch(leftArc)\n",
    "    ax.add_patch(rightArc)"
   ]
  },
  {
   "cell_type": "code",
   "execution_count": 218,
   "metadata": {},
   "outputs": [
    {
     "data": {
      "image/png": "[encoded data removed]",
      "text/plain": [
       "<Figure size 504x360 with 1 Axes>"
      ]
     },
     "metadata": {
      "needs_background": "light"
     },
     "output_type": "display_data"
    }
   ],
   "source": [
    "fig=plt.figure()\n",
    "fig.set_size_inches(7, 5)\n",
    "ax=fig.add_subplot(1,1,1)\n",
    "draw_pitch(ax)\n",
    "plt.show()"
   ]
  },
  {
   "cell_type": "code",
   "execution_count": 219,
   "metadata": {},
   "outputs": [],
   "source": [
    "#Function to plot the heat map\n",
    "def green(d):\n",
    "    fig=plt.figure()\n",
    "    fig.set_size_inches(7, 5)\n",
    "    ax=fig.add_subplot(1,1,1)\n",
    "    draw_pitch(ax)\n",
    "    plt.axis('off')\n",
    "    #Coordinate of player starting position\n",
    "    x_coord = [i[0]['x']*1.2 for i in d[\"positions\"]]\n",
    "    y_coord = [i[0]['y']*0.8 for i in d[\"positions\"]]\n",
    "    plt.ylim(0, 80) # need this, otherwise kde plot will go outside\n",
    "    plt.xlim(0, 120)\n",
    "\n",
    "    #shades: give us the heat map we desire\n",
    "    # n_levels: draw more lines, the larger n, the more bluerry it loos\n",
    "    sns.kdeplot(x_coord, y_coord, shade = \"True\", color = \"green\", n_levels = 30);"
   ]
  },
  {
   "cell_type": "code",
   "execution_count": 220,
   "metadata": {},
   "outputs": [],
   "source": [
    "#We define the tagg function, that will create a list of all the numbers associate with 'id'\n",
    "def tagg(x):\n",
    "    v = []\n",
    "    for i in range(len(x)):\n",
    "        v.append(x.iloc[i])\n",
    "    for i in range(len(v)):\n",
    "        v[i] = [d['id'] for d in v[i]]\n",
    "    return v"
   ]
  },
  {
   "cell_type": "code",
   "execution_count": 221,
   "metadata": {},
   "outputs": [],
   "source": [
    "#Function to plot the heat map with the arrow map in the second part of the task\n",
    "def calcio(d, v):\n",
    "    fig=plt.figure()\n",
    "    fig.set_size_inches(7, 5)\n",
    "    ax=fig.add_subplot(1,1,1)\n",
    "    draw_pitch(ax)#We draw the field\n",
    "    plt.axis('off')#We get rid of axis\n",
    "    \n",
    "    #These are the starting positions we need for the heat map\n",
    "    x_coord = [i[0]['x']*1.2 for i in d[\"positions\"]]\n",
    "    y_coord = [i[0]['y']*0.8 for i in d[\"positions\"]]\n",
    "\n",
    "    for i in range(len(d)):\n",
    "        # can also differentiate by color\n",
    "        color = 'blue' if 1801 in v[i] else 'red'#red if pass is inaccurate\n",
    "        #We print the arrows,using the start and the end positions of each event\n",
    "        ax.annotate(\"\", xy = ((d.iloc[i]['positions'][1]['x'])*1.2, (d.iloc[i]['positions'][1]['y'])*0.8), xycoords = 'data',\n",
    "                   xytext = ((d.iloc[i]['positions'][0]['x'])*1.2, (d.iloc[i]['positions'][0]['y'])*0.8), textcoords = 'data',\n",
    "                   arrowprops=dict(arrowstyle=\"->\",connectionstyle=\"arc3\", color = color),)\n",
    "    #This print the heat map\n",
    "    sns.kdeplot(x_coord, y_coord, shade = \"True\", color = \"green\", n_levels = 30)\n",
    "    plt.ylim(0, 80) # need this, otherwise kde plot will go outside\n",
    "    plt.xlim(0, 120)\n",
    "    return plt.show()\n",
    "    #shades: give us the heat map we desire\n",
    "    # n_levels: draw more lines, the larger n, the more bluerry it loos"
   ]
  },
  {
   "cell_type": "markdown",
   "metadata": {},
   "source": [
    "Let's start opening the json files and creating the dataframes that we need."
   ]
  },
  {
   "cell_type": "code",
   "execution_count": 222,
   "metadata": {},
   "outputs": [],
   "source": [
    "with open(r'C:\\Users\\Notebook HP\\Desktop\\Homeworks\\HW2\\Matches\\matches_Spain.json', 'r') as myfile:\n",
    "    data = myfile.read()\n",
    "m = json.loads(data)\n",
    "Spain = pd.DataFrame(m)"
   ]
  },
  {
   "cell_type": "markdown",
   "metadata": {},
   "source": [
    "Now, we search for the players that we need: Cristiano Ronaldo and Leonél Messi."
   ]
  },
  {
   "cell_type": "code",
   "execution_count": 223,
   "metadata": {},
   "outputs": [
    {
     "data": {
      "text/html": [
       "<div>\n",
       "<style scoped>\n",
       "    .dataframe tbody tr th:only-of-type {\n",
       "        vertical-align: middle;\n",
       "    }\n",
       "\n",
       "    .dataframe tbody tr th {\n",
       "        vertical-align: top;\n",
       "    }\n",
       "\n",
       "    .dataframe thead th {\n",
       "        text-align: right;\n",
       "    }\n",
       "</style>\n",
       "<table border=\"1\" class=\"dataframe\">\n",
       "  <thead>\n",
       "    <tr style=\"text-align: right;\">\n",
       "      <th></th>\n",
       "      <th>birthArea</th>\n",
       "      <th>birthDate</th>\n",
       "      <th>currentNationalTeamId</th>\n",
       "      <th>currentTeamId</th>\n",
       "      <th>firstName</th>\n",
       "      <th>foot</th>\n",
       "      <th>height</th>\n",
       "      <th>lastName</th>\n",
       "      <th>middleName</th>\n",
       "      <th>passportArea</th>\n",
       "      <th>role</th>\n",
       "      <th>shortName</th>\n",
       "      <th>weight</th>\n",
       "      <th>wyId</th>\n",
       "    </tr>\n",
       "  </thead>\n",
       "  <tbody>\n",
       "    <tr>\n",
       "      <th>185</th>\n",
       "      <td>{'name': 'Portugal', 'id': '620', 'alpha3code'...</td>\n",
       "      <td>1985-02-05</td>\n",
       "      <td>9905</td>\n",
       "      <td>3159</td>\n",
       "      <td>Cristiano Ronaldo</td>\n",
       "      <td>right</td>\n",
       "      <td>187</td>\n",
       "      <td>dos Santos Aveiro</td>\n",
       "      <td></td>\n",
       "      <td>{'name': 'Portugal', 'id': '620', 'alpha3code'...</td>\n",
       "      <td>{'code2': 'FW', 'code3': 'FWD', 'name': 'Forwa...</td>\n",
       "      <td>Cristiano Ronaldo</td>\n",
       "      <td>83</td>\n",
       "      <td>3322</td>\n",
       "    </tr>\n",
       "  </tbody>\n",
       "</table>\n",
       "</div>"
      ],
      "text/plain": [
       "                                             birthArea   birthDate  \\\n",
       "185  {'name': 'Portugal', 'id': '620', 'alpha3code'...  1985-02-05   \n",
       "\n",
       "    currentNationalTeamId currentTeamId          firstName   foot  height  \\\n",
       "185                  9905          3159  Cristiano Ronaldo  right     187   \n",
       "\n",
       "              lastName middleName  \\\n",
       "185  dos Santos Aveiro              \n",
       "\n",
       "                                          passportArea  \\\n",
       "185  {'name': 'Portugal', 'id': '620', 'alpha3code'...   \n",
       "\n",
       "                                                  role          shortName  \\\n",
       "185  {'code2': 'FW', 'code3': 'FWD', 'name': 'Forwa...  Cristiano Ronaldo   \n",
       "\n",
       "     weight  wyId  \n",
       "185      83  3322  "
      ]
     },
     "execution_count": 223,
     "metadata": {},
     "output_type": "execute_result"
    }
   ],
   "source": [
    "players.loc[players['firstName'] == 'Cristiano Ronaldo']"
   ]
  },
  {
   "cell_type": "code",
   "execution_count": 224,
   "metadata": {},
   "outputs": [
    {
     "data": {
      "text/html": [
       "<div>\n",
       "<style scoped>\n",
       "    .dataframe tbody tr th:only-of-type {\n",
       "        vertical-align: middle;\n",
       "    }\n",
       "\n",
       "    .dataframe tbody tr th {\n",
       "        vertical-align: top;\n",
       "    }\n",
       "\n",
       "    .dataframe thead th {\n",
       "        text-align: right;\n",
       "    }\n",
       "</style>\n",
       "<table border=\"1\" class=\"dataframe\">\n",
       "  <thead>\n",
       "    <tr style=\"text-align: right;\">\n",
       "      <th></th>\n",
       "      <th>birthArea</th>\n",
       "      <th>birthDate</th>\n",
       "      <th>currentNationalTeamId</th>\n",
       "      <th>currentTeamId</th>\n",
       "      <th>firstName</th>\n",
       "      <th>foot</th>\n",
       "      <th>height</th>\n",
       "      <th>lastName</th>\n",
       "      <th>middleName</th>\n",
       "      <th>passportArea</th>\n",
       "      <th>role</th>\n",
       "      <th>shortName</th>\n",
       "      <th>weight</th>\n",
       "      <th>wyId</th>\n",
       "    </tr>\n",
       "  </thead>\n",
       "  <tbody>\n",
       "    <tr>\n",
       "      <th>207</th>\n",
       "      <td>{'name': 'Argentina', 'id': '32', 'alpha3code'...</td>\n",
       "      <td>1987-06-24</td>\n",
       "      <td>12274</td>\n",
       "      <td>676</td>\n",
       "      <td>Lionel Andr\\u00e9s</td>\n",
       "      <td>left</td>\n",
       "      <td>170</td>\n",
       "      <td>Messi Cuccittini</td>\n",
       "      <td></td>\n",
       "      <td>{'name': 'Spain', 'id': '724', 'alpha3code': '...</td>\n",
       "      <td>{'code2': 'FW', 'code3': 'FWD', 'name': 'Forwa...</td>\n",
       "      <td>L. Messi</td>\n",
       "      <td>72</td>\n",
       "      <td>3359</td>\n",
       "    </tr>\n",
       "  </tbody>\n",
       "</table>\n",
       "</div>"
      ],
      "text/plain": [
       "                                             birthArea   birthDate  \\\n",
       "207  {'name': 'Argentina', 'id': '32', 'alpha3code'...  1987-06-24   \n",
       "\n",
       "    currentNationalTeamId currentTeamId           firstName  foot  height  \\\n",
       "207                 12274           676  Lionel Andr\\u00e9s  left     170   \n",
       "\n",
       "             lastName middleName  \\\n",
       "207  Messi Cuccittini              \n",
       "\n",
       "                                          passportArea  \\\n",
       "207  {'name': 'Spain', 'id': '724', 'alpha3code': '...   \n",
       "\n",
       "                                                  role shortName  weight  wyId  \n",
       "207  {'code2': 'FW', 'code3': 'FWD', 'name': 'Forwa...  L. Messi      72  3359  "
      ]
     },
     "execution_count": 224,
     "metadata": {},
     "output_type": "execute_result"
    }
   ],
   "source": [
    "players.loc[players['lastName'] == 'Messi Cuccittini']"
   ]
  },
  {
   "cell_type": "markdown",
   "metadata": {},
   "source": [
    "#### Let's start analyzing Cristiano Ronaldo"
   ]
  },
  {
   "cell_type": "markdown",
   "metadata": {},
   "source": [
    "These are all of the Ronaldo's actions during the La Liga season."
   ]
  },
  {
   "cell_type": "code",
   "execution_count": 225,
   "metadata": {},
   "outputs": [
    {
     "data": {
      "text/html": [
       "<div>\n",
       "<style scoped>\n",
       "    .dataframe tbody tr th:only-of-type {\n",
       "        vertical-align: middle;\n",
       "    }\n",
       "\n",
       "    .dataframe tbody tr th {\n",
       "        vertical-align: top;\n",
       "    }\n",
       "\n",
       "    .dataframe thead th {\n",
       "        text-align: right;\n",
       "    }\n",
       "</style>\n",
       "<table border=\"1\" class=\"dataframe\">\n",
       "  <thead>\n",
       "    <tr style=\"text-align: right;\">\n",
       "      <th></th>\n",
       "      <th>eventId</th>\n",
       "      <th>eventName</th>\n",
       "      <th>eventSec</th>\n",
       "      <th>id</th>\n",
       "      <th>matchId</th>\n",
       "      <th>matchPeriod</th>\n",
       "      <th>playerId</th>\n",
       "      <th>positions</th>\n",
       "      <th>subEventId</th>\n",
       "      <th>subEventName</th>\n",
       "      <th>tags</th>\n",
       "      <th>teamId</th>\n",
       "    </tr>\n",
       "  </thead>\n",
       "  <tbody>\n",
       "    <tr>\n",
       "      <th>76412</th>\n",
       "      <td>1</td>\n",
       "      <td>Duel</td>\n",
       "      <td>28.108732</td>\n",
       "      <td>189337977</td>\n",
       "      <td>2565596</td>\n",
       "      <td>1H</td>\n",
       "      <td>3322</td>\n",
       "      <td>[{'y': 26, 'x': 96}, {'y': 27, 'x': 91}]</td>\n",
       "      <td>11</td>\n",
       "      <td>Ground attacking duel</td>\n",
       "      <td>[{'id': 501}, {'id': 703}, {'id': 1801}]</td>\n",
       "      <td>675</td>\n",
       "    </tr>\n",
       "    <tr>\n",
       "      <th>76414</th>\n",
       "      <td>10</td>\n",
       "      <td>Shot</td>\n",
       "      <td>31.052085</td>\n",
       "      <td>189337978</td>\n",
       "      <td>2565596</td>\n",
       "      <td>1H</td>\n",
       "      <td>3322</td>\n",
       "      <td>[{'y': 27, 'x': 91}, {'y': 0, 'x': 0}]</td>\n",
       "      <td>100</td>\n",
       "      <td>Shot</td>\n",
       "      <td>[{'id': 402}, {'id': 2101}, {'id': 201}, {'id'...</td>\n",
       "      <td>675</td>\n",
       "    </tr>\n",
       "    <tr>\n",
       "      <th>76457</th>\n",
       "      <td>8</td>\n",
       "      <td>Pass</td>\n",
       "      <td>146.902499</td>\n",
       "      <td>189338004</td>\n",
       "      <td>2565596</td>\n",
       "      <td>1H</td>\n",
       "      <td>3322</td>\n",
       "      <td>[{'y': 53, 'x': 68}, {'y': 67, 'x': 53}]</td>\n",
       "      <td>85</td>\n",
       "      <td>Simple pass</td>\n",
       "      <td>[{'id': 1801}]</td>\n",
       "      <td>675</td>\n",
       "    </tr>\n",
       "    <tr>\n",
       "      <th>76589</th>\n",
       "      <td>10</td>\n",
       "      <td>Shot</td>\n",
       "      <td>548.744061</td>\n",
       "      <td>189338889</td>\n",
       "      <td>2565596</td>\n",
       "      <td>1H</td>\n",
       "      <td>3322</td>\n",
       "      <td>[{'y': 48, 'x': 96}, {'y': 0, 'x': 0}]</td>\n",
       "      <td>100</td>\n",
       "      <td>Shot</td>\n",
       "      <td>[{'id': 402}, {'id': 201}, {'id': 1201}, {'id'...</td>\n",
       "      <td>675</td>\n",
       "    </tr>\n",
       "    <tr>\n",
       "      <th>76654</th>\n",
       "      <td>1</td>\n",
       "      <td>Duel</td>\n",
       "      <td>713.899672</td>\n",
       "      <td>189338224</td>\n",
       "      <td>2565596</td>\n",
       "      <td>1H</td>\n",
       "      <td>3322</td>\n",
       "      <td>[{'y': 84, 'x': 62}, {'y': 81, 'x': 42}]</td>\n",
       "      <td>10</td>\n",
       "      <td>Air duel</td>\n",
       "      <td>[{'id': 702}, {'id': 1801}]</td>\n",
       "      <td>675</td>\n",
       "    </tr>\n",
       "  </tbody>\n",
       "</table>\n",
       "</div>"
      ],
      "text/plain": [
       "       eventId eventName    eventSec         id  matchId matchPeriod  \\\n",
       "76412        1      Duel   28.108732  189337977  2565596          1H   \n",
       "76414       10      Shot   31.052085  189337978  2565596          1H   \n",
       "76457        8      Pass  146.902499  189338004  2565596          1H   \n",
       "76589       10      Shot  548.744061  189338889  2565596          1H   \n",
       "76654        1      Duel  713.899672  189338224  2565596          1H   \n",
       "\n",
       "       playerId                                 positions subEventId  \\\n",
       "76412      3322  [{'y': 26, 'x': 96}, {'y': 27, 'x': 91}]         11   \n",
       "76414      3322    [{'y': 27, 'x': 91}, {'y': 0, 'x': 0}]        100   \n",
       "76457      3322  [{'y': 53, 'x': 68}, {'y': 67, 'x': 53}]         85   \n",
       "76589      3322    [{'y': 48, 'x': 96}, {'y': 0, 'x': 0}]        100   \n",
       "76654      3322  [{'y': 84, 'x': 62}, {'y': 81, 'x': 42}]         10   \n",
       "\n",
       "                subEventName  \\\n",
       "76412  Ground attacking duel   \n",
       "76414                   Shot   \n",
       "76457            Simple pass   \n",
       "76589                   Shot   \n",
       "76654               Air duel   \n",
       "\n",
       "                                                    tags  teamId  \n",
       "76412           [{'id': 501}, {'id': 703}, {'id': 1801}]     675  \n",
       "76414  [{'id': 402}, {'id': 2101}, {'id': 201}, {'id'...     675  \n",
       "76457                                     [{'id': 1801}]     675  \n",
       "76589  [{'id': 402}, {'id': 201}, {'id': 1201}, {'id'...     675  \n",
       "76654                        [{'id': 702}, {'id': 1801}]     675  "
      ]
     },
     "execution_count": 225,
     "metadata": {},
     "output_type": "execute_result"
    }
   ],
   "source": [
    "criact = events.loc[events['playerId'] == 3322]\n",
    "criact.head()"
   ]
  },
  {
   "cell_type": "code",
   "execution_count": 226,
   "metadata": {},
   "outputs": [
    {
     "data": {
      "text/plain": [
       "array(['Duel', 'Shot', 'Pass', 'Others on the ball', 'Foul', 'Free Kick',\n",
       "       'Offside'], dtype=object)"
      ]
     },
     "execution_count": 226,
     "metadata": {},
     "output_type": "execute_result"
    }
   ],
   "source": [
    "criact['eventName'].unique()"
   ]
  },
  {
   "cell_type": "markdown",
   "metadata": {},
   "source": [
    "#### Now, we consider only the 'eventName' values that we need"
   ]
  },
  {
   "cell_type": "markdown",
   "metadata": {},
   "source": [
    "So, we search for: 'Duel', 'Shot', 'Pass' and 'Free Kick'."
   ]
  },
  {
   "cell_type": "code",
   "execution_count": 227,
   "metadata": {},
   "outputs": [],
   "source": [
    "a = pd.concat([criact.loc[criact['eventName'] == 'Duel'], criact.loc[criact['eventName'] == 'Shot'], criact.loc[criact['eventName'] == 'Pass'], criact.loc[criact['eventName'] == 'Free Kick']])"
   ]
  },
  {
   "cell_type": "code",
   "execution_count": 228,
   "metadata": {},
   "outputs": [
    {
     "data": {
      "text/html": [
       "<div>\n",
       "<style scoped>\n",
       "    .dataframe tbody tr th:only-of-type {\n",
       "        vertical-align: middle;\n",
       "    }\n",
       "\n",
       "    .dataframe tbody tr th {\n",
       "        vertical-align: top;\n",
       "    }\n",
       "\n",
       "    .dataframe thead th {\n",
       "        text-align: right;\n",
       "    }\n",
       "</style>\n",
       "<table border=\"1\" class=\"dataframe\">\n",
       "  <thead>\n",
       "    <tr style=\"text-align: right;\">\n",
       "      <th></th>\n",
       "      <th>eventId</th>\n",
       "      <th>eventName</th>\n",
       "      <th>eventSec</th>\n",
       "      <th>id</th>\n",
       "      <th>matchId</th>\n",
       "      <th>matchPeriod</th>\n",
       "      <th>playerId</th>\n",
       "      <th>positions</th>\n",
       "      <th>subEventId</th>\n",
       "      <th>subEventName</th>\n",
       "      <th>tags</th>\n",
       "      <th>teamId</th>\n",
       "    </tr>\n",
       "  </thead>\n",
       "  <tbody>\n",
       "    <tr>\n",
       "      <th>0</th>\n",
       "      <td>1</td>\n",
       "      <td>Duel</td>\n",
       "      <td>68.618689</td>\n",
       "      <td>249644112</td>\n",
       "      <td>2565907</td>\n",
       "      <td>1H</td>\n",
       "      <td>3322</td>\n",
       "      <td>[{'y': 19, 'x': 49}, {'y': 17, 'x': 49}]</td>\n",
       "      <td>13</td>\n",
       "      <td>Ground loose ball duel</td>\n",
       "      <td>[{'id': 702}, {'id': 1801}]</td>\n",
       "      <td>675</td>\n",
       "    </tr>\n",
       "    <tr>\n",
       "      <th>1</th>\n",
       "      <td>1</td>\n",
       "      <td>Duel</td>\n",
       "      <td>69.411334</td>\n",
       "      <td>249644113</td>\n",
       "      <td>2565907</td>\n",
       "      <td>1H</td>\n",
       "      <td>3322</td>\n",
       "      <td>[{'y': 17, 'x': 49}, {'y': 19, 'x': 38}]</td>\n",
       "      <td>10</td>\n",
       "      <td>Air duel</td>\n",
       "      <td>[{'id': 701}, {'id': 1802}]</td>\n",
       "      <td>675</td>\n",
       "    </tr>\n",
       "    <tr>\n",
       "      <th>2</th>\n",
       "      <td>1</td>\n",
       "      <td>Duel</td>\n",
       "      <td>114.548692</td>\n",
       "      <td>249644119</td>\n",
       "      <td>2565907</td>\n",
       "      <td>1H</td>\n",
       "      <td>3322</td>\n",
       "      <td>[{'y': 13, 'x': 65}, {'y': 23, 'x': 53}]</td>\n",
       "      <td>12</td>\n",
       "      <td>Ground defending duel</td>\n",
       "      <td>[{'id': 701}, {'id': 1802}]</td>\n",
       "      <td>675</td>\n",
       "    </tr>\n",
       "    <tr>\n",
       "      <th>3</th>\n",
       "      <td>1</td>\n",
       "      <td>Duel</td>\n",
       "      <td>275.327960</td>\n",
       "      <td>249644145</td>\n",
       "      <td>2565907</td>\n",
       "      <td>1H</td>\n",
       "      <td>3322</td>\n",
       "      <td>[{'y': 12, 'x': 93}, {'y': 8, 'x': 97}]</td>\n",
       "      <td>11</td>\n",
       "      <td>Ground attacking duel</td>\n",
       "      <td>[{'id': 502}, {'id': 703}, {'id': 1801}]</td>\n",
       "      <td>675</td>\n",
       "    </tr>\n",
       "    <tr>\n",
       "      <th>4</th>\n",
       "      <td>1</td>\n",
       "      <td>Duel</td>\n",
       "      <td>403.870069</td>\n",
       "      <td>249644178</td>\n",
       "      <td>2565907</td>\n",
       "      <td>1H</td>\n",
       "      <td>3322</td>\n",
       "      <td>[{'y': 57, 'x': 46}, {'y': 36, 'x': 42}]</td>\n",
       "      <td>11</td>\n",
       "      <td>Ground attacking duel</td>\n",
       "      <td>[{'id': 502}, {'id': 703}, {'id': 1801}]</td>\n",
       "      <td>675</td>\n",
       "    </tr>\n",
       "  </tbody>\n",
       "</table>\n",
       "</div>"
      ],
      "text/plain": [
       "   eventId eventName    eventSec         id  matchId matchPeriod  playerId  \\\n",
       "0        1      Duel   68.618689  249644112  2565907          1H      3322   \n",
       "1        1      Duel   69.411334  249644113  2565907          1H      3322   \n",
       "2        1      Duel  114.548692  249644119  2565907          1H      3322   \n",
       "3        1      Duel  275.327960  249644145  2565907          1H      3322   \n",
       "4        1      Duel  403.870069  249644178  2565907          1H      3322   \n",
       "\n",
       "                                  positions subEventId  \\\n",
       "0  [{'y': 19, 'x': 49}, {'y': 17, 'x': 49}]         13   \n",
       "1  [{'y': 17, 'x': 49}, {'y': 19, 'x': 38}]         10   \n",
       "2  [{'y': 13, 'x': 65}, {'y': 23, 'x': 53}]         12   \n",
       "3   [{'y': 12, 'x': 93}, {'y': 8, 'x': 97}]         11   \n",
       "4  [{'y': 57, 'x': 46}, {'y': 36, 'x': 42}]         11   \n",
       "\n",
       "             subEventName                                      tags  teamId  \n",
       "0  Ground loose ball duel               [{'id': 702}, {'id': 1801}]     675  \n",
       "1                Air duel               [{'id': 701}, {'id': 1802}]     675  \n",
       "2   Ground defending duel               [{'id': 701}, {'id': 1802}]     675  \n",
       "3   Ground attacking duel  [{'id': 502}, {'id': 703}, {'id': 1801}]     675  \n",
       "4   Ground attacking duel  [{'id': 502}, {'id': 703}, {'id': 1801}]     675  "
      ]
     },
     "execution_count": 228,
     "metadata": {},
     "output_type": "execute_result"
    }
   ],
   "source": [
    "b = a.loc[a['matchId'] == 2565907]#Choosing the right match\n",
    "b = b.reset_index(drop=True)#reindexing\n",
    "b.head()"
   ]
  },
  {
   "cell_type": "code",
   "execution_count": 229,
   "metadata": {},
   "outputs": [
    {
     "data": {
      "image/png": "[encoded data removed]",
      "text/plain": [
       "<Figure size 504x360 with 1 Axes>"
      ]
     },
     "metadata": {
      "needs_background": "light"
     },
     "output_type": "display_data"
    }
   ],
   "source": [
    "green(b)"
   ]
  },
  {
   "cell_type": "markdown",
   "metadata": {},
   "source": [
    "#### Let's do the same analysis on Leonél Messi"
   ]
  },
  {
   "cell_type": "code",
   "execution_count": 230,
   "metadata": {},
   "outputs": [],
   "source": [
    "messact = events.loc[events['playerId'] == 3359]"
   ]
  },
  {
   "cell_type": "code",
   "execution_count": 231,
   "metadata": {},
   "outputs": [],
   "source": [
    "m = pd.concat([messact.loc[messact['eventName'] == 'Duel'], messact.loc[messact['eventName'] == 'Shot'], messact.loc[messact['eventName'] == 'Pass'], messact.loc[messact['eventName'] == 'Free Kick']])"
   ]
  },
  {
   "cell_type": "code",
   "execution_count": 232,
   "metadata": {},
   "outputs": [
    {
     "data": {
      "text/html": [
       "<div>\n",
       "<style scoped>\n",
       "    .dataframe tbody tr th:only-of-type {\n",
       "        vertical-align: middle;\n",
       "    }\n",
       "\n",
       "    .dataframe tbody tr th {\n",
       "        vertical-align: top;\n",
       "    }\n",
       "\n",
       "    .dataframe thead th {\n",
       "        text-align: right;\n",
       "    }\n",
       "</style>\n",
       "<table border=\"1\" class=\"dataframe\">\n",
       "  <thead>\n",
       "    <tr style=\"text-align: right;\">\n",
       "      <th></th>\n",
       "      <th>eventId</th>\n",
       "      <th>eventName</th>\n",
       "      <th>eventSec</th>\n",
       "      <th>id</th>\n",
       "      <th>matchId</th>\n",
       "      <th>matchPeriod</th>\n",
       "      <th>playerId</th>\n",
       "      <th>positions</th>\n",
       "      <th>subEventId</th>\n",
       "      <th>subEventName</th>\n",
       "      <th>tags</th>\n",
       "      <th>teamId</th>\n",
       "    </tr>\n",
       "  </thead>\n",
       "  <tbody>\n",
       "    <tr>\n",
       "      <th>0</th>\n",
       "      <td>1</td>\n",
       "      <td>Duel</td>\n",
       "      <td>122.168204</td>\n",
       "      <td>249644589</td>\n",
       "      <td>2565907</td>\n",
       "      <td>1H</td>\n",
       "      <td>3359</td>\n",
       "      <td>[{'y': 67, 'x': 65}, {'y': 38, 'x': 63}]</td>\n",
       "      <td>11</td>\n",
       "      <td>Ground attacking duel</td>\n",
       "      <td>[{'id': 702}, {'id': 1801}]</td>\n",
       "      <td>676</td>\n",
       "    </tr>\n",
       "    <tr>\n",
       "      <th>1</th>\n",
       "      <td>1</td>\n",
       "      <td>Duel</td>\n",
       "      <td>294.661951</td>\n",
       "      <td>249644634</td>\n",
       "      <td>2565907</td>\n",
       "      <td>1H</td>\n",
       "      <td>3359</td>\n",
       "      <td>[{'y': 57, 'x': 36}, {'y': 60, 'x': 34}]</td>\n",
       "      <td>13</td>\n",
       "      <td>Ground loose ball duel</td>\n",
       "      <td>[{'id': 701}, {'id': 1802}]</td>\n",
       "      <td>676</td>\n",
       "    </tr>\n",
       "    <tr>\n",
       "      <th>2</th>\n",
       "      <td>1</td>\n",
       "      <td>Duel</td>\n",
       "      <td>429.449101</td>\n",
       "      <td>249644663</td>\n",
       "      <td>2565907</td>\n",
       "      <td>1H</td>\n",
       "      <td>3359</td>\n",
       "      <td>[{'y': 62, 'x': 42}, {'y': 57, 'x': 36}]</td>\n",
       "      <td>11</td>\n",
       "      <td>Ground attacking duel</td>\n",
       "      <td>[{'id': 701}, {'id': 1802}]</td>\n",
       "      <td>676</td>\n",
       "    </tr>\n",
       "    <tr>\n",
       "      <th>3</th>\n",
       "      <td>1</td>\n",
       "      <td>Duel</td>\n",
       "      <td>432.507881</td>\n",
       "      <td>249644665</td>\n",
       "      <td>2565907</td>\n",
       "      <td>1H</td>\n",
       "      <td>3359</td>\n",
       "      <td>[{'y': 69, 'x': 37}, {'y': 66, 'x': 41}]</td>\n",
       "      <td>10</td>\n",
       "      <td>Air duel</td>\n",
       "      <td>[{'id': 701}, {'id': 1802}]</td>\n",
       "      <td>676</td>\n",
       "    </tr>\n",
       "    <tr>\n",
       "      <th>4</th>\n",
       "      <td>1</td>\n",
       "      <td>Duel</td>\n",
       "      <td>693.128014</td>\n",
       "      <td>249644730</td>\n",
       "      <td>2565907</td>\n",
       "      <td>1H</td>\n",
       "      <td>3359</td>\n",
       "      <td>[{'y': 43, 'x': 44}, {'y': 33, 'x': 35}]</td>\n",
       "      <td>13</td>\n",
       "      <td>Ground loose ball duel</td>\n",
       "      <td>[{'id': 703}, {'id': 1801}]</td>\n",
       "      <td>676</td>\n",
       "    </tr>\n",
       "  </tbody>\n",
       "</table>\n",
       "</div>"
      ],
      "text/plain": [
       "   eventId eventName    eventSec         id  matchId matchPeriod  playerId  \\\n",
       "0        1      Duel  122.168204  249644589  2565907          1H      3359   \n",
       "1        1      Duel  294.661951  249644634  2565907          1H      3359   \n",
       "2        1      Duel  429.449101  249644663  2565907          1H      3359   \n",
       "3        1      Duel  432.507881  249644665  2565907          1H      3359   \n",
       "4        1      Duel  693.128014  249644730  2565907          1H      3359   \n",
       "\n",
       "                                  positions subEventId  \\\n",
       "0  [{'y': 67, 'x': 65}, {'y': 38, 'x': 63}]         11   \n",
       "1  [{'y': 57, 'x': 36}, {'y': 60, 'x': 34}]         13   \n",
       "2  [{'y': 62, 'x': 42}, {'y': 57, 'x': 36}]         11   \n",
       "3  [{'y': 69, 'x': 37}, {'y': 66, 'x': 41}]         10   \n",
       "4  [{'y': 43, 'x': 44}, {'y': 33, 'x': 35}]         13   \n",
       "\n",
       "             subEventName                         tags  teamId  \n",
       "0   Ground attacking duel  [{'id': 702}, {'id': 1801}]     676  \n",
       "1  Ground loose ball duel  [{'id': 701}, {'id': 1802}]     676  \n",
       "2   Ground attacking duel  [{'id': 701}, {'id': 1802}]     676  \n",
       "3                Air duel  [{'id': 701}, {'id': 1802}]     676  \n",
       "4  Ground loose ball duel  [{'id': 703}, {'id': 1801}]     676  "
      ]
     },
     "execution_count": 232,
     "metadata": {},
     "output_type": "execute_result"
    }
   ],
   "source": [
    "rb = m.loc[m['matchId'] == 2565907]\n",
    "rb = rb.reset_index(drop=True)\n",
    "rb.head()"
   ]
  },
  {
   "cell_type": "code",
   "execution_count": 233,
   "metadata": {},
   "outputs": [
    {
     "data": {
      "image/png": "[encoded data removed]",
      "text/plain": [
       "<Figure size 504x360 with 1 Axes>"
      ]
     },
     "metadata": {
      "needs_background": "light"
     },
     "output_type": "display_data"
    }
   ],
   "source": [
    "green(rb)"
   ]
  },
  {
   "cell_type": "markdown",
   "metadata": {},
   "source": [
    "### Comments"
   ]
  },
  {
   "cell_type": "markdown",
   "metadata": {},
   "source": [
    "By looking at the two plots, there are clearly strong differences:\n",
    "1. Cristiano Ronaldo has been particularly active in two zones of the field, one inside and the other right outside the main area. Instead, Messi has only focused his game into the advanced midfield, a small and less dengerous place, during the match.\n",
    "2. Cristiano Ronaldo has been moving all around the field, reaching areas outside his main zones.\n",
    "\n",
    "This means that the defense of the Real Madrid was able to limit the movements of Messi and relegate him to a small area of the field, instead Cristiano Ronaldo, maybe thanks to his strenght and physique, has been a tough opponent for the Barcelona defence, in fact he managed to attack directly the goalkeeper."
   ]
  },
  {
   "cell_type": "markdown",
   "metadata": {},
   "source": [
    "### 2. Miralem Pjanic vs Jorginho\n",
    "Let's start creating the Italy dataset, since Juventus and Napoli are two teams of Serie A."
   ]
  },
  {
   "cell_type": "code",
   "execution_count": 234,
   "metadata": {},
   "outputs": [
    {
     "data": {
      "text/html": [
       "<div>\n",
       "<style scoped>\n",
       "    .dataframe tbody tr th:only-of-type {\n",
       "        vertical-align: middle;\n",
       "    }\n",
       "\n",
       "    .dataframe tbody tr th {\n",
       "        vertical-align: top;\n",
       "    }\n",
       "\n",
       "    .dataframe thead th {\n",
       "        text-align: right;\n",
       "    }\n",
       "</style>\n",
       "<table border=\"1\" class=\"dataframe\">\n",
       "  <thead>\n",
       "    <tr style=\"text-align: right;\">\n",
       "      <th></th>\n",
       "      <th>competitionId</th>\n",
       "      <th>date</th>\n",
       "      <th>dateutc</th>\n",
       "      <th>duration</th>\n",
       "      <th>gameweek</th>\n",
       "      <th>label</th>\n",
       "      <th>referees</th>\n",
       "      <th>roundId</th>\n",
       "      <th>seasonId</th>\n",
       "      <th>status</th>\n",
       "      <th>teamsData</th>\n",
       "      <th>venue</th>\n",
       "      <th>winner</th>\n",
       "      <th>wyId</th>\n",
       "    </tr>\n",
       "  </thead>\n",
       "  <tbody>\n",
       "    <tr>\n",
       "      <th>0</th>\n",
       "      <td>524</td>\n",
       "      <td>May 20, 2018 at 8:45:00 PM GMT+2</td>\n",
       "      <td>2018-05-20 18:45:00</td>\n",
       "      <td>Regular</td>\n",
       "      <td>38</td>\n",
       "      <td>Lazio - Internazionale, 2 - 3</td>\n",
       "      <td>[{'refereeId': 377206, 'role': 'referee'}, {'r...</td>\n",
       "      <td>4406278</td>\n",
       "      <td>181248</td>\n",
       "      <td>Played</td>\n",
       "      <td>{'3162': {'scoreET': 0, 'coachId': 251025, 'si...</td>\n",
       "      <td></td>\n",
       "      <td>3161</td>\n",
       "      <td>2576335</td>\n",
       "    </tr>\n",
       "    <tr>\n",
       "      <th>1</th>\n",
       "      <td>524</td>\n",
       "      <td>May 20, 2018 at 8:45:00 PM GMT+2</td>\n",
       "      <td>2018-05-20 18:45:00</td>\n",
       "      <td>Regular</td>\n",
       "      <td>38</td>\n",
       "      <td>Sassuolo - Roma, 0 - 1</td>\n",
       "      <td>[{'refereeId': 377255, 'role': 'referee'}, {'r...</td>\n",
       "      <td>4406278</td>\n",
       "      <td>181248</td>\n",
       "      <td>Played</td>\n",
       "      <td>{'3158': {'scoreET': 0, 'coachId': 210119, 'si...</td>\n",
       "      <td>MAPEI Stadium - Citt\\u00e0 del Tricolore</td>\n",
       "      <td>3158</td>\n",
       "      <td>2576336</td>\n",
       "    </tr>\n",
       "    <tr>\n",
       "      <th>2</th>\n",
       "      <td>524</td>\n",
       "      <td>May 20, 2018 at 6:00:00 PM GMT+2</td>\n",
       "      <td>2018-05-20 16:00:00</td>\n",
       "      <td>Regular</td>\n",
       "      <td>38</td>\n",
       "      <td>Cagliari - Atalanta, 1 - 0</td>\n",
       "      <td>[{'refereeId': 377247, 'role': 'referee'}, {'r...</td>\n",
       "      <td>4406278</td>\n",
       "      <td>181248</td>\n",
       "      <td>Played</td>\n",
       "      <td>{'3173': {'scoreET': 0, 'coachId': 251044, 'si...</td>\n",
       "      <td></td>\n",
       "      <td>3173</td>\n",
       "      <td>2576329</td>\n",
       "    </tr>\n",
       "    <tr>\n",
       "      <th>3</th>\n",
       "      <td>524</td>\n",
       "      <td>May 20, 2018 at 6:00:00 PM GMT+2</td>\n",
       "      <td>2018-05-20 16:00:00</td>\n",
       "      <td>Regular</td>\n",
       "      <td>38</td>\n",
       "      <td>Chievo - Benevento, 1 - 0</td>\n",
       "      <td>[{'refereeId': 377246, 'role': 'referee'}, {'r...</td>\n",
       "      <td>4406278</td>\n",
       "      <td>181248</td>\n",
       "      <td>Played</td>\n",
       "      <td>{'3165': {'scoreET': 0, 'coachId': 272970, 'si...</td>\n",
       "      <td></td>\n",
       "      <td>3165</td>\n",
       "      <td>2576330</td>\n",
       "    </tr>\n",
       "    <tr>\n",
       "      <th>4</th>\n",
       "      <td>524</td>\n",
       "      <td>May 20, 2018 at 6:00:00 PM GMT+2</td>\n",
       "      <td>2018-05-20 16:00:00</td>\n",
       "      <td>Regular</td>\n",
       "      <td>38</td>\n",
       "      <td>Udinese - Bologna, 1 - 0</td>\n",
       "      <td>[{'refereeId': 377254, 'role': 'referee'}, {'r...</td>\n",
       "      <td>4406278</td>\n",
       "      <td>181248</td>\n",
       "      <td>Played</td>\n",
       "      <td>{'3166': {'scoreET': 0, 'coachId': 20481, 'sid...</td>\n",
       "      <td></td>\n",
       "      <td>3163</td>\n",
       "      <td>2576331</td>\n",
       "    </tr>\n",
       "  </tbody>\n",
       "</table>\n",
       "</div>"
      ],
      "text/plain": [
       "   competitionId                              date              dateutc  \\\n",
       "0            524  May 20, 2018 at 8:45:00 PM GMT+2  2018-05-20 18:45:00   \n",
       "1            524  May 20, 2018 at 8:45:00 PM GMT+2  2018-05-20 18:45:00   \n",
       "2            524  May 20, 2018 at 6:00:00 PM GMT+2  2018-05-20 16:00:00   \n",
       "3            524  May 20, 2018 at 6:00:00 PM GMT+2  2018-05-20 16:00:00   \n",
       "4            524  May 20, 2018 at 6:00:00 PM GMT+2  2018-05-20 16:00:00   \n",
       "\n",
       "  duration  gameweek                          label  \\\n",
       "0  Regular        38  Lazio - Internazionale, 2 - 3   \n",
       "1  Regular        38         Sassuolo - Roma, 0 - 1   \n",
       "2  Regular        38     Cagliari - Atalanta, 1 - 0   \n",
       "3  Regular        38      Chievo - Benevento, 1 - 0   \n",
       "4  Regular        38       Udinese - Bologna, 1 - 0   \n",
       "\n",
       "                                            referees  roundId  seasonId  \\\n",
       "0  [{'refereeId': 377206, 'role': 'referee'}, {'r...  4406278    181248   \n",
       "1  [{'refereeId': 377255, 'role': 'referee'}, {'r...  4406278    181248   \n",
       "2  [{'refereeId': 377247, 'role': 'referee'}, {'r...  4406278    181248   \n",
       "3  [{'refereeId': 377246, 'role': 'referee'}, {'r...  4406278    181248   \n",
       "4  [{'refereeId': 377254, 'role': 'referee'}, {'r...  4406278    181248   \n",
       "\n",
       "   status                                          teamsData  \\\n",
       "0  Played  {'3162': {'scoreET': 0, 'coachId': 251025, 'si...   \n",
       "1  Played  {'3158': {'scoreET': 0, 'coachId': 210119, 'si...   \n",
       "2  Played  {'3173': {'scoreET': 0, 'coachId': 251044, 'si...   \n",
       "3  Played  {'3165': {'scoreET': 0, 'coachId': 272970, 'si...   \n",
       "4  Played  {'3166': {'scoreET': 0, 'coachId': 20481, 'sid...   \n",
       "\n",
       "                                      venue  winner     wyId  \n",
       "0                                              3161  2576335  \n",
       "1  MAPEI Stadium - Citt\\u00e0 del Tricolore    3158  2576336  \n",
       "2                                              3173  2576329  \n",
       "3                                              3165  2576330  \n",
       "4                                              3163  2576331  "
      ]
     },
     "execution_count": 234,
     "metadata": {},
     "output_type": "execute_result"
    }
   ],
   "source": [
    "with open(r'C:\\Users\\Notebook HP\\Desktop\\Homeworks\\HW2\\Matches\\matches_Italy.json', 'r') as myfile:\n",
    "    data = myfile.read()\n",
    "i = json.loads(data)\n",
    "Italy = pd.DataFrame(i)\n",
    "Italy.head()"
   ]
  },
  {
   "cell_type": "markdown",
   "metadata": {},
   "source": [
    "We need the wyId code to find this match even in 'events' dataset, to choose the players actions of the right match."
   ]
  },
  {
   "cell_type": "code",
   "execution_count": 235,
   "metadata": {},
   "outputs": [
    {
     "data": {
      "text/html": [
       "<div>\n",
       "<style scoped>\n",
       "    .dataframe tbody tr th:only-of-type {\n",
       "        vertical-align: middle;\n",
       "    }\n",
       "\n",
       "    .dataframe tbody tr th {\n",
       "        vertical-align: top;\n",
       "    }\n",
       "\n",
       "    .dataframe thead th {\n",
       "        text-align: right;\n",
       "    }\n",
       "</style>\n",
       "<table border=\"1\" class=\"dataframe\">\n",
       "  <thead>\n",
       "    <tr style=\"text-align: right;\">\n",
       "      <th></th>\n",
       "      <th>competitionId</th>\n",
       "      <th>date</th>\n",
       "      <th>dateutc</th>\n",
       "      <th>duration</th>\n",
       "      <th>gameweek</th>\n",
       "      <th>label</th>\n",
       "      <th>referees</th>\n",
       "      <th>roundId</th>\n",
       "      <th>seasonId</th>\n",
       "      <th>status</th>\n",
       "      <th>teamsData</th>\n",
       "      <th>venue</th>\n",
       "      <th>winner</th>\n",
       "      <th>wyId</th>\n",
       "    </tr>\n",
       "  </thead>\n",
       "  <tbody>\n",
       "    <tr>\n",
       "      <th>41</th>\n",
       "      <td>524</td>\n",
       "      <td>April 22, 2018 at 8:45:00 PM GMT+2</td>\n",
       "      <td>2018-04-22 18:45:00</td>\n",
       "      <td>Regular</td>\n",
       "      <td>34</td>\n",
       "      <td>Juventus - Napoli, 0 - 1</td>\n",
       "      <td>[{'refereeId': 377206, 'role': 'referee'}, {'r...</td>\n",
       "      <td>4406278</td>\n",
       "      <td>181248</td>\n",
       "      <td>Played</td>\n",
       "      <td>{'3159': {'scoreET': 0, 'coachId': 20386, 'sid...</td>\n",
       "      <td></td>\n",
       "      <td>3187</td>\n",
       "      <td>2576295</td>\n",
       "    </tr>\n",
       "  </tbody>\n",
       "</table>\n",
       "</div>"
      ],
      "text/plain": [
       "    competitionId                                date              dateutc  \\\n",
       "41            524  April 22, 2018 at 8:45:00 PM GMT+2  2018-04-22 18:45:00   \n",
       "\n",
       "   duration  gameweek                     label  \\\n",
       "41  Regular        34  Juventus - Napoli, 0 - 1   \n",
       "\n",
       "                                             referees  roundId  seasonId  \\\n",
       "41  [{'refereeId': 377206, 'role': 'referee'}, {'r...  4406278    181248   \n",
       "\n",
       "    status                                          teamsData venue  winner  \\\n",
       "41  Played  {'3159': {'scoreET': 0, 'coachId': 20386, 'sid...          3187   \n",
       "\n",
       "       wyId  \n",
       "41  2576295  "
      ]
     },
     "execution_count": 235,
     "metadata": {},
     "output_type": "execute_result"
    }
   ],
   "source": [
    "Italy.loc[Italy['label'] == 'Juventus - Napoli, 0 - 1']"
   ]
  },
  {
   "cell_type": "markdown",
   "metadata": {},
   "source": [
    "The match Juventus - Napoli has wyId: 2576295"
   ]
  },
  {
   "cell_type": "markdown",
   "metadata": {},
   "source": [
    "#### Miralem Pjanic plot of passes"
   ]
  },
  {
   "cell_type": "markdown",
   "metadata": {},
   "source": [
    "Now we can search for the player Miralem Pjanic in the 'players' dataset, we need his wyId code."
   ]
  },
  {
   "cell_type": "code",
   "execution_count": 236,
   "metadata": {},
   "outputs": [
    {
     "data": {
      "text/html": [
       "<div>\n",
       "<style scoped>\n",
       "    .dataframe tbody tr th:only-of-type {\n",
       "        vertical-align: middle;\n",
       "    }\n",
       "\n",
       "    .dataframe tbody tr th {\n",
       "        vertical-align: top;\n",
       "    }\n",
       "\n",
       "    .dataframe thead th {\n",
       "        text-align: right;\n",
       "    }\n",
       "</style>\n",
       "<table border=\"1\" class=\"dataframe\">\n",
       "  <thead>\n",
       "    <tr style=\"text-align: right;\">\n",
       "      <th></th>\n",
       "      <th>birthArea</th>\n",
       "      <th>birthDate</th>\n",
       "      <th>currentNationalTeamId</th>\n",
       "      <th>currentTeamId</th>\n",
       "      <th>firstName</th>\n",
       "      <th>foot</th>\n",
       "      <th>height</th>\n",
       "      <th>lastName</th>\n",
       "      <th>middleName</th>\n",
       "      <th>passportArea</th>\n",
       "      <th>role</th>\n",
       "      <th>shortName</th>\n",
       "      <th>weight</th>\n",
       "      <th>wyId</th>\n",
       "    </tr>\n",
       "  </thead>\n",
       "  <tbody>\n",
       "    <tr>\n",
       "      <th>1482</th>\n",
       "      <td>{'name': 'Bosnia-Herzegovina', 'id': '70', 'al...</td>\n",
       "      <td>1990-04-02</td>\n",
       "      <td>null</td>\n",
       "      <td>3159</td>\n",
       "      <td>Miralem</td>\n",
       "      <td>right</td>\n",
       "      <td>180</td>\n",
       "      <td>Pjani\\u0107</td>\n",
       "      <td></td>\n",
       "      <td>{'name': 'Luxembourg', 'id': '442', 'alpha3cod...</td>\n",
       "      <td>{'code2': 'MD', 'code3': 'MID', 'name': 'Midfi...</td>\n",
       "      <td>M. Pjani\\u0107</td>\n",
       "      <td>74</td>\n",
       "      <td>20443</td>\n",
       "    </tr>\n",
       "  </tbody>\n",
       "</table>\n",
       "</div>"
      ],
      "text/plain": [
       "                                              birthArea   birthDate  \\\n",
       "1482  {'name': 'Bosnia-Herzegovina', 'id': '70', 'al...  1990-04-02   \n",
       "\n",
       "     currentNationalTeamId currentTeamId firstName   foot  height  \\\n",
       "1482                  null          3159   Miralem  right     180   \n",
       "\n",
       "         lastName middleName  \\\n",
       "1482  Pjani\\u0107              \n",
       "\n",
       "                                           passportArea  \\\n",
       "1482  {'name': 'Luxembourg', 'id': '442', 'alpha3cod...   \n",
       "\n",
       "                                                   role       shortName  \\\n",
       "1482  {'code2': 'MD', 'code3': 'MID', 'name': 'Midfi...  M. Pjani\\u0107   \n",
       "\n",
       "      weight   wyId  \n",
       "1482      74  20443  "
      ]
     },
     "execution_count": 236,
     "metadata": {},
     "output_type": "execute_result"
    }
   ],
   "source": [
    "pia = players.loc[players['firstName'] == 'Miralem']\n",
    "pia"
   ]
  },
  {
   "cell_type": "markdown",
   "metadata": {},
   "source": [
    "#### Making the heat-arrow plot"
   ]
  },
  {
   "cell_type": "code",
   "execution_count": 237,
   "metadata": {},
   "outputs": [],
   "source": [
    "#Opening and loading the json file 'events_Italy'\n",
    "with open(r'C:\\Users\\Notebook HP\\Desktop\\Homeworks\\HW2\\Events\\events_Italy.json', 'r') as myfile:\n",
    "    data = myfile.read()\n",
    "evit = json.loads(data)\n",
    "Itaev = pd.DataFrame(evit)#Creating a pandas dataframe"
   ]
  },
  {
   "cell_type": "code",
   "execution_count": 238,
   "metadata": {},
   "outputs": [
    {
     "data": {
      "text/html": [
       "<div>\n",
       "<style scoped>\n",
       "    .dataframe tbody tr th:only-of-type {\n",
       "        vertical-align: middle;\n",
       "    }\n",
       "\n",
       "    .dataframe tbody tr th {\n",
       "        vertical-align: top;\n",
       "    }\n",
       "\n",
       "    .dataframe thead th {\n",
       "        text-align: right;\n",
       "    }\n",
       "</style>\n",
       "<table border=\"1\" class=\"dataframe\">\n",
       "  <thead>\n",
       "    <tr style=\"text-align: right;\">\n",
       "      <th></th>\n",
       "      <th>eventId</th>\n",
       "      <th>eventName</th>\n",
       "      <th>eventSec</th>\n",
       "      <th>id</th>\n",
       "      <th>matchId</th>\n",
       "      <th>matchPeriod</th>\n",
       "      <th>playerId</th>\n",
       "      <th>positions</th>\n",
       "      <th>subEventId</th>\n",
       "      <th>subEventName</th>\n",
       "      <th>tags</th>\n",
       "      <th>teamId</th>\n",
       "    </tr>\n",
       "  </thead>\n",
       "  <tbody>\n",
       "    <tr>\n",
       "      <th>573105</th>\n",
       "      <td>8</td>\n",
       "      <td>Pass</td>\n",
       "      <td>26.160914</td>\n",
       "      <td>245487395</td>\n",
       "      <td>2576295</td>\n",
       "      <td>1H</td>\n",
       "      <td>20443</td>\n",
       "      <td>[{'y': 55, 'x': 28}, {'y': 2, 'x': 39}]</td>\n",
       "      <td>85</td>\n",
       "      <td>Simple pass</td>\n",
       "      <td>[{'id': 1801}]</td>\n",
       "      <td>3159</td>\n",
       "    </tr>\n",
       "    <tr>\n",
       "      <th>573107</th>\n",
       "      <td>8</td>\n",
       "      <td>Pass</td>\n",
       "      <td>33.120179</td>\n",
       "      <td>245487399</td>\n",
       "      <td>2576295</td>\n",
       "      <td>1H</td>\n",
       "      <td>20443</td>\n",
       "      <td>[{'y': 30, 'x': 31}, {'y': 84, 'x': 31}]</td>\n",
       "      <td>83</td>\n",
       "      <td>High pass</td>\n",
       "      <td>[{'id': 1801}]</td>\n",
       "      <td>3159</td>\n",
       "    </tr>\n",
       "    <tr>\n",
       "      <th>573126</th>\n",
       "      <td>8</td>\n",
       "      <td>Pass</td>\n",
       "      <td>120.169376</td>\n",
       "      <td>245487410</td>\n",
       "      <td>2576295</td>\n",
       "      <td>1H</td>\n",
       "      <td>20443</td>\n",
       "      <td>[{'y': 62, 'x': 63}, {'y': 47, 'x': 63}]</td>\n",
       "      <td>85</td>\n",
       "      <td>Simple pass</td>\n",
       "      <td>[{'id': 1401}, {'id': 1801}]</td>\n",
       "      <td>3159</td>\n",
       "    </tr>\n",
       "    <tr>\n",
       "      <th>573220</th>\n",
       "      <td>8</td>\n",
       "      <td>Pass</td>\n",
       "      <td>352.941005</td>\n",
       "      <td>245487509</td>\n",
       "      <td>2576295</td>\n",
       "      <td>1H</td>\n",
       "      <td>20443</td>\n",
       "      <td>[{'y': 26, 'x': 25}, {'y': 0, 'x': 31}]</td>\n",
       "      <td>85</td>\n",
       "      <td>Simple pass</td>\n",
       "      <td>[{'id': 1401}, {'id': 1001}, {'id': 1802}]</td>\n",
       "      <td>3159</td>\n",
       "    </tr>\n",
       "    <tr>\n",
       "      <th>573225</th>\n",
       "      <td>8</td>\n",
       "      <td>Pass</td>\n",
       "      <td>432.992312</td>\n",
       "      <td>245487518</td>\n",
       "      <td>2576295</td>\n",
       "      <td>1H</td>\n",
       "      <td>20443</td>\n",
       "      <td>[{'y': 51, 'x': 26}, {'y': 76, 'x': 13}]</td>\n",
       "      <td>85</td>\n",
       "      <td>Simple pass</td>\n",
       "      <td>[{'id': 1801}]</td>\n",
       "      <td>3159</td>\n",
       "    </tr>\n",
       "  </tbody>\n",
       "</table>\n",
       "</div>"
      ],
      "text/plain": [
       "        eventId eventName    eventSec         id  matchId matchPeriod  \\\n",
       "573105        8      Pass   26.160914  245487395  2576295          1H   \n",
       "573107        8      Pass   33.120179  245487399  2576295          1H   \n",
       "573126        8      Pass  120.169376  245487410  2576295          1H   \n",
       "573220        8      Pass  352.941005  245487509  2576295          1H   \n",
       "573225        8      Pass  432.992312  245487518  2576295          1H   \n",
       "\n",
       "        playerId                                 positions subEventId  \\\n",
       "573105     20443   [{'y': 55, 'x': 28}, {'y': 2, 'x': 39}]         85   \n",
       "573107     20443  [{'y': 30, 'x': 31}, {'y': 84, 'x': 31}]         83   \n",
       "573126     20443  [{'y': 62, 'x': 63}, {'y': 47, 'x': 63}]         85   \n",
       "573220     20443   [{'y': 26, 'x': 25}, {'y': 0, 'x': 31}]         85   \n",
       "573225     20443  [{'y': 51, 'x': 26}, {'y': 76, 'x': 13}]         85   \n",
       "\n",
       "       subEventName                                        tags  teamId  \n",
       "573105  Simple pass                              [{'id': 1801}]    3159  \n",
       "573107    High pass                              [{'id': 1801}]    3159  \n",
       "573126  Simple pass                [{'id': 1401}, {'id': 1801}]    3159  \n",
       "573220  Simple pass  [{'id': 1401}, {'id': 1001}, {'id': 1802}]    3159  \n",
       "573225  Simple pass                              [{'id': 1801}]    3159  "
      ]
     },
     "execution_count": 238,
     "metadata": {},
     "output_type": "execute_result"
    }
   ],
   "source": [
    "#These are all the passes of Pjanic during the match\n",
    "Pjanic = Itaev.loc[(Itaev['matchId'] == 2576295) & (Itaev['playerId'] == 20443) & (Itaev['eventName'] == 'Pass')]\n",
    "Pjanic.head()"
   ]
  },
  {
   "cell_type": "markdown",
   "metadata": {},
   "source": [
    "In this visualization, we will plot the heat map and the arrow map concurrently, highlightning the accurate passes and the inaccurate ones."
   ]
  },
  {
   "cell_type": "code",
   "execution_count": 239,
   "metadata": {},
   "outputs": [
    {
     "data": {
      "text/plain": [
       "573105                                [{'id': 1801}]\n",
       "573107                                [{'id': 1801}]\n",
       "573126                  [{'id': 1401}, {'id': 1801}]\n",
       "573220    [{'id': 1401}, {'id': 1001}, {'id': 1802}]\n",
       "573225                                [{'id': 1801}]\n",
       "Name: tags, dtype: object"
      ]
     },
     "execution_count": 239,
     "metadata": {},
     "output_type": "execute_result"
    }
   ],
   "source": [
    "tag = Pjanic['tags']#This is the 'tags' column that we will transform into a list of values\n",
    "tag.head()"
   ]
  },
  {
   "cell_type": "code",
   "execution_count": 240,
   "metadata": {},
   "outputs": [
    {
     "data": {
      "text/plain": [
       "[[1801], [1801], [1401, 1801], [1401, 1001, 1802], [1801]]"
      ]
     },
     "execution_count": 240,
     "metadata": {},
     "output_type": "execute_result"
    }
   ],
   "source": [
    "v = tagg(tag)#Function described above\n",
    "v[:5]"
   ]
  },
  {
   "cell_type": "markdown",
   "metadata": {},
   "source": [
    "Now, we can verify if a pass has been accurate or not by looking at the tag number 1801 for each event."
   ]
  },
  {
   "cell_type": "code",
   "execution_count": 241,
   "metadata": {},
   "outputs": [
    {
     "data": {
      "image/png": "[encoded data removed]",
      "text/plain": [
       "<Figure size 504x360 with 1 Axes>"
      ]
     },
     "metadata": {
      "needs_background": "light"
     },
     "output_type": "display_data"
    }
   ],
   "source": [
    "calcio(Pjanic,v)#As explained in the definition of this function, the blue arrows are accurate passes, while the red ones are inaccurate."
   ]
  },
  {
   "cell_type": "markdown",
   "metadata": {},
   "source": [
    "#### Jorginho plot of passes"
   ]
  },
  {
   "cell_type": "code",
   "execution_count": 242,
   "metadata": {},
   "outputs": [
    {
     "data": {
      "text/html": [
       "<div>\n",
       "<style scoped>\n",
       "    .dataframe tbody tr th:only-of-type {\n",
       "        vertical-align: middle;\n",
       "    }\n",
       "\n",
       "    .dataframe tbody tr th {\n",
       "        vertical-align: top;\n",
       "    }\n",
       "\n",
       "    .dataframe thead th {\n",
       "        text-align: right;\n",
       "    }\n",
       "</style>\n",
       "<table border=\"1\" class=\"dataframe\">\n",
       "  <thead>\n",
       "    <tr style=\"text-align: right;\">\n",
       "      <th></th>\n",
       "      <th>birthArea</th>\n",
       "      <th>birthDate</th>\n",
       "      <th>currentNationalTeamId</th>\n",
       "      <th>currentTeamId</th>\n",
       "      <th>firstName</th>\n",
       "      <th>foot</th>\n",
       "      <th>height</th>\n",
       "      <th>lastName</th>\n",
       "      <th>middleName</th>\n",
       "      <th>passportArea</th>\n",
       "      <th>role</th>\n",
       "      <th>shortName</th>\n",
       "      <th>weight</th>\n",
       "      <th>wyId</th>\n",
       "    </tr>\n",
       "  </thead>\n",
       "  <tbody>\n",
       "    <tr>\n",
       "      <th>1658</th>\n",
       "      <td>{'name': 'Brazil', 'id': '76', 'alpha3code': '...</td>\n",
       "      <td>1991-12-20</td>\n",
       "      <td>3757</td>\n",
       "      <td>3187</td>\n",
       "      <td>Jorge Luiz</td>\n",
       "      <td>right</td>\n",
       "      <td>180</td>\n",
       "      <td>Frello Filho</td>\n",
       "      <td></td>\n",
       "      <td>{'name': 'Italy', 'id': '380', 'alpha3code': '...</td>\n",
       "      <td>{'code2': 'MD', 'code3': 'MID', 'name': 'Midfi...</td>\n",
       "      <td>Jorginho</td>\n",
       "      <td>65</td>\n",
       "      <td>21315</td>\n",
       "    </tr>\n",
       "  </tbody>\n",
       "</table>\n",
       "</div>"
      ],
      "text/plain": [
       "                                              birthArea   birthDate  \\\n",
       "1658  {'name': 'Brazil', 'id': '76', 'alpha3code': '...  1991-12-20   \n",
       "\n",
       "     currentNationalTeamId currentTeamId   firstName   foot  height  \\\n",
       "1658                  3757          3187  Jorge Luiz  right     180   \n",
       "\n",
       "          lastName middleName  \\\n",
       "1658  Frello Filho              \n",
       "\n",
       "                                           passportArea  \\\n",
       "1658  {'name': 'Italy', 'id': '380', 'alpha3code': '...   \n",
       "\n",
       "                                                   role shortName  weight  \\\n",
       "1658  {'code2': 'MD', 'code3': 'MID', 'name': 'Midfi...  Jorginho      65   \n",
       "\n",
       "       wyId  \n",
       "1658  21315  "
      ]
     },
     "execution_count": 242,
     "metadata": {},
     "output_type": "execute_result"
    }
   ],
   "source": [
    "jor = players.loc[players['firstName'] == 'Jorge Luiz'] #Searching for the wyId code of the player\n",
    "jor"
   ]
  },
  {
   "cell_type": "code",
   "execution_count": 243,
   "metadata": {},
   "outputs": [
    {
     "data": {
      "text/html": [
       "<div>\n",
       "<style scoped>\n",
       "    .dataframe tbody tr th:only-of-type {\n",
       "        vertical-align: middle;\n",
       "    }\n",
       "\n",
       "    .dataframe tbody tr th {\n",
       "        vertical-align: top;\n",
       "    }\n",
       "\n",
       "    .dataframe thead th {\n",
       "        text-align: right;\n",
       "    }\n",
       "</style>\n",
       "<table border=\"1\" class=\"dataframe\">\n",
       "  <thead>\n",
       "    <tr style=\"text-align: right;\">\n",
       "      <th></th>\n",
       "      <th>eventId</th>\n",
       "      <th>eventName</th>\n",
       "      <th>eventSec</th>\n",
       "      <th>id</th>\n",
       "      <th>matchId</th>\n",
       "      <th>matchPeriod</th>\n",
       "      <th>playerId</th>\n",
       "      <th>positions</th>\n",
       "      <th>subEventId</th>\n",
       "      <th>subEventName</th>\n",
       "      <th>tags</th>\n",
       "      <th>teamId</th>\n",
       "    </tr>\n",
       "  </thead>\n",
       "  <tbody>\n",
       "    <tr>\n",
       "      <th>573145</th>\n",
       "      <td>8</td>\n",
       "      <td>Pass</td>\n",
       "      <td>166.338197</td>\n",
       "      <td>245487404</td>\n",
       "      <td>2576295</td>\n",
       "      <td>1H</td>\n",
       "      <td>21315</td>\n",
       "      <td>[{'y': 75, 'x': 47}, {'y': 71, 'x': 62}]</td>\n",
       "      <td>85</td>\n",
       "      <td>Simple pass</td>\n",
       "      <td>[{'id': 1801}]</td>\n",
       "      <td>3187</td>\n",
       "    </tr>\n",
       "    <tr>\n",
       "      <th>573164</th>\n",
       "      <td>8</td>\n",
       "      <td>Pass</td>\n",
       "      <td>206.466357</td>\n",
       "      <td>245487433</td>\n",
       "      <td>2576295</td>\n",
       "      <td>1H</td>\n",
       "      <td>21315</td>\n",
       "      <td>[{'y': 44, 'x': 71}, {'y': 42, 'x': 69}]</td>\n",
       "      <td>82</td>\n",
       "      <td>Head pass</td>\n",
       "      <td>[{'id': 1401}, {'id': 1802}]</td>\n",
       "      <td>3187</td>\n",
       "    </tr>\n",
       "    <tr>\n",
       "      <th>573188</th>\n",
       "      <td>8</td>\n",
       "      <td>Pass</td>\n",
       "      <td>250.114192</td>\n",
       "      <td>245487461</td>\n",
       "      <td>2576295</td>\n",
       "      <td>1H</td>\n",
       "      <td>21315</td>\n",
       "      <td>[{'y': 72, 'x': 47}, {'y': 96, 'x': 61}]</td>\n",
       "      <td>85</td>\n",
       "      <td>Simple pass</td>\n",
       "      <td>[{'id': 1801}]</td>\n",
       "      <td>3187</td>\n",
       "    </tr>\n",
       "    <tr>\n",
       "      <th>573231</th>\n",
       "      <td>8</td>\n",
       "      <td>Pass</td>\n",
       "      <td>446.557147</td>\n",
       "      <td>245487500</td>\n",
       "      <td>2576295</td>\n",
       "      <td>1H</td>\n",
       "      <td>21315</td>\n",
       "      <td>[{'y': 28, 'x': 57}, {'y': 33, 'x': 77}]</td>\n",
       "      <td>85</td>\n",
       "      <td>Simple pass</td>\n",
       "      <td>[{'id': 1801}]</td>\n",
       "      <td>3187</td>\n",
       "    </tr>\n",
       "    <tr>\n",
       "      <th>573237</th>\n",
       "      <td>8</td>\n",
       "      <td>Pass</td>\n",
       "      <td>456.587989</td>\n",
       "      <td>245487506</td>\n",
       "      <td>2576295</td>\n",
       "      <td>1H</td>\n",
       "      <td>21315</td>\n",
       "      <td>[{'y': 25, 'x': 61}, {'y': 13, 'x': 74}]</td>\n",
       "      <td>85</td>\n",
       "      <td>Simple pass</td>\n",
       "      <td>[{'id': 1801}]</td>\n",
       "      <td>3187</td>\n",
       "    </tr>\n",
       "  </tbody>\n",
       "</table>\n",
       "</div>"
      ],
      "text/plain": [
       "        eventId eventName    eventSec         id  matchId matchPeriod  \\\n",
       "573145        8      Pass  166.338197  245487404  2576295          1H   \n",
       "573164        8      Pass  206.466357  245487433  2576295          1H   \n",
       "573188        8      Pass  250.114192  245487461  2576295          1H   \n",
       "573231        8      Pass  446.557147  245487500  2576295          1H   \n",
       "573237        8      Pass  456.587989  245487506  2576295          1H   \n",
       "\n",
       "        playerId                                 positions subEventId  \\\n",
       "573145     21315  [{'y': 75, 'x': 47}, {'y': 71, 'x': 62}]         85   \n",
       "573164     21315  [{'y': 44, 'x': 71}, {'y': 42, 'x': 69}]         82   \n",
       "573188     21315  [{'y': 72, 'x': 47}, {'y': 96, 'x': 61}]         85   \n",
       "573231     21315  [{'y': 28, 'x': 57}, {'y': 33, 'x': 77}]         85   \n",
       "573237     21315  [{'y': 25, 'x': 61}, {'y': 13, 'x': 74}]         85   \n",
       "\n",
       "       subEventName                          tags  teamId  \n",
       "573145  Simple pass                [{'id': 1801}]    3187  \n",
       "573164    Head pass  [{'id': 1401}, {'id': 1802}]    3187  \n",
       "573188  Simple pass                [{'id': 1801}]    3187  \n",
       "573231  Simple pass                [{'id': 1801}]    3187  \n",
       "573237  Simple pass                [{'id': 1801}]    3187  "
      ]
     },
     "execution_count": 243,
     "metadata": {},
     "output_type": "execute_result"
    }
   ],
   "source": [
    "#Choosing only the event 'Pass'\n",
    "Jorginho = Itaev.loc[(Itaev['matchId'] == 2576295) & (Itaev['playerId'] == 21315) & (Itaev['eventName'] == 'Pass')]\n",
    "Jorginho.head() "
   ]
  },
  {
   "cell_type": "code",
   "execution_count": 244,
   "metadata": {},
   "outputs": [
    {
     "data": {
      "text/plain": [
       "573145                  [{'id': 1801}]\n",
       "573164    [{'id': 1401}, {'id': 1802}]\n",
       "573188                  [{'id': 1801}]\n",
       "573231                  [{'id': 1801}]\n",
       "573237                  [{'id': 1801}]\n",
       "Name: tags, dtype: object"
      ]
     },
     "execution_count": 244,
     "metadata": {},
     "output_type": "execute_result"
    }
   ],
   "source": [
    "tagj = Jorginho['tags']\n",
    "tagj.head()"
   ]
  },
  {
   "cell_type": "code",
   "execution_count": 245,
   "metadata": {},
   "outputs": [
    {
     "data": {
      "text/plain": [
       "[[1801], [1401, 1802], [1801], [1801], [1801]]"
      ]
     },
     "execution_count": 245,
     "metadata": {},
     "output_type": "execute_result"
    }
   ],
   "source": [
    "w = tagg(tagj)\n",
    "w[:5]"
   ]
  },
  {
   "cell_type": "code",
   "execution_count": 246,
   "metadata": {},
   "outputs": [
    {
     "data": {
      "image/png": "[encoded data removed]",
      "text/plain": [
       "<Figure size 504x360 with 1 Axes>"
      ]
     },
     "metadata": {
      "needs_background": "light"
     },
     "output_type": "display_data"
    }
   ],
   "source": [
    "calcio(Jorginho,w)#As explained in the definition of this function, the blue arrows are accurate passes, while the red ones are inaccurate."
   ]
  },
  {
   "cell_type": "markdown",
   "metadata": {},
   "source": [
    "### Comments"
   ]
  },
  {
   "cell_type": "markdown",
   "metadata": {},
   "source": [
    "By looking at the heat maps, we can clearly notice that even if both are midfielders, Jorginho is in a much more advanced position than Pjanic. The difference in the number of passes between the two players is once again on Jorginho's side, even though Pjanic manages to overcome it in terms of precision, with only one inaccurate pass. However, all the inaccurate passages of Jorginho are at least towards the attack area, while Pjanic not only never approached there, but none of his passes seems to be able to reach the area. So, going to look at the game statistics linked to the track of this exercise, we observe a 60% possession of Napoli, and one of 40% of Juventus, therefore, since the victory belongs to Napoli, perhaps it would have been better to concentrate on the quantity of forward passes, and not just on their accuracy."
   ]
  },
  {
   "cell_type": "code",
   "execution_count": null,
   "metadata": {},
   "outputs": [],
   "source": []
  }
 ],
 "metadata": {
  "kernelspec": {
   "display_name": "Python 3",
   "language": "python",
   "name": "python3"
  },
  "language_info": {
   "codemirror_mode": {
    "name": "ipython",
    "version": 3
   },
   "file_extension": ".py",
   "mimetype": "text/x-python",
   "name": "python",
   "nbconvert_exporter": "python",
   "pygments_lexer": "ipython3",
   "version": "3.7.3"
  }
 },
 "nbformat": 4,
 "nbformat_minor": 2
}
