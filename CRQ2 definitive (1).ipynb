{
 "cells": [
  {
   "cell_type": "markdown",
   "metadata": {},
   "source": [
    "# [CRQ2] Visualize movements and passes on the pitch!"
   ]
  },
  {
   "cell_type": "markdown",
   "metadata": {},
   "source": [
    "Here we will focus our attention on the ares that a player covers during a match. In fact, for each event of the 'events' dataframe, we have a pair of coordinates that represent the starting point and the end point of an action."
   ]
  },
  {
   "cell_type": "markdown",
   "metadata": {},
   "source": [
    "This task is divided into 2 different types of visualizations, an heat map and a heat and arrow map."
   ]
  },
  {
   "cell_type": "markdown",
   "metadata": {},
   "source": [
    "### 1. Cristiano Ronaldo vs Leonél Messi"
   ]
  },
  {
   "cell_type": "markdown",
   "metadata": {},
   "source": [
    "Here, we will cover only the match Barcelona - Real Madrid played on the 6 May 2018."
   ]
  },
  {
   "cell_type": "code",
   "execution_count": 76,
   "metadata": {},
   "outputs": [],
   "source": [
    "import json\n",
    "from pandas.io.json import json_normalize\n",
    "import numpy as np\n",
    "import seaborn as sns\n",
    "import pandas as pd\n",
    "import matplotlib.pyplot as plt\n",
    "from matplotlib.patches import Arc, Rectangle, ConnectionPatch\n",
    "from matplotlib.offsetbox import  OffsetImage\n",
    "import squarify\n",
    "from functools import reduce"
   ]
  },
  {
   "cell_type": "markdown",
   "metadata": {},
   "source": [
    "Let's define some functions that we will use later."
   ]
  },
  {
   "cell_type": "code",
   "execution_count": 77,
   "metadata": {},
   "outputs": [],
   "source": [
    "def draw_pitch(ax):\n",
    "    # size of the pitch is 120, 80\n",
    "    #Create figure\n",
    "\n",
    "    #Pitch Outline & Centre Line\n",
    "    plt.plot([0,0],[0,80], color=\"black\")\n",
    "    plt.plot([0,120],[80,80], color=\"black\")\n",
    "    plt.plot([120,120],[80,0], color=\"black\")\n",
    "    plt.plot([120,0],[0,0], color=\"black\")\n",
    "    plt.plot([60,60],[0,80], color=\"black\")\n",
    "\n",
    "    #Left Penalty Area\n",
    "    plt.plot([14.6,14.6],[57.8,22.2],color=\"black\")\n",
    "    plt.plot([0,14.6],[57.8,57.8],color=\"black\")\n",
    "    plt.plot([0,14.6],[22.2,22.2],color=\"black\")\n",
    "\n",
    "    #Right Penalty Area\n",
    "    plt.plot([120,105.4],[57.8,57.8],color=\"black\")\n",
    "    plt.plot([105.4,105.4],[57.8,22.5],color=\"black\")\n",
    "    plt.plot([120, 105.4],[22.5,22.5],color=\"black\")\n",
    "\n",
    "    #Left 6-yard Box\n",
    "    plt.plot([0,4.9],[48,48],color=\"black\")\n",
    "    plt.plot([4.9,4.9],[48,32],color=\"black\")\n",
    "    plt.plot([0,4.9],[32,32],color=\"black\")\n",
    "\n",
    "    #Right 6-yard Box\n",
    "    plt.plot([120,115.1],[48,48],color=\"black\")\n",
    "    plt.plot([115.1,115.1],[48,32],color=\"black\")\n",
    "    plt.plot([120,115.1],[32,32],color=\"black\")\n",
    "\n",
    "    #Prepare Circles\n",
    "    centreCircle = plt.Circle((60,40),8.1,color=\"black\",fill=False)\n",
    "    centreSpot = plt.Circle((60,40),0.71,color=\"black\")\n",
    "    leftPenSpot = plt.Circle((9.7,40),0.71,color=\"black\")\n",
    "    rightPenSpot = plt.Circle((110.3,40),0.71,color=\"black\")\n",
    "\n",
    "    #Draw Circles\n",
    "    ax.add_patch(centreCircle)\n",
    "    ax.add_patch(centreSpot)\n",
    "    ax.add_patch(leftPenSpot)\n",
    "    ax.add_patch(rightPenSpot)\n",
    "\n",
    "    #Prepare Arcs\n",
    "    # arguments for arc\n",
    "    # x, y coordinate of centerpoint of arc\n",
    "    # width, height as arc might not be circle, but oval\n",
    "    # angle: degree of rotation of the shape, anti-clockwise\n",
    "    # theta1, theta2, start and end location of arc in degree\n",
    "    leftArc = Arc((9.7,40),height=16.2,width=16.2,angle=0,theta1=310,theta2=50,color=\"black\")\n",
    "    rightArc = Arc((110.3,40),height=16.2,width=16.2,angle=0,theta1=130,theta2=230,color=\"black\")\n",
    "\n",
    "    #Draw Arcs\n",
    "    ax.add_patch(leftArc)\n",
    "    ax.add_patch(rightArc)  "
   ]
  },
  {
   "cell_type": "code",
   "execution_count": 78,
   "metadata": {},
   "outputs": [
    {
     "data": {
      "image/png": "[encoded data removed]",
      "text/plain": [
       "<Figure size 504x360 with 1 Axes>"
      ]
     },
     "metadata": {
      "needs_background": "light"
     },
     "output_type": "display_data"
    }
   ],
   "source": [
    "fig=plt.figure()\n",
    "fig.set_size_inches(7, 5)\n",
    "ax=fig.add_subplot(1,1,1)\n",
    "draw_pitch(ax)\n",
    "plt.show()"
   ]
  },
  {
   "cell_type": "code",
   "execution_count": 123,
   "metadata": {},
   "outputs": [],
   "source": [
    "#Function to plot the heat map\n",
    "def green(d):\n",
    "    fig=plt.figure()\n",
    "    fig.set_size_inches(7, 5)\n",
    "    ax=fig.add_subplot(1,1,1)\n",
    "    draw_pitch(ax)\n",
    "    plt.axis('off')\n",
    "\n",
    "    x_coord = [i[0]['x']*1.2 for i in d[\"positions\"]]#Coordinate of player starting position\n",
    "    y_coord = [i[0]['y']*0.8 for i in d[\"positions\"]]\n",
    "    plt.ylim(0, 80) # need this, otherwise kde plot will go outside\n",
    "    plt.xlim(0, 120)\n",
    "\n",
    "    #shades: give us the heat map we desire\n",
    "    # n_levels: draw more lines, the larger n, the more bluerry it loos\n",
    "    sns.kdeplot(x_coord, y_coord, shade = \"True\", color = \"green\", n_levels = 30);"
   ]
  },
  {
   "cell_type": "code",
   "execution_count": 124,
   "metadata": {},
   "outputs": [],
   "source": [
    "#We define the tagg function, that will create a list of all the numbers associate with 'id'\n",
    "def tagg(x):\n",
    "    v = []\n",
    "    for i in range(len(x)):\n",
    "        v.append(x.iloc[i])\n",
    "    for i in range(len(v)):\n",
    "        v[i] = [d['id'] for d in v[i]]\n",
    "    return v"
   ]
  },
  {
   "cell_type": "code",
   "execution_count": 125,
   "metadata": {},
   "outputs": [],
   "source": [
    "#Function to plot the heat map with the arrow map in the second part of the task\n",
    "def calcio(d, v):\n",
    "    fig=plt.figure()\n",
    "    fig.set_size_inches(7, 5)\n",
    "    ax=fig.add_subplot(1,1,1)\n",
    "    draw_pitch(ax)#We draw the field\n",
    "    plt.axis('off')#We get rid of axis\n",
    "    \n",
    "    #These are the starting positions we need for the heat map\n",
    "    x_coord = [i[0]['x']*1.2 for i in d[\"positions\"]]\n",
    "    y_coord = [i[0]['y']*0.8 for i in d[\"positions\"]]\n",
    "\n",
    "    for i in range(len(d)):\n",
    "        # can also differentiate by color\n",
    "        color = 'blue' if 1801 in v[i] else 'red'#red if pass is inaccurate\n",
    "        #We print the arrows,using the start and the end positions of each event\n",
    "        ax.annotate(\"\", xy = ((d.iloc[i]['positions'][1]['x'])*1.2, (d.iloc[i]['positions'][1]['y'])*0.8), xycoords = 'data',\n",
    "                   xytext = ((d.iloc[i]['positions'][0]['x'])*1.2, (d.iloc[i]['positions'][0]['y'])*0.8), textcoords = 'data',\n",
    "                   arrowprops=dict(arrowstyle=\"->\",connectionstyle=\"arc3\", color = color),)\n",
    "    #This print the heat map\n",
    "    sns.kdeplot(x_coord, y_coord, shade = \"True\", color = \"green\", n_levels = 30)\n",
    "    plt.ylim(0, 80) # need this, otherwise kde plot will go outside\n",
    "    plt.xlim(0, 120)\n",
    "    return plt.show()\n",
    "    #shades: give us the heat map we desire\n",
    "    # n_levels: draw more lines, the larger n, the more bluerry it loos\n"
   ]
  },
  {
   "cell_type": "markdown",
   "metadata": {},
   "source": [
    "Let's start opening the json files and creating the dataframes that we need."
   ]
  },
  {
   "cell_type": "code",
   "execution_count": 82,
   "metadata": {},
   "outputs": [],
   "source": [
    "with open(r'C:\\Users\\Notebook HP\\Desktop\\Homeworks\\HW2\\players.json', 'r') as myfile:\n",
    "    data = myfile.read()\n",
    "p = json.loads(data)\n",
    "players = pd.DataFrame(p)\n"
   ]
  },
  {
   "cell_type": "code",
   "execution_count": 83,
   "metadata": {},
   "outputs": [],
   "source": [
    "with open(r'C:\\Users\\Notebook HP\\Desktop\\Homeworks\\HW2\\Matches\\matches_Spain.json', 'r') as myfile:\n",
    "    data = myfile.read()\n",
    "m = json.loads(data)\n",
    "Spain = pd.DataFrame(m)\n"
   ]
  },
  {
   "cell_type": "code",
   "execution_count": 84,
   "metadata": {},
   "outputs": [],
   "source": [
    "with open(r'C:\\Users\\Notebook HP\\Desktop\\Homeworks\\HW2\\Events\\events_Spain.json', 'r') as myfile:\n",
    "    data = myfile.read()\n",
    "e = json.loads(data)\n",
    "events = pd.DataFrame(e)\n"
   ]
  },
  {
   "cell_type": "markdown",
   "metadata": {},
   "source": [
    "Now, we search for the players that we need: Cristiano Ronaldo and Leonél Messi.\n"
   ]
  },
  {
   "cell_type": "code",
   "execution_count": 85,
   "metadata": {
    "scrolled": true
   },
   "outputs": [
    {
     "data": {
      "text/html": [
       "<div>\n",
       "<style scoped>\n",
       "    .dataframe tbody tr th:only-of-type {\n",
       "        vertical-align: middle;\n",
       "    }\n",
       "\n",
       "    .dataframe tbody tr th {\n",
       "        vertical-align: top;\n",
       "    }\n",
       "\n",
       "    .dataframe thead th {\n",
       "        text-align: right;\n",
       "    }\n",
       "</style>\n",
       "<table border=\"1\" class=\"dataframe\">\n",
       "  <thead>\n",
       "    <tr style=\"text-align: right;\">\n",
       "      <th></th>\n",
       "      <th>birthArea</th>\n",
       "      <th>birthDate</th>\n",
       "      <th>currentNationalTeamId</th>\n",
       "      <th>currentTeamId</th>\n",
       "      <th>firstName</th>\n",
       "      <th>foot</th>\n",
       "      <th>height</th>\n",
       "      <th>lastName</th>\n",
       "      <th>middleName</th>\n",
       "      <th>passportArea</th>\n",
       "      <th>role</th>\n",
       "      <th>shortName</th>\n",
       "      <th>weight</th>\n",
       "      <th>wyId</th>\n",
       "    </tr>\n",
       "  </thead>\n",
       "  <tbody>\n",
       "    <tr>\n",
       "      <th>185</th>\n",
       "      <td>{'name': 'Portugal', 'id': '620', 'alpha3code'...</td>\n",
       "      <td>1985-02-05</td>\n",
       "      <td>9905</td>\n",
       "      <td>3159</td>\n",
       "      <td>Cristiano Ronaldo</td>\n",
       "      <td>right</td>\n",
       "      <td>187</td>\n",
       "      <td>dos Santos Aveiro</td>\n",
       "      <td></td>\n",
       "      <td>{'name': 'Portugal', 'id': '620', 'alpha3code'...</td>\n",
       "      <td>{'code2': 'FW', 'code3': 'FWD', 'name': 'Forwa...</td>\n",
       "      <td>Cristiano Ronaldo</td>\n",
       "      <td>83</td>\n",
       "      <td>3322</td>\n",
       "    </tr>\n",
       "  </tbody>\n",
       "</table>\n",
       "</div>"
      ],
      "text/plain": [
       "                                             birthArea   birthDate  \\\n",
       "185  {'name': 'Portugal', 'id': '620', 'alpha3code'...  1985-02-05   \n",
       "\n",
       "    currentNationalTeamId currentTeamId          firstName   foot  height  \\\n",
       "185                  9905          3159  Cristiano Ronaldo  right     187   \n",
       "\n",
       "              lastName middleName  \\\n",
       "185  dos Santos Aveiro              \n",
       "\n",
       "                                          passportArea  \\\n",
       "185  {'name': 'Portugal', 'id': '620', 'alpha3code'...   \n",
       "\n",
       "                                                  role          shortName  \\\n",
       "185  {'code2': 'FW', 'code3': 'FWD', 'name': 'Forwa...  Cristiano Ronaldo   \n",
       "\n",
       "     weight  wyId  \n",
       "185      83  3322  "
      ]
     },
     "execution_count": 85,
     "metadata": {},
     "output_type": "execute_result"
    }
   ],
   "source": [
    "players.loc[players['firstName'] == 'Cristiano Ronaldo']"
   ]
  },
  {
   "cell_type": "code",
   "execution_count": 86,
   "metadata": {},
   "outputs": [
    {
     "data": {
      "text/html": [
       "<div>\n",
       "<style scoped>\n",
       "    .dataframe tbody tr th:only-of-type {\n",
       "        vertical-align: middle;\n",
       "    }\n",
       "\n",
       "    .dataframe tbody tr th {\n",
       "        vertical-align: top;\n",
       "    }\n",
       "\n",
       "    .dataframe thead th {\n",
       "        text-align: right;\n",
       "    }\n",
       "</style>\n",
       "<table border=\"1\" class=\"dataframe\">\n",
       "  <thead>\n",
       "    <tr style=\"text-align: right;\">\n",
       "      <th></th>\n",
       "      <th>birthArea</th>\n",
       "      <th>birthDate</th>\n",
       "      <th>currentNationalTeamId</th>\n",
       "      <th>currentTeamId</th>\n",
       "      <th>firstName</th>\n",
       "      <th>foot</th>\n",
       "      <th>height</th>\n",
       "      <th>lastName</th>\n",
       "      <th>middleName</th>\n",
       "      <th>passportArea</th>\n",
       "      <th>role</th>\n",
       "      <th>shortName</th>\n",
       "      <th>weight</th>\n",
       "      <th>wyId</th>\n",
       "    </tr>\n",
       "  </thead>\n",
       "  <tbody>\n",
       "    <tr>\n",
       "      <th>207</th>\n",
       "      <td>{'name': 'Argentina', 'id': '32', 'alpha3code'...</td>\n",
       "      <td>1987-06-24</td>\n",
       "      <td>12274</td>\n",
       "      <td>676</td>\n",
       "      <td>Lionel Andr\\u00e9s</td>\n",
       "      <td>left</td>\n",
       "      <td>170</td>\n",
       "      <td>Messi Cuccittini</td>\n",
       "      <td></td>\n",
       "      <td>{'name': 'Spain', 'id': '724', 'alpha3code': '...</td>\n",
       "      <td>{'code2': 'FW', 'code3': 'FWD', 'name': 'Forwa...</td>\n",
       "      <td>L. Messi</td>\n",
       "      <td>72</td>\n",
       "      <td>3359</td>\n",
       "    </tr>\n",
       "  </tbody>\n",
       "</table>\n",
       "</div>"
      ],
      "text/plain": [
       "                                             birthArea   birthDate  \\\n",
       "207  {'name': 'Argentina', 'id': '32', 'alpha3code'...  1987-06-24   \n",
       "\n",
       "    currentNationalTeamId currentTeamId           firstName  foot  height  \\\n",
       "207                 12274           676  Lionel Andr\\u00e9s  left     170   \n",
       "\n",
       "             lastName middleName  \\\n",
       "207  Messi Cuccittini              \n",
       "\n",
       "                                          passportArea  \\\n",
       "207  {'name': 'Spain', 'id': '724', 'alpha3code': '...   \n",
       "\n",
       "                                                  role shortName  weight  wyId  \n",
       "207  {'code2': 'FW', 'code3': 'FWD', 'name': 'Forwa...  L. Messi      72  3359  "
      ]
     },
     "execution_count": 86,
     "metadata": {},
     "output_type": "execute_result"
    }
   ],
   "source": [
    "players.loc[players['lastName'] == 'Messi Cuccittini']"
   ]
  },
  {
   "cell_type": "markdown",
   "metadata": {},
   "source": [
    "#### Let's start analyzing Cristiano Ronaldo"
   ]
  },
  {
   "cell_type": "markdown",
   "metadata": {},
   "source": [
    "These are all of the Ronaldo's actions during the La Liga season."
   ]
  },
  {
   "cell_type": "code",
   "execution_count": 87,
   "metadata": {},
   "outputs": [
    {
     "data": {
      "text/html": [
       "<div>\n",
       "<style scoped>\n",
       "    .dataframe tbody tr th:only-of-type {\n",
       "        vertical-align: middle;\n",
       "    }\n",
       "\n",
       "    .dataframe tbody tr th {\n",
       "        vertical-align: top;\n",
       "    }\n",
       "\n",
       "    .dataframe thead th {\n",
       "        text-align: right;\n",
       "    }\n",
       "</style>\n",
       "<table border=\"1\" class=\"dataframe\">\n",
       "  <thead>\n",
       "    <tr style=\"text-align: right;\">\n",
       "      <th></th>\n",
       "      <th>eventId</th>\n",
       "      <th>eventName</th>\n",
       "      <th>eventSec</th>\n",
       "      <th>id</th>\n",
       "      <th>matchId</th>\n",
       "      <th>matchPeriod</th>\n",
       "      <th>playerId</th>\n",
       "      <th>positions</th>\n",
       "      <th>subEventId</th>\n",
       "      <th>subEventName</th>\n",
       "      <th>tags</th>\n",
       "      <th>teamId</th>\n",
       "    </tr>\n",
       "  </thead>\n",
       "  <tbody>\n",
       "    <tr>\n",
       "      <th>76412</th>\n",
       "      <td>1</td>\n",
       "      <td>Duel</td>\n",
       "      <td>28.108732</td>\n",
       "      <td>189337977</td>\n",
       "      <td>2565596</td>\n",
       "      <td>1H</td>\n",
       "      <td>3322</td>\n",
       "      <td>[{'y': 26, 'x': 96}, {'y': 27, 'x': 91}]</td>\n",
       "      <td>11</td>\n",
       "      <td>Ground attacking duel</td>\n",
       "      <td>[{'id': 501}, {'id': 703}, {'id': 1801}]</td>\n",
       "      <td>675</td>\n",
       "    </tr>\n",
       "    <tr>\n",
       "      <th>76414</th>\n",
       "      <td>10</td>\n",
       "      <td>Shot</td>\n",
       "      <td>31.052085</td>\n",
       "      <td>189337978</td>\n",
       "      <td>2565596</td>\n",
       "      <td>1H</td>\n",
       "      <td>3322</td>\n",
       "      <td>[{'y': 27, 'x': 91}, {'y': 0, 'x': 0}]</td>\n",
       "      <td>100</td>\n",
       "      <td>Shot</td>\n",
       "      <td>[{'id': 402}, {'id': 2101}, {'id': 201}, {'id'...</td>\n",
       "      <td>675</td>\n",
       "    </tr>\n",
       "    <tr>\n",
       "      <th>76457</th>\n",
       "      <td>8</td>\n",
       "      <td>Pass</td>\n",
       "      <td>146.902499</td>\n",
       "      <td>189338004</td>\n",
       "      <td>2565596</td>\n",
       "      <td>1H</td>\n",
       "      <td>3322</td>\n",
       "      <td>[{'y': 53, 'x': 68}, {'y': 67, 'x': 53}]</td>\n",
       "      <td>85</td>\n",
       "      <td>Simple pass</td>\n",
       "      <td>[{'id': 1801}]</td>\n",
       "      <td>675</td>\n",
       "    </tr>\n",
       "    <tr>\n",
       "      <th>76589</th>\n",
       "      <td>10</td>\n",
       "      <td>Shot</td>\n",
       "      <td>548.744061</td>\n",
       "      <td>189338889</td>\n",
       "      <td>2565596</td>\n",
       "      <td>1H</td>\n",
       "      <td>3322</td>\n",
       "      <td>[{'y': 48, 'x': 96}, {'y': 0, 'x': 0}]</td>\n",
       "      <td>100</td>\n",
       "      <td>Shot</td>\n",
       "      <td>[{'id': 402}, {'id': 201}, {'id': 1201}, {'id'...</td>\n",
       "      <td>675</td>\n",
       "    </tr>\n",
       "    <tr>\n",
       "      <th>76654</th>\n",
       "      <td>1</td>\n",
       "      <td>Duel</td>\n",
       "      <td>713.899672</td>\n",
       "      <td>189338224</td>\n",
       "      <td>2565596</td>\n",
       "      <td>1H</td>\n",
       "      <td>3322</td>\n",
       "      <td>[{'y': 84, 'x': 62}, {'y': 81, 'x': 42}]</td>\n",
       "      <td>10</td>\n",
       "      <td>Air duel</td>\n",
       "      <td>[{'id': 702}, {'id': 1801}]</td>\n",
       "      <td>675</td>\n",
       "    </tr>\n",
       "  </tbody>\n",
       "</table>\n",
       "</div>"
      ],
      "text/plain": [
       "       eventId eventName    eventSec         id  matchId matchPeriod  \\\n",
       "76412        1      Duel   28.108732  189337977  2565596          1H   \n",
       "76414       10      Shot   31.052085  189337978  2565596          1H   \n",
       "76457        8      Pass  146.902499  189338004  2565596          1H   \n",
       "76589       10      Shot  548.744061  189338889  2565596          1H   \n",
       "76654        1      Duel  713.899672  189338224  2565596          1H   \n",
       "\n",
       "       playerId                                 positions subEventId  \\\n",
       "76412      3322  [{'y': 26, 'x': 96}, {'y': 27, 'x': 91}]         11   \n",
       "76414      3322    [{'y': 27, 'x': 91}, {'y': 0, 'x': 0}]        100   \n",
       "76457      3322  [{'y': 53, 'x': 68}, {'y': 67, 'x': 53}]         85   \n",
       "76589      3322    [{'y': 48, 'x': 96}, {'y': 0, 'x': 0}]        100   \n",
       "76654      3322  [{'y': 84, 'x': 62}, {'y': 81, 'x': 42}]         10   \n",
       "\n",
       "                subEventName  \\\n",
       "76412  Ground attacking duel   \n",
       "76414                   Shot   \n",
       "76457            Simple pass   \n",
       "76589                   Shot   \n",
       "76654               Air duel   \n",
       "\n",
       "                                                    tags  teamId  \n",
       "76412           [{'id': 501}, {'id': 703}, {'id': 1801}]     675  \n",
       "76414  [{'id': 402}, {'id': 2101}, {'id': 201}, {'id'...     675  \n",
       "76457                                     [{'id': 1801}]     675  \n",
       "76589  [{'id': 402}, {'id': 201}, {'id': 1201}, {'id'...     675  \n",
       "76654                        [{'id': 702}, {'id': 1801}]     675  "
      ]
     },
     "execution_count": 87,
     "metadata": {},
     "output_type": "execute_result"
    }
   ],
   "source": [
    "criact = events.loc[events['playerId'] == 3322]\n",
    "criact.head()"
   ]
  },
  {
   "cell_type": "code",
   "execution_count": 88,
   "metadata": {},
   "outputs": [
    {
     "data": {
      "text/plain": [
       "array(['Duel', 'Shot', 'Pass', 'Others on the ball', 'Foul', 'Free Kick',\n",
       "       'Offside'], dtype=object)"
      ]
     },
     "execution_count": 88,
     "metadata": {},
     "output_type": "execute_result"
    }
   ],
   "source": [
    "criact['eventName'].unique()"
   ]
  },
  {
   "cell_type": "markdown",
   "metadata": {},
   "source": [
    "#### Now, we consider only the 'eventName' values that we need"
   ]
  },
  {
   "cell_type": "markdown",
   "metadata": {},
   "source": [
    "So, we search for: 'Duel', 'Shot', 'Pass' and 'Free Kick'."
   ]
  },
  {
   "cell_type": "code",
   "execution_count": 89,
   "metadata": {},
   "outputs": [],
   "source": [
    "a = pd.concat([criact.loc[criact['eventName'] == 'Duel'], criact.loc[criact['eventName'] == 'Shot'], criact.loc[criact['eventName'] == 'Pass'], criact.loc[criact['eventName'] == 'Free Kick']])"
   ]
  },
  {
   "cell_type": "code",
   "execution_count": 90,
   "metadata": {},
   "outputs": [
    {
     "data": {
      "text/html": [
       "<div>\n",
       "<style scoped>\n",
       "    .dataframe tbody tr th:only-of-type {\n",
       "        vertical-align: middle;\n",
       "    }\n",
       "\n",
       "    .dataframe tbody tr th {\n",
       "        vertical-align: top;\n",
       "    }\n",
       "\n",
       "    .dataframe thead th {\n",
       "        text-align: right;\n",
       "    }\n",
       "</style>\n",
       "<table border=\"1\" class=\"dataframe\">\n",
       "  <thead>\n",
       "    <tr style=\"text-align: right;\">\n",
       "      <th></th>\n",
       "      <th>eventId</th>\n",
       "      <th>eventName</th>\n",
       "      <th>eventSec</th>\n",
       "      <th>id</th>\n",
       "      <th>matchId</th>\n",
       "      <th>matchPeriod</th>\n",
       "      <th>playerId</th>\n",
       "      <th>positions</th>\n",
       "      <th>subEventId</th>\n",
       "      <th>subEventName</th>\n",
       "      <th>tags</th>\n",
       "      <th>teamId</th>\n",
       "    </tr>\n",
       "  </thead>\n",
       "  <tbody>\n",
       "    <tr>\n",
       "      <th>0</th>\n",
       "      <td>1</td>\n",
       "      <td>Duel</td>\n",
       "      <td>68.618689</td>\n",
       "      <td>249644112</td>\n",
       "      <td>2565907</td>\n",
       "      <td>1H</td>\n",
       "      <td>3322</td>\n",
       "      <td>[{'y': 19, 'x': 49}, {'y': 17, 'x': 49}]</td>\n",
       "      <td>13</td>\n",
       "      <td>Ground loose ball duel</td>\n",
       "      <td>[{'id': 702}, {'id': 1801}]</td>\n",
       "      <td>675</td>\n",
       "    </tr>\n",
       "    <tr>\n",
       "      <th>1</th>\n",
       "      <td>1</td>\n",
       "      <td>Duel</td>\n",
       "      <td>69.411334</td>\n",
       "      <td>249644113</td>\n",
       "      <td>2565907</td>\n",
       "      <td>1H</td>\n",
       "      <td>3322</td>\n",
       "      <td>[{'y': 17, 'x': 49}, {'y': 19, 'x': 38}]</td>\n",
       "      <td>10</td>\n",
       "      <td>Air duel</td>\n",
       "      <td>[{'id': 701}, {'id': 1802}]</td>\n",
       "      <td>675</td>\n",
       "    </tr>\n",
       "    <tr>\n",
       "      <th>2</th>\n",
       "      <td>1</td>\n",
       "      <td>Duel</td>\n",
       "      <td>114.548692</td>\n",
       "      <td>249644119</td>\n",
       "      <td>2565907</td>\n",
       "      <td>1H</td>\n",
       "      <td>3322</td>\n",
       "      <td>[{'y': 13, 'x': 65}, {'y': 23, 'x': 53}]</td>\n",
       "      <td>12</td>\n",
       "      <td>Ground defending duel</td>\n",
       "      <td>[{'id': 701}, {'id': 1802}]</td>\n",
       "      <td>675</td>\n",
       "    </tr>\n",
       "    <tr>\n",
       "      <th>3</th>\n",
       "      <td>1</td>\n",
       "      <td>Duel</td>\n",
       "      <td>275.327960</td>\n",
       "      <td>249644145</td>\n",
       "      <td>2565907</td>\n",
       "      <td>1H</td>\n",
       "      <td>3322</td>\n",
       "      <td>[{'y': 12, 'x': 93}, {'y': 8, 'x': 97}]</td>\n",
       "      <td>11</td>\n",
       "      <td>Ground attacking duel</td>\n",
       "      <td>[{'id': 502}, {'id': 703}, {'id': 1801}]</td>\n",
       "      <td>675</td>\n",
       "    </tr>\n",
       "    <tr>\n",
       "      <th>4</th>\n",
       "      <td>1</td>\n",
       "      <td>Duel</td>\n",
       "      <td>403.870069</td>\n",
       "      <td>249644178</td>\n",
       "      <td>2565907</td>\n",
       "      <td>1H</td>\n",
       "      <td>3322</td>\n",
       "      <td>[{'y': 57, 'x': 46}, {'y': 36, 'x': 42}]</td>\n",
       "      <td>11</td>\n",
       "      <td>Ground attacking duel</td>\n",
       "      <td>[{'id': 502}, {'id': 703}, {'id': 1801}]</td>\n",
       "      <td>675</td>\n",
       "    </tr>\n",
       "  </tbody>\n",
       "</table>\n",
       "</div>"
      ],
      "text/plain": [
       "   eventId eventName    eventSec         id  matchId matchPeriod  playerId  \\\n",
       "0        1      Duel   68.618689  249644112  2565907          1H      3322   \n",
       "1        1      Duel   69.411334  249644113  2565907          1H      3322   \n",
       "2        1      Duel  114.548692  249644119  2565907          1H      3322   \n",
       "3        1      Duel  275.327960  249644145  2565907          1H      3322   \n",
       "4        1      Duel  403.870069  249644178  2565907          1H      3322   \n",
       "\n",
       "                                  positions subEventId  \\\n",
       "0  [{'y': 19, 'x': 49}, {'y': 17, 'x': 49}]         13   \n",
       "1  [{'y': 17, 'x': 49}, {'y': 19, 'x': 38}]         10   \n",
       "2  [{'y': 13, 'x': 65}, {'y': 23, 'x': 53}]         12   \n",
       "3   [{'y': 12, 'x': 93}, {'y': 8, 'x': 97}]         11   \n",
       "4  [{'y': 57, 'x': 46}, {'y': 36, 'x': 42}]         11   \n",
       "\n",
       "             subEventName                                      tags  teamId  \n",
       "0  Ground loose ball duel               [{'id': 702}, {'id': 1801}]     675  \n",
       "1                Air duel               [{'id': 701}, {'id': 1802}]     675  \n",
       "2   Ground defending duel               [{'id': 701}, {'id': 1802}]     675  \n",
       "3   Ground attacking duel  [{'id': 502}, {'id': 703}, {'id': 1801}]     675  \n",
       "4   Ground attacking duel  [{'id': 502}, {'id': 703}, {'id': 1801}]     675  "
      ]
     },
     "execution_count": 90,
     "metadata": {},
     "output_type": "execute_result"
    }
   ],
   "source": [
    "b = a.loc[a['matchId'] == 2565907]#Choosing the right match\n",
    "b = b.reset_index(drop=True)#reindexing\n",
    "b.head()"
   ]
  },
  {
   "cell_type": "code",
   "execution_count": 126,
   "metadata": {},
   "outputs": [
    {
     "data": {
      "image/png": "[encoded data removed]",
      "text/plain": [
       "<Figure size 504x360 with 1 Axes>"
      ]
     },
     "metadata": {
      "needs_background": "light"
     },
     "output_type": "display_data"
    }
   ],
   "source": [
    "green(b)"
   ]
  },
  {
   "cell_type": "markdown",
   "metadata": {},
   "source": [
    "#### Let's do the same analysis on Leonél Messi"
   ]
  },
  {
   "cell_type": "code",
   "execution_count": 92,
   "metadata": {},
   "outputs": [],
   "source": [
    "messact = events.loc[events['playerId'] == 3359]\n"
   ]
  },
  {
   "cell_type": "code",
   "execution_count": 93,
   "metadata": {},
   "outputs": [],
   "source": [
    "m = pd.concat([messact.loc[messact['eventName'] == 'Duel'], messact.loc[messact['eventName'] == 'Shot'], messact.loc[messact['eventName'] == 'Pass'], messact.loc[messact['eventName'] == 'Free Kick']])"
   ]
  },
  {
   "cell_type": "code",
   "execution_count": 94,
   "metadata": {},
   "outputs": [
    {
     "data": {
      "text/html": [
       "<div>\n",
       "<style scoped>\n",
       "    .dataframe tbody tr th:only-of-type {\n",
       "        vertical-align: middle;\n",
       "    }\n",
       "\n",
       "    .dataframe tbody tr th {\n",
       "        vertical-align: top;\n",
       "    }\n",
       "\n",
       "    .dataframe thead th {\n",
       "        text-align: right;\n",
       "    }\n",
       "</style>\n",
       "<table border=\"1\" class=\"dataframe\">\n",
       "  <thead>\n",
       "    <tr style=\"text-align: right;\">\n",
       "      <th></th>\n",
       "      <th>eventId</th>\n",
       "      <th>eventName</th>\n",
       "      <th>eventSec</th>\n",
       "      <th>id</th>\n",
       "      <th>matchId</th>\n",
       "      <th>matchPeriod</th>\n",
       "      <th>playerId</th>\n",
       "      <th>positions</th>\n",
       "      <th>subEventId</th>\n",
       "      <th>subEventName</th>\n",
       "      <th>tags</th>\n",
       "      <th>teamId</th>\n",
       "    </tr>\n",
       "  </thead>\n",
       "  <tbody>\n",
       "    <tr>\n",
       "      <th>0</th>\n",
       "      <td>1</td>\n",
       "      <td>Duel</td>\n",
       "      <td>122.168204</td>\n",
       "      <td>249644589</td>\n",
       "      <td>2565907</td>\n",
       "      <td>1H</td>\n",
       "      <td>3359</td>\n",
       "      <td>[{'y': 67, 'x': 65}, {'y': 38, 'x': 63}]</td>\n",
       "      <td>11</td>\n",
       "      <td>Ground attacking duel</td>\n",
       "      <td>[{'id': 702}, {'id': 1801}]</td>\n",
       "      <td>676</td>\n",
       "    </tr>\n",
       "    <tr>\n",
       "      <th>1</th>\n",
       "      <td>1</td>\n",
       "      <td>Duel</td>\n",
       "      <td>294.661951</td>\n",
       "      <td>249644634</td>\n",
       "      <td>2565907</td>\n",
       "      <td>1H</td>\n",
       "      <td>3359</td>\n",
       "      <td>[{'y': 57, 'x': 36}, {'y': 60, 'x': 34}]</td>\n",
       "      <td>13</td>\n",
       "      <td>Ground loose ball duel</td>\n",
       "      <td>[{'id': 701}, {'id': 1802}]</td>\n",
       "      <td>676</td>\n",
       "    </tr>\n",
       "    <tr>\n",
       "      <th>2</th>\n",
       "      <td>1</td>\n",
       "      <td>Duel</td>\n",
       "      <td>429.449101</td>\n",
       "      <td>249644663</td>\n",
       "      <td>2565907</td>\n",
       "      <td>1H</td>\n",
       "      <td>3359</td>\n",
       "      <td>[{'y': 62, 'x': 42}, {'y': 57, 'x': 36}]</td>\n",
       "      <td>11</td>\n",
       "      <td>Ground attacking duel</td>\n",
       "      <td>[{'id': 701}, {'id': 1802}]</td>\n",
       "      <td>676</td>\n",
       "    </tr>\n",
       "    <tr>\n",
       "      <th>3</th>\n",
       "      <td>1</td>\n",
       "      <td>Duel</td>\n",
       "      <td>432.507881</td>\n",
       "      <td>249644665</td>\n",
       "      <td>2565907</td>\n",
       "      <td>1H</td>\n",
       "      <td>3359</td>\n",
       "      <td>[{'y': 69, 'x': 37}, {'y': 66, 'x': 41}]</td>\n",
       "      <td>10</td>\n",
       "      <td>Air duel</td>\n",
       "      <td>[{'id': 701}, {'id': 1802}]</td>\n",
       "      <td>676</td>\n",
       "    </tr>\n",
       "    <tr>\n",
       "      <th>4</th>\n",
       "      <td>1</td>\n",
       "      <td>Duel</td>\n",
       "      <td>693.128014</td>\n",
       "      <td>249644730</td>\n",
       "      <td>2565907</td>\n",
       "      <td>1H</td>\n",
       "      <td>3359</td>\n",
       "      <td>[{'y': 43, 'x': 44}, {'y': 33, 'x': 35}]</td>\n",
       "      <td>13</td>\n",
       "      <td>Ground loose ball duel</td>\n",
       "      <td>[{'id': 703}, {'id': 1801}]</td>\n",
       "      <td>676</td>\n",
       "    </tr>\n",
       "  </tbody>\n",
       "</table>\n",
       "</div>"
      ],
      "text/plain": [
       "   eventId eventName    eventSec         id  matchId matchPeriod  playerId  \\\n",
       "0        1      Duel  122.168204  249644589  2565907          1H      3359   \n",
       "1        1      Duel  294.661951  249644634  2565907          1H      3359   \n",
       "2        1      Duel  429.449101  249644663  2565907          1H      3359   \n",
       "3        1      Duel  432.507881  249644665  2565907          1H      3359   \n",
       "4        1      Duel  693.128014  249644730  2565907          1H      3359   \n",
       "\n",
       "                                  positions subEventId  \\\n",
       "0  [{'y': 67, 'x': 65}, {'y': 38, 'x': 63}]         11   \n",
       "1  [{'y': 57, 'x': 36}, {'y': 60, 'x': 34}]         13   \n",
       "2  [{'y': 62, 'x': 42}, {'y': 57, 'x': 36}]         11   \n",
       "3  [{'y': 69, 'x': 37}, {'y': 66, 'x': 41}]         10   \n",
       "4  [{'y': 43, 'x': 44}, {'y': 33, 'x': 35}]         13   \n",
       "\n",
       "             subEventName                         tags  teamId  \n",
       "0   Ground attacking duel  [{'id': 702}, {'id': 1801}]     676  \n",
       "1  Ground loose ball duel  [{'id': 701}, {'id': 1802}]     676  \n",
       "2   Ground attacking duel  [{'id': 701}, {'id': 1802}]     676  \n",
       "3                Air duel  [{'id': 701}, {'id': 1802}]     676  \n",
       "4  Ground loose ball duel  [{'id': 703}, {'id': 1801}]     676  "
      ]
     },
     "execution_count": 94,
     "metadata": {},
     "output_type": "execute_result"
    }
   ],
   "source": [
    "rb = m.loc[m['matchId'] == 2565907]\n",
    "rb = rb.reset_index(drop=True)\n",
    "rb.head()"
   ]
  },
  {
   "cell_type": "code",
   "execution_count": 127,
   "metadata": {},
   "outputs": [
    {
     "data": {
      "image/png": "[encoded data removed]",
      "text/plain": [
       "<Figure size 504x360 with 1 Axes>"
      ]
     },
     "metadata": {
      "needs_background": "light"
     },
     "output_type": "display_data"
    }
   ],
   "source": [
    "green(rb)"
   ]
  },
  {
   "cell_type": "markdown",
   "metadata": {},
   "source": [
    "### Comments"
   ]
  },
  {
   "cell_type": "markdown",
   "metadata": {},
   "source": [
    "By looking at the two plots, there are clearly strong differences:\n",
    "1. Cristiano Ronaldo has been particularly active in two zones of the field, one inside and the other right outside the main area. Instead, Messi has only focused his game into the upper midfield, a small and less dengerous place, during the match.\n",
    "2. Cristiano Ronaldo has been moving all around the field, reaching areas outiside his main zones.\n",
    "\n",
    "This means that the defense of the Real Madrid was able to limit the movements of Messi and relegate him to a small area of the field, instead Cristiano Ronaldo, maybe thanks to his strenght and physique, has been a tough opponent for the Barcelona defence, but they manage to keep him outside the main area.\n"
   ]
  },
  {
   "cell_type": "markdown",
   "metadata": {},
   "source": [
    "### 2. Miralem Pjanic vs Jorginho\n",
    "Let's start creating the Italy dataset, since Juventus and Napoli are two teams of Serie A."
   ]
  },
  {
   "cell_type": "code",
   "execution_count": 96,
   "metadata": {},
   "outputs": [
    {
     "data": {
      "text/html": [
       "<div>\n",
       "<style scoped>\n",
       "    .dataframe tbody tr th:only-of-type {\n",
       "        vertical-align: middle;\n",
       "    }\n",
       "\n",
       "    .dataframe tbody tr th {\n",
       "        vertical-align: top;\n",
       "    }\n",
       "\n",
       "    .dataframe thead th {\n",
       "        text-align: right;\n",
       "    }\n",
       "</style>\n",
       "<table border=\"1\" class=\"dataframe\">\n",
       "  <thead>\n",
       "    <tr style=\"text-align: right;\">\n",
       "      <th></th>\n",
       "      <th>competitionId</th>\n",
       "      <th>date</th>\n",
       "      <th>dateutc</th>\n",
       "      <th>duration</th>\n",
       "      <th>gameweek</th>\n",
       "      <th>label</th>\n",
       "      <th>referees</th>\n",
       "      <th>roundId</th>\n",
       "      <th>seasonId</th>\n",
       "      <th>status</th>\n",
       "      <th>teamsData</th>\n",
       "      <th>venue</th>\n",
       "      <th>winner</th>\n",
       "      <th>wyId</th>\n",
       "    </tr>\n",
       "  </thead>\n",
       "  <tbody>\n",
       "    <tr>\n",
       "      <th>0</th>\n",
       "      <td>524</td>\n",
       "      <td>May 20, 2018 at 8:45:00 PM GMT+2</td>\n",
       "      <td>2018-05-20 18:45:00</td>\n",
       "      <td>Regular</td>\n",
       "      <td>38</td>\n",
       "      <td>Lazio - Internazionale, 2 - 3</td>\n",
       "      <td>[{'refereeId': 377206, 'role': 'referee'}, {'r...</td>\n",
       "      <td>4406278</td>\n",
       "      <td>181248</td>\n",
       "      <td>Played</td>\n",
       "      <td>{'3162': {'scoreET': 0, 'coachId': 251025, 'si...</td>\n",
       "      <td></td>\n",
       "      <td>3161</td>\n",
       "      <td>2576335</td>\n",
       "    </tr>\n",
       "    <tr>\n",
       "      <th>1</th>\n",
       "      <td>524</td>\n",
       "      <td>May 20, 2018 at 8:45:00 PM GMT+2</td>\n",
       "      <td>2018-05-20 18:45:00</td>\n",
       "      <td>Regular</td>\n",
       "      <td>38</td>\n",
       "      <td>Sassuolo - Roma, 0 - 1</td>\n",
       "      <td>[{'refereeId': 377255, 'role': 'referee'}, {'r...</td>\n",
       "      <td>4406278</td>\n",
       "      <td>181248</td>\n",
       "      <td>Played</td>\n",
       "      <td>{'3158': {'scoreET': 0, 'coachId': 210119, 'si...</td>\n",
       "      <td>MAPEI Stadium - Citt\\u00e0 del Tricolore</td>\n",
       "      <td>3158</td>\n",
       "      <td>2576336</td>\n",
       "    </tr>\n",
       "    <tr>\n",
       "      <th>2</th>\n",
       "      <td>524</td>\n",
       "      <td>May 20, 2018 at 6:00:00 PM GMT+2</td>\n",
       "      <td>2018-05-20 16:00:00</td>\n",
       "      <td>Regular</td>\n",
       "      <td>38</td>\n",
       "      <td>Cagliari - Atalanta, 1 - 0</td>\n",
       "      <td>[{'refereeId': 377247, 'role': 'referee'}, {'r...</td>\n",
       "      <td>4406278</td>\n",
       "      <td>181248</td>\n",
       "      <td>Played</td>\n",
       "      <td>{'3173': {'scoreET': 0, 'coachId': 251044, 'si...</td>\n",
       "      <td></td>\n",
       "      <td>3173</td>\n",
       "      <td>2576329</td>\n",
       "    </tr>\n",
       "    <tr>\n",
       "      <th>3</th>\n",
       "      <td>524</td>\n",
       "      <td>May 20, 2018 at 6:00:00 PM GMT+2</td>\n",
       "      <td>2018-05-20 16:00:00</td>\n",
       "      <td>Regular</td>\n",
       "      <td>38</td>\n",
       "      <td>Chievo - Benevento, 1 - 0</td>\n",
       "      <td>[{'refereeId': 377246, 'role': 'referee'}, {'r...</td>\n",
       "      <td>4406278</td>\n",
       "      <td>181248</td>\n",
       "      <td>Played</td>\n",
       "      <td>{'3165': {'scoreET': 0, 'coachId': 272970, 'si...</td>\n",
       "      <td></td>\n",
       "      <td>3165</td>\n",
       "      <td>2576330</td>\n",
       "    </tr>\n",
       "    <tr>\n",
       "      <th>4</th>\n",
       "      <td>524</td>\n",
       "      <td>May 20, 2018 at 6:00:00 PM GMT+2</td>\n",
       "      <td>2018-05-20 16:00:00</td>\n",
       "      <td>Regular</td>\n",
       "      <td>38</td>\n",
       "      <td>Udinese - Bologna, 1 - 0</td>\n",
       "      <td>[{'refereeId': 377254, 'role': 'referee'}, {'r...</td>\n",
       "      <td>4406278</td>\n",
       "      <td>181248</td>\n",
       "      <td>Played</td>\n",
       "      <td>{'3166': {'scoreET': 0, 'coachId': 20481, 'sid...</td>\n",
       "      <td></td>\n",
       "      <td>3163</td>\n",
       "      <td>2576331</td>\n",
       "    </tr>\n",
       "  </tbody>\n",
       "</table>\n",
       "</div>"
      ],
      "text/plain": [
       "   competitionId                              date              dateutc  \\\n",
       "0            524  May 20, 2018 at 8:45:00 PM GMT+2  2018-05-20 18:45:00   \n",
       "1            524  May 20, 2018 at 8:45:00 PM GMT+2  2018-05-20 18:45:00   \n",
       "2            524  May 20, 2018 at 6:00:00 PM GMT+2  2018-05-20 16:00:00   \n",
       "3            524  May 20, 2018 at 6:00:00 PM GMT+2  2018-05-20 16:00:00   \n",
       "4            524  May 20, 2018 at 6:00:00 PM GMT+2  2018-05-20 16:00:00   \n",
       "\n",
       "  duration  gameweek                          label  \\\n",
       "0  Regular        38  Lazio - Internazionale, 2 - 3   \n",
       "1  Regular        38         Sassuolo - Roma, 0 - 1   \n",
       "2  Regular        38     Cagliari - Atalanta, 1 - 0   \n",
       "3  Regular        38      Chievo - Benevento, 1 - 0   \n",
       "4  Regular        38       Udinese - Bologna, 1 - 0   \n",
       "\n",
       "                                            referees  roundId  seasonId  \\\n",
       "0  [{'refereeId': 377206, 'role': 'referee'}, {'r...  4406278    181248   \n",
       "1  [{'refereeId': 377255, 'role': 'referee'}, {'r...  4406278    181248   \n",
       "2  [{'refereeId': 377247, 'role': 'referee'}, {'r...  4406278    181248   \n",
       "3  [{'refereeId': 377246, 'role': 'referee'}, {'r...  4406278    181248   \n",
       "4  [{'refereeId': 377254, 'role': 'referee'}, {'r...  4406278    181248   \n",
       "\n",
       "   status                                          teamsData  \\\n",
       "0  Played  {'3162': {'scoreET': 0, 'coachId': 251025, 'si...   \n",
       "1  Played  {'3158': {'scoreET': 0, 'coachId': 210119, 'si...   \n",
       "2  Played  {'3173': {'scoreET': 0, 'coachId': 251044, 'si...   \n",
       "3  Played  {'3165': {'scoreET': 0, 'coachId': 272970, 'si...   \n",
       "4  Played  {'3166': {'scoreET': 0, 'coachId': 20481, 'sid...   \n",
       "\n",
       "                                      venue  winner     wyId  \n",
       "0                                              3161  2576335  \n",
       "1  MAPEI Stadium - Citt\\u00e0 del Tricolore    3158  2576336  \n",
       "2                                              3173  2576329  \n",
       "3                                              3165  2576330  \n",
       "4                                              3163  2576331  "
      ]
     },
     "execution_count": 96,
     "metadata": {},
     "output_type": "execute_result"
    }
   ],
   "source": [
    "with open(r'C:\\Users\\Notebook HP\\Desktop\\Homeworks\\HW2\\Matches\\matches_Italy.json', 'r') as myfile:\n",
    "    data = myfile.read()\n",
    "i = json.loads(data)\n",
    "Italy = pd.DataFrame(i)\n",
    "Italy.head()"
   ]
  },
  {
   "cell_type": "markdown",
   "metadata": {},
   "source": [
    "We need the wyId code to find this match even in 'events' dataset, to choose the players actions of the right match."
   ]
  },
  {
   "cell_type": "code",
   "execution_count": 97,
   "metadata": {},
   "outputs": [
    {
     "data": {
      "text/html": [
       "<div>\n",
       "<style scoped>\n",
       "    .dataframe tbody tr th:only-of-type {\n",
       "        vertical-align: middle;\n",
       "    }\n",
       "\n",
       "    .dataframe tbody tr th {\n",
       "        vertical-align: top;\n",
       "    }\n",
       "\n",
       "    .dataframe thead th {\n",
       "        text-align: right;\n",
       "    }\n",
       "</style>\n",
       "<table border=\"1\" class=\"dataframe\">\n",
       "  <thead>\n",
       "    <tr style=\"text-align: right;\">\n",
       "      <th></th>\n",
       "      <th>competitionId</th>\n",
       "      <th>date</th>\n",
       "      <th>dateutc</th>\n",
       "      <th>duration</th>\n",
       "      <th>gameweek</th>\n",
       "      <th>label</th>\n",
       "      <th>referees</th>\n",
       "      <th>roundId</th>\n",
       "      <th>seasonId</th>\n",
       "      <th>status</th>\n",
       "      <th>teamsData</th>\n",
       "      <th>venue</th>\n",
       "      <th>winner</th>\n",
       "      <th>wyId</th>\n",
       "    </tr>\n",
       "  </thead>\n",
       "  <tbody>\n",
       "    <tr>\n",
       "      <th>41</th>\n",
       "      <td>524</td>\n",
       "      <td>April 22, 2018 at 8:45:00 PM GMT+2</td>\n",
       "      <td>2018-04-22 18:45:00</td>\n",
       "      <td>Regular</td>\n",
       "      <td>34</td>\n",
       "      <td>Juventus - Napoli, 0 - 1</td>\n",
       "      <td>[{'refereeId': 377206, 'role': 'referee'}, {'r...</td>\n",
       "      <td>4406278</td>\n",
       "      <td>181248</td>\n",
       "      <td>Played</td>\n",
       "      <td>{'3159': {'scoreET': 0, 'coachId': 20386, 'sid...</td>\n",
       "      <td></td>\n",
       "      <td>3187</td>\n",
       "      <td>2576295</td>\n",
       "    </tr>\n",
       "  </tbody>\n",
       "</table>\n",
       "</div>"
      ],
      "text/plain": [
       "    competitionId                                date              dateutc  \\\n",
       "41            524  April 22, 2018 at 8:45:00 PM GMT+2  2018-04-22 18:45:00   \n",
       "\n",
       "   duration  gameweek                     label  \\\n",
       "41  Regular        34  Juventus - Napoli, 0 - 1   \n",
       "\n",
       "                                             referees  roundId  seasonId  \\\n",
       "41  [{'refereeId': 377206, 'role': 'referee'}, {'r...  4406278    181248   \n",
       "\n",
       "    status                                          teamsData venue  winner  \\\n",
       "41  Played  {'3159': {'scoreET': 0, 'coachId': 20386, 'sid...          3187   \n",
       "\n",
       "       wyId  \n",
       "41  2576295  "
      ]
     },
     "execution_count": 97,
     "metadata": {},
     "output_type": "execute_result"
    }
   ],
   "source": [
    "Italy.loc[Italy['label'] == 'Juventus - Napoli, 0 - 1']"
   ]
  },
  {
   "cell_type": "markdown",
   "metadata": {},
   "source": [
    "The match Juventus - Napoli has wyId: 2576295"
   ]
  },
  {
   "cell_type": "markdown",
   "metadata": {},
   "source": [
    "#### Miralem Pjanic plot of passes"
   ]
  },
  {
   "cell_type": "markdown",
   "metadata": {},
   "source": [
    "Now we can search for the player Miralem Pjanic in the 'players' dataset, we need his wyId code."
   ]
  },
  {
   "cell_type": "code",
   "execution_count": 98,
   "metadata": {},
   "outputs": [
    {
     "data": {
      "text/html": [
       "<div>\n",
       "<style scoped>\n",
       "    .dataframe tbody tr th:only-of-type {\n",
       "        vertical-align: middle;\n",
       "    }\n",
       "\n",
       "    .dataframe tbody tr th {\n",
       "        vertical-align: top;\n",
       "    }\n",
       "\n",
       "    .dataframe thead th {\n",
       "        text-align: right;\n",
       "    }\n",
       "</style>\n",
       "<table border=\"1\" class=\"dataframe\">\n",
       "  <thead>\n",
       "    <tr style=\"text-align: right;\">\n",
       "      <th></th>\n",
       "      <th>birthArea</th>\n",
       "      <th>birthDate</th>\n",
       "      <th>currentNationalTeamId</th>\n",
       "      <th>currentTeamId</th>\n",
       "      <th>firstName</th>\n",
       "      <th>foot</th>\n",
       "      <th>height</th>\n",
       "      <th>lastName</th>\n",
       "      <th>middleName</th>\n",
       "      <th>passportArea</th>\n",
       "      <th>role</th>\n",
       "      <th>shortName</th>\n",
       "      <th>weight</th>\n",
       "      <th>wyId</th>\n",
       "    </tr>\n",
       "  </thead>\n",
       "  <tbody>\n",
       "    <tr>\n",
       "      <th>1482</th>\n",
       "      <td>{'name': 'Bosnia-Herzegovina', 'id': '70', 'al...</td>\n",
       "      <td>1990-04-02</td>\n",
       "      <td>null</td>\n",
       "      <td>3159</td>\n",
       "      <td>Miralem</td>\n",
       "      <td>right</td>\n",
       "      <td>180</td>\n",
       "      <td>Pjani\\u0107</td>\n",
       "      <td></td>\n",
       "      <td>{'name': 'Luxembourg', 'id': '442', 'alpha3cod...</td>\n",
       "      <td>{'code2': 'MD', 'code3': 'MID', 'name': 'Midfi...</td>\n",
       "      <td>M. Pjani\\u0107</td>\n",
       "      <td>74</td>\n",
       "      <td>20443</td>\n",
       "    </tr>\n",
       "  </tbody>\n",
       "</table>\n",
       "</div>"
      ],
      "text/plain": [
       "                                              birthArea   birthDate  \\\n",
       "1482  {'name': 'Bosnia-Herzegovina', 'id': '70', 'al...  1990-04-02   \n",
       "\n",
       "     currentNationalTeamId currentTeamId firstName   foot  height  \\\n",
       "1482                  null          3159   Miralem  right     180   \n",
       "\n",
       "         lastName middleName  \\\n",
       "1482  Pjani\\u0107              \n",
       "\n",
       "                                           passportArea  \\\n",
       "1482  {'name': 'Luxembourg', 'id': '442', 'alpha3cod...   \n",
       "\n",
       "                                                   role       shortName  \\\n",
       "1482  {'code2': 'MD', 'code3': 'MID', 'name': 'Midfi...  M. Pjani\\u0107   \n",
       "\n",
       "      weight   wyId  \n",
       "1482      74  20443  "
      ]
     },
     "execution_count": 98,
     "metadata": {},
     "output_type": "execute_result"
    }
   ],
   "source": [
    "pia = players.loc[players['firstName'] == 'Miralem']\n",
    "pia"
   ]
  },
  {
   "cell_type": "markdown",
   "metadata": {},
   "source": [
    "#### Making the heat-arrow plot"
   ]
  },
  {
   "cell_type": "code",
   "execution_count": 99,
   "metadata": {},
   "outputs": [],
   "source": [
    "#Opening and loading the json file 'events_Italy'\n",
    "with open(r'C:\\Users\\Notebook HP\\Desktop\\Homeworks\\HW2\\Events\\events_Italy.json', 'r') as myfile:\n",
    "    data = myfile.read()\n",
    "evit = json.loads(data)\n",
    "Itaev = pd.DataFrame(evit)#Creating a pandas dataframe"
   ]
  },
  {
   "cell_type": "code",
   "execution_count": 100,
   "metadata": {},
   "outputs": [
    {
     "data": {
      "text/html": [
       "<div>\n",
       "<style scoped>\n",
       "    .dataframe tbody tr th:only-of-type {\n",
       "        vertical-align: middle;\n",
       "    }\n",
       "\n",
       "    .dataframe tbody tr th {\n",
       "        vertical-align: top;\n",
       "    }\n",
       "\n",
       "    .dataframe thead th {\n",
       "        text-align: right;\n",
       "    }\n",
       "</style>\n",
       "<table border=\"1\" class=\"dataframe\">\n",
       "  <thead>\n",
       "    <tr style=\"text-align: right;\">\n",
       "      <th></th>\n",
       "      <th>eventId</th>\n",
       "      <th>eventName</th>\n",
       "      <th>eventSec</th>\n",
       "      <th>id</th>\n",
       "      <th>matchId</th>\n",
       "      <th>matchPeriod</th>\n",
       "      <th>playerId</th>\n",
       "      <th>positions</th>\n",
       "      <th>subEventId</th>\n",
       "      <th>subEventName</th>\n",
       "      <th>tags</th>\n",
       "      <th>teamId</th>\n",
       "    </tr>\n",
       "  </thead>\n",
       "  <tbody>\n",
       "    <tr>\n",
       "      <th>573105</th>\n",
       "      <td>8</td>\n",
       "      <td>Pass</td>\n",
       "      <td>26.160914</td>\n",
       "      <td>245487395</td>\n",
       "      <td>2576295</td>\n",
       "      <td>1H</td>\n",
       "      <td>20443</td>\n",
       "      <td>[{'y': 55, 'x': 28}, {'y': 2, 'x': 39}]</td>\n",
       "      <td>85</td>\n",
       "      <td>Simple pass</td>\n",
       "      <td>[{'id': 1801}]</td>\n",
       "      <td>3159</td>\n",
       "    </tr>\n",
       "    <tr>\n",
       "      <th>573107</th>\n",
       "      <td>8</td>\n",
       "      <td>Pass</td>\n",
       "      <td>33.120179</td>\n",
       "      <td>245487399</td>\n",
       "      <td>2576295</td>\n",
       "      <td>1H</td>\n",
       "      <td>20443</td>\n",
       "      <td>[{'y': 30, 'x': 31}, {'y': 84, 'x': 31}]</td>\n",
       "      <td>83</td>\n",
       "      <td>High pass</td>\n",
       "      <td>[{'id': 1801}]</td>\n",
       "      <td>3159</td>\n",
       "    </tr>\n",
       "    <tr>\n",
       "      <th>573126</th>\n",
       "      <td>8</td>\n",
       "      <td>Pass</td>\n",
       "      <td>120.169376</td>\n",
       "      <td>245487410</td>\n",
       "      <td>2576295</td>\n",
       "      <td>1H</td>\n",
       "      <td>20443</td>\n",
       "      <td>[{'y': 62, 'x': 63}, {'y': 47, 'x': 63}]</td>\n",
       "      <td>85</td>\n",
       "      <td>Simple pass</td>\n",
       "      <td>[{'id': 1401}, {'id': 1801}]</td>\n",
       "      <td>3159</td>\n",
       "    </tr>\n",
       "    <tr>\n",
       "      <th>573220</th>\n",
       "      <td>8</td>\n",
       "      <td>Pass</td>\n",
       "      <td>352.941005</td>\n",
       "      <td>245487509</td>\n",
       "      <td>2576295</td>\n",
       "      <td>1H</td>\n",
       "      <td>20443</td>\n",
       "      <td>[{'y': 26, 'x': 25}, {'y': 0, 'x': 31}]</td>\n",
       "      <td>85</td>\n",
       "      <td>Simple pass</td>\n",
       "      <td>[{'id': 1401}, {'id': 1001}, {'id': 1802}]</td>\n",
       "      <td>3159</td>\n",
       "    </tr>\n",
       "    <tr>\n",
       "      <th>573225</th>\n",
       "      <td>8</td>\n",
       "      <td>Pass</td>\n",
       "      <td>432.992312</td>\n",
       "      <td>245487518</td>\n",
       "      <td>2576295</td>\n",
       "      <td>1H</td>\n",
       "      <td>20443</td>\n",
       "      <td>[{'y': 51, 'x': 26}, {'y': 76, 'x': 13}]</td>\n",
       "      <td>85</td>\n",
       "      <td>Simple pass</td>\n",
       "      <td>[{'id': 1801}]</td>\n",
       "      <td>3159</td>\n",
       "    </tr>\n",
       "  </tbody>\n",
       "</table>\n",
       "</div>"
      ],
      "text/plain": [
       "        eventId eventName    eventSec         id  matchId matchPeriod  \\\n",
       "573105        8      Pass   26.160914  245487395  2576295          1H   \n",
       "573107        8      Pass   33.120179  245487399  2576295          1H   \n",
       "573126        8      Pass  120.169376  245487410  2576295          1H   \n",
       "573220        8      Pass  352.941005  245487509  2576295          1H   \n",
       "573225        8      Pass  432.992312  245487518  2576295          1H   \n",
       "\n",
       "        playerId                                 positions subEventId  \\\n",
       "573105     20443   [{'y': 55, 'x': 28}, {'y': 2, 'x': 39}]         85   \n",
       "573107     20443  [{'y': 30, 'x': 31}, {'y': 84, 'x': 31}]         83   \n",
       "573126     20443  [{'y': 62, 'x': 63}, {'y': 47, 'x': 63}]         85   \n",
       "573220     20443   [{'y': 26, 'x': 25}, {'y': 0, 'x': 31}]         85   \n",
       "573225     20443  [{'y': 51, 'x': 26}, {'y': 76, 'x': 13}]         85   \n",
       "\n",
       "       subEventName                                        tags  teamId  \n",
       "573105  Simple pass                              [{'id': 1801}]    3159  \n",
       "573107    High pass                              [{'id': 1801}]    3159  \n",
       "573126  Simple pass                [{'id': 1401}, {'id': 1801}]    3159  \n",
       "573220  Simple pass  [{'id': 1401}, {'id': 1001}, {'id': 1802}]    3159  \n",
       "573225  Simple pass                              [{'id': 1801}]    3159  "
      ]
     },
     "execution_count": 100,
     "metadata": {},
     "output_type": "execute_result"
    }
   ],
   "source": [
    "#These are all the passes of Pjanic during the match\n",
    "Pjanic = Itaev.loc[(Itaev['matchId'] == 2576295) & (Itaev['playerId'] == 20443) & (Itaev['eventName'] == 'Pass')]\n",
    "Pjanic.head()"
   ]
  },
  {
   "cell_type": "markdown",
   "metadata": {},
   "source": [
    "In this visualization, we will plot the heat map and the arrow map concurrently, highlightning the accurate passes and the inaccurate ones."
   ]
  },
  {
   "cell_type": "code",
   "execution_count": 101,
   "metadata": {},
   "outputs": [
    {
     "data": {
      "text/plain": [
       "573105                                [{'id': 1801}]\n",
       "573107                                [{'id': 1801}]\n",
       "573126                  [{'id': 1401}, {'id': 1801}]\n",
       "573220    [{'id': 1401}, {'id': 1001}, {'id': 1802}]\n",
       "573225                                [{'id': 1801}]\n",
       "Name: tags, dtype: object"
      ]
     },
     "execution_count": 101,
     "metadata": {},
     "output_type": "execute_result"
    }
   ],
   "source": [
    "tag = Pjanic['tags']#This is the 'tags' column that we will transform into a list of values\n",
    "tag.head()"
   ]
  },
  {
   "cell_type": "code",
   "execution_count": 102,
   "metadata": {},
   "outputs": [
    {
     "data": {
      "text/plain": [
       "[[1801], [1801], [1401, 1801], [1401, 1001, 1802], [1801]]"
      ]
     },
     "execution_count": 102,
     "metadata": {},
     "output_type": "execute_result"
    }
   ],
   "source": [
    "v = tagg(tag)\n",
    "v[:5]"
   ]
  },
  {
   "cell_type": "markdown",
   "metadata": {},
   "source": [
    "Now, we can verify if a pass has been accurate or not by looking at the tag number 1801 for each event."
   ]
  },
  {
   "cell_type": "code",
   "execution_count": 128,
   "metadata": {},
   "outputs": [
    {
     "data": {
      "image/png": "[encoded data removed]",
      "text/plain": [
       "<Figure size 504x360 with 1 Axes>"
      ]
     },
     "metadata": {
      "needs_background": "light"
     },
     "output_type": "display_data"
    }
   ],
   "source": [
    "calcio(Pjanic,v)"
   ]
  },
  {
   "cell_type": "markdown",
   "metadata": {},
   "source": [
    "#### Jorginho plot of passes"
   ]
  },
  {
   "cell_type": "code",
   "execution_count": 104,
   "metadata": {},
   "outputs": [
    {
     "data": {
      "text/html": [
       "<div>\n",
       "<style scoped>\n",
       "    .dataframe tbody tr th:only-of-type {\n",
       "        vertical-align: middle;\n",
       "    }\n",
       "\n",
       "    .dataframe tbody tr th {\n",
       "        vertical-align: top;\n",
       "    }\n",
       "\n",
       "    .dataframe thead th {\n",
       "        text-align: right;\n",
       "    }\n",
       "</style>\n",
       "<table border=\"1\" class=\"dataframe\">\n",
       "  <thead>\n",
       "    <tr style=\"text-align: right;\">\n",
       "      <th></th>\n",
       "      <th>birthArea</th>\n",
       "      <th>birthDate</th>\n",
       "      <th>currentNationalTeamId</th>\n",
       "      <th>currentTeamId</th>\n",
       "      <th>firstName</th>\n",
       "      <th>foot</th>\n",
       "      <th>height</th>\n",
       "      <th>lastName</th>\n",
       "      <th>middleName</th>\n",
       "      <th>passportArea</th>\n",
       "      <th>role</th>\n",
       "      <th>shortName</th>\n",
       "      <th>weight</th>\n",
       "      <th>wyId</th>\n",
       "    </tr>\n",
       "  </thead>\n",
       "  <tbody>\n",
       "    <tr>\n",
       "      <th>1658</th>\n",
       "      <td>{'name': 'Brazil', 'id': '76', 'alpha3code': '...</td>\n",
       "      <td>1991-12-20</td>\n",
       "      <td>3757</td>\n",
       "      <td>3187</td>\n",
       "      <td>Jorge Luiz</td>\n",
       "      <td>right</td>\n",
       "      <td>180</td>\n",
       "      <td>Frello Filho</td>\n",
       "      <td></td>\n",
       "      <td>{'name': 'Italy', 'id': '380', 'alpha3code': '...</td>\n",
       "      <td>{'code2': 'MD', 'code3': 'MID', 'name': 'Midfi...</td>\n",
       "      <td>Jorginho</td>\n",
       "      <td>65</td>\n",
       "      <td>21315</td>\n",
       "    </tr>\n",
       "  </tbody>\n",
       "</table>\n",
       "</div>"
      ],
      "text/plain": [
       "                                              birthArea   birthDate  \\\n",
       "1658  {'name': 'Brazil', 'id': '76', 'alpha3code': '...  1991-12-20   \n",
       "\n",
       "     currentNationalTeamId currentTeamId   firstName   foot  height  \\\n",
       "1658                  3757          3187  Jorge Luiz  right     180   \n",
       "\n",
       "          lastName middleName  \\\n",
       "1658  Frello Filho              \n",
       "\n",
       "                                           passportArea  \\\n",
       "1658  {'name': 'Italy', 'id': '380', 'alpha3code': '...   \n",
       "\n",
       "                                                   role shortName  weight  \\\n",
       "1658  {'code2': 'MD', 'code3': 'MID', 'name': 'Midfi...  Jorginho      65   \n",
       "\n",
       "       wyId  \n",
       "1658  21315  "
      ]
     },
     "execution_count": 104,
     "metadata": {},
     "output_type": "execute_result"
    }
   ],
   "source": [
    "jor = players.loc[players['firstName'] == 'Jorge Luiz'] #Searching for the wyId code of the player\n",
    "jor"
   ]
  },
  {
   "cell_type": "code",
   "execution_count": 105,
   "metadata": {},
   "outputs": [
    {
     "data": {
      "text/html": [
       "<div>\n",
       "<style scoped>\n",
       "    .dataframe tbody tr th:only-of-type {\n",
       "        vertical-align: middle;\n",
       "    }\n",
       "\n",
       "    .dataframe tbody tr th {\n",
       "        vertical-align: top;\n",
       "    }\n",
       "\n",
       "    .dataframe thead th {\n",
       "        text-align: right;\n",
       "    }\n",
       "</style>\n",
       "<table border=\"1\" class=\"dataframe\">\n",
       "  <thead>\n",
       "    <tr style=\"text-align: right;\">\n",
       "      <th></th>\n",
       "      <th>eventId</th>\n",
       "      <th>eventName</th>\n",
       "      <th>eventSec</th>\n",
       "      <th>id</th>\n",
       "      <th>matchId</th>\n",
       "      <th>matchPeriod</th>\n",
       "      <th>playerId</th>\n",
       "      <th>positions</th>\n",
       "      <th>subEventId</th>\n",
       "      <th>subEventName</th>\n",
       "      <th>tags</th>\n",
       "      <th>teamId</th>\n",
       "    </tr>\n",
       "  </thead>\n",
       "  <tbody>\n",
       "    <tr>\n",
       "      <th>573145</th>\n",
       "      <td>8</td>\n",
       "      <td>Pass</td>\n",
       "      <td>166.338197</td>\n",
       "      <td>245487404</td>\n",
       "      <td>2576295</td>\n",
       "      <td>1H</td>\n",
       "      <td>21315</td>\n",
       "      <td>[{'y': 75, 'x': 47}, {'y': 71, 'x': 62}]</td>\n",
       "      <td>85</td>\n",
       "      <td>Simple pass</td>\n",
       "      <td>[{'id': 1801}]</td>\n",
       "      <td>3187</td>\n",
       "    </tr>\n",
       "    <tr>\n",
       "      <th>573164</th>\n",
       "      <td>8</td>\n",
       "      <td>Pass</td>\n",
       "      <td>206.466357</td>\n",
       "      <td>245487433</td>\n",
       "      <td>2576295</td>\n",
       "      <td>1H</td>\n",
       "      <td>21315</td>\n",
       "      <td>[{'y': 44, 'x': 71}, {'y': 42, 'x': 69}]</td>\n",
       "      <td>82</td>\n",
       "      <td>Head pass</td>\n",
       "      <td>[{'id': 1401}, {'id': 1802}]</td>\n",
       "      <td>3187</td>\n",
       "    </tr>\n",
       "    <tr>\n",
       "      <th>573188</th>\n",
       "      <td>8</td>\n",
       "      <td>Pass</td>\n",
       "      <td>250.114192</td>\n",
       "      <td>245487461</td>\n",
       "      <td>2576295</td>\n",
       "      <td>1H</td>\n",
       "      <td>21315</td>\n",
       "      <td>[{'y': 72, 'x': 47}, {'y': 96, 'x': 61}]</td>\n",
       "      <td>85</td>\n",
       "      <td>Simple pass</td>\n",
       "      <td>[{'id': 1801}]</td>\n",
       "      <td>3187</td>\n",
       "    </tr>\n",
       "    <tr>\n",
       "      <th>573231</th>\n",
       "      <td>8</td>\n",
       "      <td>Pass</td>\n",
       "      <td>446.557147</td>\n",
       "      <td>245487500</td>\n",
       "      <td>2576295</td>\n",
       "      <td>1H</td>\n",
       "      <td>21315</td>\n",
       "      <td>[{'y': 28, 'x': 57}, {'y': 33, 'x': 77}]</td>\n",
       "      <td>85</td>\n",
       "      <td>Simple pass</td>\n",
       "      <td>[{'id': 1801}]</td>\n",
       "      <td>3187</td>\n",
       "    </tr>\n",
       "    <tr>\n",
       "      <th>573237</th>\n",
       "      <td>8</td>\n",
       "      <td>Pass</td>\n",
       "      <td>456.587989</td>\n",
       "      <td>245487506</td>\n",
       "      <td>2576295</td>\n",
       "      <td>1H</td>\n",
       "      <td>21315</td>\n",
       "      <td>[{'y': 25, 'x': 61}, {'y': 13, 'x': 74}]</td>\n",
       "      <td>85</td>\n",
       "      <td>Simple pass</td>\n",
       "      <td>[{'id': 1801}]</td>\n",
       "      <td>3187</td>\n",
       "    </tr>\n",
       "  </tbody>\n",
       "</table>\n",
       "</div>"
      ],
      "text/plain": [
       "        eventId eventName    eventSec         id  matchId matchPeriod  \\\n",
       "573145        8      Pass  166.338197  245487404  2576295          1H   \n",
       "573164        8      Pass  206.466357  245487433  2576295          1H   \n",
       "573188        8      Pass  250.114192  245487461  2576295          1H   \n",
       "573231        8      Pass  446.557147  245487500  2576295          1H   \n",
       "573237        8      Pass  456.587989  245487506  2576295          1H   \n",
       "\n",
       "        playerId                                 positions subEventId  \\\n",
       "573145     21315  [{'y': 75, 'x': 47}, {'y': 71, 'x': 62}]         85   \n",
       "573164     21315  [{'y': 44, 'x': 71}, {'y': 42, 'x': 69}]         82   \n",
       "573188     21315  [{'y': 72, 'x': 47}, {'y': 96, 'x': 61}]         85   \n",
       "573231     21315  [{'y': 28, 'x': 57}, {'y': 33, 'x': 77}]         85   \n",
       "573237     21315  [{'y': 25, 'x': 61}, {'y': 13, 'x': 74}]         85   \n",
       "\n",
       "       subEventName                          tags  teamId  \n",
       "573145  Simple pass                [{'id': 1801}]    3187  \n",
       "573164    Head pass  [{'id': 1401}, {'id': 1802}]    3187  \n",
       "573188  Simple pass                [{'id': 1801}]    3187  \n",
       "573231  Simple pass                [{'id': 1801}]    3187  \n",
       "573237  Simple pass                [{'id': 1801}]    3187  "
      ]
     },
     "execution_count": 105,
     "metadata": {},
     "output_type": "execute_result"
    }
   ],
   "source": [
    "#Choosing only the event 'Pass'\n",
    "Jorginho = Itaev.loc[(Itaev['matchId'] == 2576295) & (Itaev['playerId'] == 21315) & (Itaev['eventName'] == 'Pass')]\n",
    "Jorginho.head() "
   ]
  },
  {
   "cell_type": "code",
   "execution_count": 106,
   "metadata": {},
   "outputs": [
    {
     "data": {
      "text/plain": [
       "573145                  [{'id': 1801}]\n",
       "573164    [{'id': 1401}, {'id': 1802}]\n",
       "573188                  [{'id': 1801}]\n",
       "573231                  [{'id': 1801}]\n",
       "573237                  [{'id': 1801}]\n",
       "Name: tags, dtype: object"
      ]
     },
     "execution_count": 106,
     "metadata": {},
     "output_type": "execute_result"
    }
   ],
   "source": [
    "tagj = Jorginho['tags']\n",
    "tagj.head()"
   ]
  },
  {
   "cell_type": "code",
   "execution_count": 107,
   "metadata": {},
   "outputs": [
    {
     "data": {
      "text/plain": [
       "[[1801], [1401, 1802], [1801], [1801], [1801]]"
      ]
     },
     "execution_count": 107,
     "metadata": {},
     "output_type": "execute_result"
    }
   ],
   "source": [
    "w = tagg(tagj)\n",
    "w[:5]"
   ]
  },
  {
   "cell_type": "code",
   "execution_count": 129,
   "metadata": {},
   "outputs": [
    {
     "data": {
      "image/png": "[encoded data removed]",
      "text/plain": [
       "<Figure size 504x360 with 1 Axes>"
      ]
     },
     "metadata": {
      "needs_background": "light"
     },
     "output_type": "display_data"
    }
   ],
   "source": [
    "calcio(Jorginho,w)"
   ]
  },
  {
   "cell_type": "markdown",
   "metadata": {},
   "source": [
    "### Comments"
   ]
  },
  {
   "cell_type": "markdown",
   "metadata": {},
   "source": [
    "By looking at the heat maps, we can clearly notice that even if both are midfielders, Jorginho is in a much more advanced position than Pjanic. The difference in the number of passes between the two players is once again on Jorginho's side, even though Pjanic manages to overcome it in terms of precision, with only one inaccurate pass. However, all the inaccurate passages of Jorginho are at least towards the attack area, while Pjanhic not only never approached there, but none of his passages seems to be able to reach the area. So, going to look at the game statistics linked to the track of this exercise, we observe a 60% possession of Napoli, and one of 40% of Juventus, therefore, since the victory belongs to Napoli, perhaps it would have been better to concentrate on the quantity of forward passes, and not just on their accuracy."
   ]
  },
  {
   "cell_type": "code",
   "execution_count": null,
   "metadata": {},
   "outputs": [],
   "source": []
  }
 ],
 "metadata": {
  "kernelspec": {
   "display_name": "Python 3",
   "language": "python",
   "name": "python3"
  },
  "language_info": {
   "codemirror_mode": {
    "name": "ipython",
    "version": 3
   },
   "file_extension": ".py",
   "mimetype": "text/x-python",
   "name": "python",
   "nbconvert_exporter": "python",
   "pygments_lexer": "ipython3",
   "version": "3.7.1"
  }
 },
 "nbformat": 4,
 "nbformat_minor": 2
}
